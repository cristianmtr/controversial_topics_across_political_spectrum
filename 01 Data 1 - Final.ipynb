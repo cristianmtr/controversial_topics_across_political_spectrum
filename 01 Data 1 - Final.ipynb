{
 "cells": [
  {
   "cell_type": "code",
   "execution_count": 1,
   "metadata": {},
   "outputs": [],
   "source": [
    "from tqdm import tqdm_notebook as tqdm\n",
    "import numpy as np\n",
    "import pandas as pd\n",
    "import praw\n",
    "\n",
    "import pickle\n",
    "\n",
    "from markdown import markdown\n",
    "\n",
    "\n",
    "from bs4 import BeautifulSoup as bs"
   ]
  },
  {
   "cell_type": "code",
   "execution_count": 2,
   "metadata": {},
   "outputs": [],
   "source": [
    "reddit = praw.Reddit(client_id='vKDJ34lnNRAt5Q',\n",
    "                     client_secret='ap0vMAKpJ7ukjRAEQLCGltyA-so',\n",
    "                     password='thisisapassword',\n",
    "                     user_agent='testscript by /u/throwawaytsds',\n",
    "                     username='throwawaytsds')"
   ]
  },
  {
   "cell_type": "code",
   "execution_count": 3,
   "metadata": {},
   "outputs": [
    {
     "name": "stdout",
     "output_type": "stream",
     "text": [
      "throwawaytsds\n"
     ]
    }
   ],
   "source": [
    "print(reddit.user.me())\n"
   ]
  },
  {
   "cell_type": "markdown",
   "metadata": {},
   "source": [
    "# Collect $n$ submissions in political parties subreddits ('controversial')"
   ]
  },
  {
   "cell_type": "code",
   "execution_count": null,
   "metadata": {},
   "outputs": [],
   "source": [
    "n = 10000\n",
    "\n",
    "\n",
    "scraped = {}\n",
    "for subreddit in ['democrats', 'republican']:\n",
    "    submissions = reddit.subreddit(subreddit).controversial('all',limit=n)\n",
    "    if subreddit not in scraped.keys():\n",
    "        scraped[subreddit] = []\n",
    "    for _ in tqdm(list(range(n))):\n",
    "        try:\n",
    "            submission = submissions.next()\n",
    "            scraped[subreddit].append(submission)\n",
    "        except StopIteration as e:\n",
    "            print('end of iteration')\n",
    "            break\n",
    "        except Exception as e:\n",
    "            print('something else happened')\n",
    "            print(e)"
   ]
  },
  {
   "cell_type": "code",
   "execution_count": 88,
   "metadata": {},
   "outputs": [
    {
     "name": "stdout",
     "output_type": "stream",
     "text": [
      "3806\n",
      "2529\n"
     ]
    }
   ],
   "source": [
    "for k in list(scraped.keys()):\n",
    "    print(len(scraped[k]))"
   ]
  },
  {
   "cell_type": "code",
   "execution_count": 68,
   "metadata": {},
   "outputs": [],
   "source": [
    "scraped['democrat'] = scraped['democrats']\n",
    "del scraped['democrats']"
   ]
  },
  {
   "cell_type": "code",
   "execution_count": 69,
   "metadata": {},
   "outputs": [],
   "source": [
    "np.save('scraped.npy', scraped)"
   ]
  },
  {
   "cell_type": "code",
   "execution_count": 5,
   "metadata": {},
   "outputs": [
    {
     "data": {
      "text/plain": [
       "dict_keys(['republican', 'democrat'])"
      ]
     },
     "execution_count": 5,
     "metadata": {},
     "output_type": "execute_result"
    }
   ],
   "source": [
    "scraped = np.load('scraped.npy')\n",
    "scraped = scraped.item()\n",
    "scraped.keys()"
   ]
  },
  {
   "cell_type": "code",
   "execution_count": 6,
   "metadata": {},
   "outputs": [
    {
     "data": {
      "text/plain": [
       "Submission(id='zxcr3')"
      ]
     },
     "execution_count": 6,
     "metadata": {},
     "output_type": "execute_result"
    }
   ],
   "source": [
    "scraped['republican'][0]"
   ]
  },
  {
   "cell_type": "code",
   "execution_count": 7,
   "metadata": {},
   "outputs": [],
   "source": [
    "data = {\n",
    "    'ups': [],\n",
    "    'ratio': [],\n",
    "    'title': [],\n",
    "    'text': [],\n",
    "    'nr_comments': [],\n",
    "    'label': []\n",
    "}"
   ]
  },
  {
   "cell_type": "code",
   "execution_count": null,
   "metadata": {},
   "outputs": [],
   "source": [
    "i = 0\n",
    "for label in scraped.keys():\n",
    "    for sub in tqdm(scraped[label]):\n",
    "        data['ups'].append(sub.ups)\n",
    "        data['ratio'].append(sub.upvote_ratio)\n",
    "        data['title'].append(sub.title)\n",
    "        data['text'].append(sub.selftext)\n",
    "        data['nr_comments'].append(sub.num_comments)\n",
    "        data['label'].append(label)"
   ]
  },
  {
   "cell_type": "code",
   "execution_count": null,
   "metadata": {},
   "outputs": [],
   "source": [
    "df = pd.DataFrame.from_dict(data)"
   ]
  },
  {
   "cell_type": "code",
   "execution_count": null,
   "metadata": {},
   "outputs": [],
   "source": [
    "df.to_csv('scraped.pd')"
   ]
  },
  {
   "cell_type": "code",
   "execution_count": 9,
   "metadata": {},
   "outputs": [],
   "source": [
    "df = pd.read_csv('scraped.pd',index_col=0)"
   ]
  },
  {
   "cell_type": "code",
   "execution_count": 26,
   "metadata": {},
   "outputs": [
    {
     "data": {
      "text/html": [
       "<div>\n",
       "<style scoped>\n",
       "    .dataframe tbody tr th:only-of-type {\n",
       "        vertical-align: middle;\n",
       "    }\n",
       "\n",
       "    .dataframe tbody tr th {\n",
       "        vertical-align: top;\n",
       "    }\n",
       "\n",
       "    .dataframe thead th {\n",
       "        text-align: right;\n",
       "    }\n",
       "</style>\n",
       "<table border=\"1\" class=\"dataframe\">\n",
       "  <thead>\n",
       "    <tr style=\"text-align: right;\">\n",
       "      <th></th>\n",
       "      <th>ups</th>\n",
       "      <th>ratio</th>\n",
       "      <th>title</th>\n",
       "      <th>text</th>\n",
       "      <th>nr_comments</th>\n",
       "      <th>label</th>\n",
       "    </tr>\n",
       "  </thead>\n",
       "  <tbody>\n",
       "    <tr>\n",
       "      <th>194</th>\n",
       "      <td>12</td>\n",
       "      <td>0.55</td>\n",
       "      <td>Obama runs from responsibility yet again.</td>\n",
       "      <td>NaN</td>\n",
       "      <td>15</td>\n",
       "      <td>republican</td>\n",
       "    </tr>\n",
       "    <tr>\n",
       "      <th>1270</th>\n",
       "      <td>0</td>\n",
       "      <td>0.47</td>\n",
       "      <td>Why Precisely Is Bernie Sanders Against Repara...</td>\n",
       "      <td>NaN</td>\n",
       "      <td>19</td>\n",
       "      <td>democrat</td>\n",
       "    </tr>\n",
       "    <tr>\n",
       "      <th>254</th>\n",
       "      <td>0</td>\n",
       "      <td>0.49</td>\n",
       "      <td>Whoops: PolitiFact's Romney 'Lie of the Year' ...</td>\n",
       "      <td>NaN</td>\n",
       "      <td>22</td>\n",
       "      <td>republican</td>\n",
       "    </tr>\n",
       "    <tr>\n",
       "      <th>116</th>\n",
       "      <td>0</td>\n",
       "      <td>0.49</td>\n",
       "      <td>North Korea says it will launch long-range roc...</td>\n",
       "      <td>NaN</td>\n",
       "      <td>25</td>\n",
       "      <td>republican</td>\n",
       "    </tr>\n",
       "    <tr>\n",
       "      <th>1294</th>\n",
       "      <td>0</td>\n",
       "      <td>0.50</td>\n",
       "      <td>The Bernie Bros are out in full force harassin...</td>\n",
       "      <td>NaN</td>\n",
       "      <td>1</td>\n",
       "      <td>democrat</td>\n",
       "    </tr>\n",
       "    <tr>\n",
       "      <th>1302</th>\n",
       "      <td>0</td>\n",
       "      <td>0.46</td>\n",
       "      <td>Rant</td>\n",
       "      <td>This will probably be down voted or removed, b...</td>\n",
       "      <td>19</td>\n",
       "      <td>democrat</td>\n",
       "    </tr>\n",
       "    <tr>\n",
       "      <th>1965</th>\n",
       "      <td>2</td>\n",
       "      <td>0.50</td>\n",
       "      <td>Financial titans behind slam on Clinton: Hedge...</td>\n",
       "      <td>NaN</td>\n",
       "      <td>1</td>\n",
       "      <td>democrat</td>\n",
       "    </tr>\n",
       "    <tr>\n",
       "      <th>432</th>\n",
       "      <td>0</td>\n",
       "      <td>0.48</td>\n",
       "      <td>This is Why White Progressives Are Racist</td>\n",
       "      <td>NaN</td>\n",
       "      <td>11</td>\n",
       "      <td>republican</td>\n",
       "    </tr>\n",
       "    <tr>\n",
       "      <th>1069</th>\n",
       "      <td>16</td>\n",
       "      <td>0.58</td>\n",
       "      <td>PolitiFact: Pro-life Scott Walker accused of a...</td>\n",
       "      <td>NaN</td>\n",
       "      <td>5</td>\n",
       "      <td>democrat</td>\n",
       "    </tr>\n",
       "    <tr>\n",
       "      <th>1356</th>\n",
       "      <td>1</td>\n",
       "      <td>0.52</td>\n",
       "      <td>Watch Hillary comfort a little girl who fears ...</td>\n",
       "      <td>NaN</td>\n",
       "      <td>10</td>\n",
       "      <td>democrat</td>\n",
       "    </tr>\n",
       "  </tbody>\n",
       "</table>\n",
       "</div>"
      ],
      "text/plain": [
       "      ups  ratio                                              title  \\\n",
       "194    12   0.55         Obama runs from responsibility yet again.    \n",
       "1270    0   0.47  Why Precisely Is Bernie Sanders Against Repara...   \n",
       "254     0   0.49  Whoops: PolitiFact's Romney 'Lie of the Year' ...   \n",
       "116     0   0.49  North Korea says it will launch long-range roc...   \n",
       "1294    0   0.50  The Bernie Bros are out in full force harassin...   \n",
       "1302    0   0.46                                               Rant   \n",
       "1965    2   0.50  Financial titans behind slam on Clinton: Hedge...   \n",
       "432     0   0.48          This is Why White Progressives Are Racist   \n",
       "1069   16   0.58  PolitiFact: Pro-life Scott Walker accused of a...   \n",
       "1356    1   0.52  Watch Hillary comfort a little girl who fears ...   \n",
       "\n",
       "                                                   text  nr_comments  \\\n",
       "194                                                 NaN           15   \n",
       "1270                                                NaN           19   \n",
       "254                                                 NaN           22   \n",
       "116                                                 NaN           25   \n",
       "1294                                                NaN            1   \n",
       "1302  This will probably be down voted or removed, b...           19   \n",
       "1965                                                NaN            1   \n",
       "432                                                 NaN           11   \n",
       "1069                                                NaN            5   \n",
       "1356                                                NaN           10   \n",
       "\n",
       "           label  \n",
       "194   republican  \n",
       "1270    democrat  \n",
       "254   republican  \n",
       "116   republican  \n",
       "1294    democrat  \n",
       "1302    democrat  \n",
       "1965    democrat  \n",
       "432   republican  \n",
       "1069    democrat  \n",
       "1356    democrat  "
      ]
     },
     "execution_count": 26,
     "metadata": {},
     "output_type": "execute_result"
    }
   ],
   "source": [
    "df.sample(10)"
   ]
  },
  {
   "cell_type": "markdown",
   "metadata": {},
   "source": [
    "## Cleaning Markdown to text"
   ]
  },
  {
   "cell_type": "code",
   "execution_count": 27,
   "metadata": {},
   "outputs": [],
   "source": [
    "for i, row in df.iterrows():\n",
    "    if not pd.isna(row['text']) and not pd.isnull(row['text']):\n",
    "        html = markdown(row['text'])\n",
    "        text = ''.join(bs(html).findAll(text=True))\n",
    "        text = text.replace('\\n',' ')\n",
    "        df.loc[i, 'text'] = text\n",
    "    "
   ]
  },
  {
   "cell_type": "code",
   "execution_count": 28,
   "metadata": {},
   "outputs": [
    {
     "data": {
      "text/html": [
       "<div>\n",
       "<style scoped>\n",
       "    .dataframe tbody tr th:only-of-type {\n",
       "        vertical-align: middle;\n",
       "    }\n",
       "\n",
       "    .dataframe tbody tr th {\n",
       "        vertical-align: top;\n",
       "    }\n",
       "\n",
       "    .dataframe thead th {\n",
       "        text-align: right;\n",
       "    }\n",
       "</style>\n",
       "<table border=\"1\" class=\"dataframe\">\n",
       "  <thead>\n",
       "    <tr style=\"text-align: right;\">\n",
       "      <th></th>\n",
       "      <th>ups</th>\n",
       "      <th>ratio</th>\n",
       "      <th>title</th>\n",
       "      <th>text</th>\n",
       "      <th>nr_comments</th>\n",
       "      <th>label</th>\n",
       "    </tr>\n",
       "  </thead>\n",
       "  <tbody>\n",
       "    <tr>\n",
       "      <th>0</th>\n",
       "      <td>0</td>\n",
       "      <td>0.48</td>\n",
       "      <td>Scumbag Obama</td>\n",
       "      <td>NaN</td>\n",
       "      <td>48</td>\n",
       "      <td>republican</td>\n",
       "    </tr>\n",
       "    <tr>\n",
       "      <th>1</th>\n",
       "      <td>23</td>\n",
       "      <td>0.53</td>\n",
       "      <td>K-pop star PSY once advocated ‘slowly and pain...</td>\n",
       "      <td>NaN</td>\n",
       "      <td>239</td>\n",
       "      <td>republican</td>\n",
       "    </tr>\n",
       "    <tr>\n",
       "      <th>2</th>\n",
       "      <td>0</td>\n",
       "      <td>0.50</td>\n",
       "      <td>For the Sake of the Republican Party, Don't Vo...</td>\n",
       "      <td>NaN</td>\n",
       "      <td>14</td>\n",
       "      <td>republican</td>\n",
       "    </tr>\n",
       "    <tr>\n",
       "      <th>3</th>\n",
       "      <td>3</td>\n",
       "      <td>0.51</td>\n",
       "      <td>The Obama Disaster: Part II or \"America is sti...</td>\n",
       "      <td>NaN</td>\n",
       "      <td>18</td>\n",
       "      <td>republican</td>\n",
       "    </tr>\n",
       "    <tr>\n",
       "      <th>4</th>\n",
       "      <td>4</td>\n",
       "      <td>0.51</td>\n",
       "      <td>LOL - response to Obama \"Lose Your Virginity f...</td>\n",
       "      <td>NaN</td>\n",
       "      <td>34</td>\n",
       "      <td>republican</td>\n",
       "    </tr>\n",
       "    <tr>\n",
       "      <th>5</th>\n",
       "      <td>0</td>\n",
       "      <td>0.50</td>\n",
       "      <td>\"The Science is Settled\"</td>\n",
       "      <td>NaN</td>\n",
       "      <td>47</td>\n",
       "      <td>republican</td>\n",
       "    </tr>\n",
       "    <tr>\n",
       "      <th>6</th>\n",
       "      <td>0</td>\n",
       "      <td>0.48</td>\n",
       "      <td>What has caused more damage?</td>\n",
       "      <td>NaN</td>\n",
       "      <td>36</td>\n",
       "      <td>republican</td>\n",
       "    </tr>\n",
       "    <tr>\n",
       "      <th>7</th>\n",
       "      <td>0</td>\n",
       "      <td>0.50</td>\n",
       "      <td>What do you have to lose?! They’ve taken EVERY...</td>\n",
       "      <td>NaN</td>\n",
       "      <td>9</td>\n",
       "      <td>republican</td>\n",
       "    </tr>\n",
       "    <tr>\n",
       "      <th>8</th>\n",
       "      <td>2</td>\n",
       "      <td>0.51</td>\n",
       "      <td>The Heart &amp; Character: How Mitt Romney shut do...</td>\n",
       "      <td>NaN</td>\n",
       "      <td>17</td>\n",
       "      <td>republican</td>\n",
       "    </tr>\n",
       "    <tr>\n",
       "      <th>9</th>\n",
       "      <td>0</td>\n",
       "      <td>0.50</td>\n",
       "      <td>Why I vote Democrat....</td>\n",
       "      <td>I voted Democrat because I believe oil compa...</td>\n",
       "      <td>37</td>\n",
       "      <td>republican</td>\n",
       "    </tr>\n",
       "  </tbody>\n",
       "</table>\n",
       "</div>"
      ],
      "text/plain": [
       "   ups  ratio                                              title  \\\n",
       "0    0   0.48                                      Scumbag Obama   \n",
       "1   23   0.53  K-pop star PSY once advocated ‘slowly and pain...   \n",
       "2    0   0.50  For the Sake of the Republican Party, Don't Vo...   \n",
       "3    3   0.51  The Obama Disaster: Part II or \"America is sti...   \n",
       "4    4   0.51  LOL - response to Obama \"Lose Your Virginity f...   \n",
       "5    0   0.50                           \"The Science is Settled\"   \n",
       "6    0   0.48                       What has caused more damage?   \n",
       "7    0   0.50  What do you have to lose?! They’ve taken EVERY...   \n",
       "8    2   0.51  The Heart & Character: How Mitt Romney shut do...   \n",
       "9    0   0.50                            Why I vote Democrat....   \n",
       "\n",
       "                                                text  nr_comments       label  \n",
       "0                                                NaN           48  republican  \n",
       "1                                                NaN          239  republican  \n",
       "2                                                NaN           14  republican  \n",
       "3                                                NaN           18  republican  \n",
       "4                                                NaN           34  republican  \n",
       "5                                                NaN           47  republican  \n",
       "6                                                NaN           36  republican  \n",
       "7                                                NaN            9  republican  \n",
       "8                                                NaN           17  republican  \n",
       "9    I voted Democrat because I believe oil compa...           37  republican  "
      ]
     },
     "execution_count": 28,
     "metadata": {},
     "output_type": "execute_result"
    }
   ],
   "source": [
    "df.head(10)"
   ]
  },
  {
   "cell_type": "code",
   "execution_count": 32,
   "metadata": {},
   "outputs": [
    {
     "data": {
      "text/plain": [
       "[(False,\n",
       "  \"So this Covington situation has clearly shown the division in this country. I propose that the dems co-opt the MAGA with a blue hat. You want teams then make your own. See which hat makes the country better. Here is the catch though. Actually go out into your community and help. Don't donate money. Donate something much more valuable; your time.  Dont post about it on social media. Go get your hands dirty with your neighbors, but let's see which hat can do a better job. Red vs Blue put on a purple hat whatever. Once you put it on you are in service to your community mode. Fight over who can build a playground better. Who can deliver more food to the elderly. Firing off angry tweets about what a hat means to you doesn't do much. Take whatever issue you care about, and engage your energy in work. This is the country I would like to see.\")]"
      ]
     },
     "execution_count": 32,
     "metadata": {},
     "output_type": "execute_result"
    }
   ],
   "source": [
    "[('\\n' in i[:-1], i) for i in df.text.sample(10).values if not pd.isna(i)]"
   ]
  },
  {
   "cell_type": "code",
   "execution_count": 33,
   "metadata": {},
   "outputs": [],
   "source": [
    "text_dump = {\n",
    "    \n",
    "}\n",
    "\n",
    "for i, row in df.iterrows():\n",
    "    if row['label'] not in text_dump.keys():\n",
    "        text_dump[row['label']] = ''\n",
    "\n",
    "    text_dump[row['label']] += ' ' + row['title']\n",
    "    \n",
    "    if not pd.isna(row['text']) and not pd.isnull(row['text']):\n",
    "        text_dump[row['label']] += ' ' + row['text']\n",
    "        \n",
    "    text_dump[row['label']] += ' \\n '"
   ]
  },
  {
   "cell_type": "code",
   "execution_count": 34,
   "metadata": {},
   "outputs": [
    {
     "data": {
      "text/plain": [
       "(148364, 137692)"
      ]
     },
     "execution_count": 34,
     "metadata": {},
     "output_type": "execute_result"
    }
   ],
   "source": [
    "len(text_dump['republican']), len(text_dump['democrat'])"
   ]
  },
  {
   "cell_type": "code",
   "execution_count": 38,
   "metadata": {},
   "outputs": [],
   "source": [
    "for label in text_dump.keys():\n",
    "    with open('dump_%s.txt' %label, 'w', encoding='utf8') as f:\n",
    "        f.write(text_dump[label])"
   ]
  },
  {
   "cell_type": "code",
   "execution_count": 37,
   "metadata": {},
   "outputs": [],
   "source": [
    "pickle.dump(text_dump, open('text_dumps.pkl','wb'))"
   ]
  },
  {
   "cell_type": "code",
   "execution_count": null,
   "metadata": {},
   "outputs": [],
   "source": []
  }
 ],
 "metadata": {
  "kernelspec": {
   "display_name": "Python 3",
   "language": "python",
   "name": "python3"
  },
  "language_info": {
   "codemirror_mode": {
    "name": "ipython",
    "version": 3
   },
   "file_extension": ".py",
   "mimetype": "text/x-python",
   "name": "python",
   "nbconvert_exporter": "python",
   "pygments_lexer": "ipython3",
   "version": "3.6.8"
  }
 },
 "nbformat": 4,
 "nbformat_minor": 2
}
