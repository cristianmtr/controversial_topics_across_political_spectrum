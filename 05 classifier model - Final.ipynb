{
 "cells": [
  {
   "cell_type": "code",
   "execution_count": 1,
   "metadata": {},
   "outputs": [],
   "source": [
    "%load_ext autoreload"
   ]
  },
  {
   "cell_type": "code",
   "execution_count": 2,
   "metadata": {},
   "outputs": [],
   "source": [
    "%autoreload 2"
   ]
  },
  {
   "cell_type": "code",
   "execution_count": 3,
   "metadata": {},
   "outputs": [
    {
     "name": "stderr",
     "output_type": "stream",
     "text": [
      "Using TensorFlow backend.\n"
     ]
    }
   ],
   "source": [
    "import keras\n",
    "import pickle\n",
    "import pandas as pd\n",
    "import numpy as np\n",
    "from tqdm import tqdm_notebook as tqdm\n",
    "import os\n",
    "\n",
    "from sklearn.preprocessing import OneHotEncoder\n",
    "\n",
    "from sklearn.model_selection import train_test_split\n",
    "\n",
    "from keras.callbacks import ModelCheckpoint, ReduceLROnPlateau, TensorBoard, LambdaCallback, CSVLogger\n",
    "\n",
    "from keras_tqdm import TQDMNotebookCallback\n",
    "\n",
    "\n",
    "import io\n",
    "\n",
    "def load_vectors(fname, words):\n",
    "    fin = io.open(fname, 'r', encoding='utf-8', newline='\\n', errors='ignore')\n",
    "    n, d = map(int, fin.readline().split())\n",
    "    data = {}\n",
    "    for line in tqdm(fin, total=1000000):\n",
    "        tokens = line.rstrip().split(' ')\n",
    "        if tokens[0] in words:\n",
    "            data[tokens[0]] = list(map(float, tokens[1:]))\n",
    "    return data\n",
    "\n",
    "pd.set_option('max_colwidth', 800)"
   ]
  },
  {
   "cell_type": "code",
   "execution_count": 5,
   "metadata": {},
   "outputs": [],
   "source": [
    "%matplotlib inline\n",
    "from matplotlib import pyplot as plt\n",
    "\n",
    "from sklearn.metrics import confusion_matrix\n",
    "\n",
    "import matplotlib\n",
    "matplotlib.rcParams['figure.figsize'] = [12, 12]\n",
    "plt.style.use('ggplot')\n",
    "\n",
    "from preprocess import preprocess_sentence, _preprocess"
   ]
  },
  {
   "cell_type": "code",
   "execution_count": 6,
   "metadata": {},
   "outputs": [],
   "source": [
    "import itertools\n",
    "\n",
    "\n",
    "def plot_confusion_matrix(cm, classes,\n",
    "                          normalize=False,\n",
    "                          title='Confusion matrix',\n",
    "                          cmap=plt.cm.Blues):\n",
    "    \"\"\"\n",
    "    This function prints and plots the confusion matrix.\n",
    "    Normalization can be applied by setting `normalize=True`.\n",
    "    \"\"\"\n",
    "    if normalize:\n",
    "        cm = cm.astype('float') / cm.sum(axis=1)[:, np.newaxis]\n",
    "        print(\"Normalized confusion matrix\")\n",
    "    else:\n",
    "        print('Confusion matrix, without normalization')\n",
    "\n",
    "#     print(cm)\n",
    "\n",
    "    plt.figure(figsize=(12,12))\n",
    "    plt.imshow(cm, interpolation='nearest', cmap=cmap)\n",
    "    plt.title(title)\n",
    "    tick_marks = np.arange(len(classes))\n",
    "    plt.xticks(tick_marks, classes, rotation=45, fontsize=14)\n",
    "    plt.yticks(tick_marks, classes, fontsize=14)\n",
    "\n",
    "    fmt = '.2f' if normalize else 'd'\n",
    "    thresh = cm.max() / 2.\n",
    "    for i, j in itertools.product(range(cm.shape[0]), range(cm.shape[1])):\n",
    "        plt.text(j, i, format(cm[i, j], fmt),\n",
    "                 horizontalalignment=\"center\",\n",
    "                 color=\"white\" if cm[i, j] > thresh else \"black\")\n",
    "\n",
    "    plt.ylabel('True label', fontsize=18)\n",
    "    plt.xlabel('Predicted label', fontsize=18)\n",
    "    plt.tight_layout()\n",
    "    plt.grid(False)\n",
    "    return plt.gcf()\n"
   ]
  },
  {
   "cell_type": "code",
   "execution_count": 7,
   "metadata": {},
   "outputs": [],
   "source": [
    "def savefig(fig, name):\n",
    "    if not os.path.exists(\"results\"):\n",
    "        os.mkdir(\"results\")\n",
    "    \n",
    "    fig_path = os.path.join(\"results\", name)\n",
    "    print('saving figure to %s' %fig_path)\n",
    "    fig.savefig(fig_path, bbox_inches='tight')\n",
    "    "
   ]
  },
  {
   "cell_type": "code",
   "execution_count": 8,
   "metadata": {},
   "outputs": [
    {
     "name": "stdout",
     "output_type": "stream",
     "text": [
      "D:\\data\\fasttext\\wiki-news-300d-1M.vec\n",
      "D:\\data\\fasttext\\wiki-news-300d-1M.vec\n"
     ]
    }
   ],
   "source": [
    "path_to_fast_text_vec = input()\n",
    "print(path_to_fast_text_vec)"
   ]
  },
  {
   "cell_type": "code",
   "execution_count": 9,
   "metadata": {},
   "outputs": [],
   "source": [
    "data = pd.read_csv(\"08_new_df.pd\",index_col=\"Unnamed: 0\")"
   ]
  },
  {
   "cell_type": "code",
   "execution_count": 11,
   "metadata": {},
   "outputs": [
    {
     "data": {
      "text/html": [
       "<div>\n",
       "<style scoped>\n",
       "    .dataframe tbody tr th:only-of-type {\n",
       "        vertical-align: middle;\n",
       "    }\n",
       "\n",
       "    .dataframe tbody tr th {\n",
       "        vertical-align: top;\n",
       "    }\n",
       "\n",
       "    .dataframe thead th {\n",
       "        text-align: right;\n",
       "    }\n",
       "</style>\n",
       "<table border=\"1\" class=\"dataframe\">\n",
       "  <thead>\n",
       "    <tr style=\"text-align: right;\">\n",
       "      <th></th>\n",
       "      <th>text</th>\n",
       "      <th>category</th>\n",
       "    </tr>\n",
       "  </thead>\n",
       "  <tbody>\n",
       "    <tr>\n",
       "      <th>2916</th>\n",
       "      <td>The White House hyped up a 'Pittsburgh, not Paris' rally — and Trump skipped it to go to his golf club</td>\n",
       "      <td>politics</td>\n",
       "    </tr>\n",
       "    <tr>\n",
       "      <th>1094</th>\n",
       "      <td>So, I recently found out I was gay, but I didn't want to tell anyone, but the other day, I just said fuck it and told the whole school, and it turned out, no one thought of me as any different. I actually asked out a boy yesterday - and he said yes!!! But I still haven't told my parents.</td>\n",
       "      <td>lgbt</td>\n",
       "    </tr>\n",
       "    <tr>\n",
       "      <th>7123</th>\n",
       "      <td>A growing group of women concerned about climate change are choosing not to reproduce. Called BirthStrikers, they agree to not bear children “due to the severity of the ecological crisis and the current inaction of governing forces in the face of this existential threat.”</td>\n",
       "      <td>environment</td>\n",
       "    </tr>\n",
       "    <tr>\n",
       "      <th>5841</th>\n",
       "      <td>This needs to be more widely publicized; it is potentially the most insidious crime ever committed by the NYPD. Two officers are still on salaried desk duty one month after handcuffing, kidnapping, and brutally raping a teenage girl.</td>\n",
       "      <td>feminism</td>\n",
       "    </tr>\n",
       "    <tr>\n",
       "      <th>7370</th>\n",
       "      <td>We are Bahá'ís, Ask us Anything!</td>\n",
       "      <td>religion</td>\n",
       "    </tr>\n",
       "    <tr>\n",
       "      <th>8422</th>\n",
       "      <td>\"We know how guns work, and how dangerous they are\"WHO IS FASTER THAN A SPEEDING BULLET?\\nSmet\\n(om\\n\\nSe\\n\\nNOBODY.\\n\\nDaa Cartan)\\nBite once neater\\n\\nWHO IS FASTER THAN A SPEEDING BULLET?\\n\\n8 alae\\n\\nNOBODY.\\n\\nwww.everytown.org\\nBee ernment</td>\n",
       "      <td>firearms</td>\n",
       "    </tr>\n",
       "    <tr>\n",
       "      <th>4150</th>\n",
       "      <td>Wikileaks Next Target: \"A Big US Bank\" - Please say this is TRUE!</td>\n",
       "      <td>economics</td>\n",
       "    </tr>\n",
       "    <tr>\n",
       "      <th>2852</th>\n",
       "      <td>Most Americans Oppose a Temporary Muslim Ban</td>\n",
       "      <td>religion</td>\n",
       "    </tr>\n",
       "    <tr>\n",
       "      <th>5076</th>\n",
       "      <td>You'll shoot your eye out kid</td>\n",
       "      <td>firearms</td>\n",
       "    </tr>\n",
       "    <tr>\n",
       "      <th>3188</th>\n",
       "      <td>What is more likely?What is more likely?\\n\\nLi a.\\n\\nRegional Environment Groups Oil Companies\\nand Community Activists\\n\\n=\\n\\nAre spending their limited +b + Se ar\\n\\noperating budgets Are spending their obscene profits\\n\\n \\n\\n    \\n\\n \\n\\nANRALAAANAAANAAA\\n\\n     \\n\\nWLLL nt\\nIn a massive conspiracy with 90% To bribe anyone\\nof the global scientific community that they can\\nTo protect their profits and\\nTo create a hoax and limit any future liability that\\n\\n    \\n\\ntheir pollution might cause</td>\n",
       "      <td>environment</td>\n",
       "    </tr>\n",
       "  </tbody>\n",
       "</table>\n",
       "</div>"
      ],
      "text/plain": [
       "                                                                                                                                                                                                                                                                                                                                                                                                                                                                                                                        text  \\\n",
       "2916                                                                                                                                                                                                                                                                                                                                                                                                                  The White House hyped up a 'Pittsburgh, not Paris' rally — and Trump skipped it to go to his golf club   \n",
       "1094                                                                                                                                                                                                                        So, I recently found out I was gay, but I didn't want to tell anyone, but the other day, I just said fuck it and told the whole school, and it turned out, no one thought of me as any different. I actually asked out a boy yesterday - and he said yes!!! But I still haven't told my parents.   \n",
       "7123                                                                                                                                                                                                                                        A growing group of women concerned about climate change are choosing not to reproduce. Called BirthStrikers, they agree to not bear children “due to the severity of the ecological crisis and the current inaction of governing forces in the face of this existential threat.”   \n",
       "5841                                                                                                                                                                                                                                                                               This needs to be more widely publicized; it is potentially the most insidious crime ever committed by the NYPD. Two officers are still on salaried desk duty one month after handcuffing, kidnapping, and brutally raping a teenage girl.   \n",
       "7370                                                                                                                                                                                                                                                                                                                                                                                                                                                                                        We are Bahá'ís, Ask us Anything!   \n",
       "8422                                                                                                                                                                                                                                                                   \"We know how guns work, and how dangerous they are\"WHO IS FASTER THAN A SPEEDING BULLET?\\nSmet\\n(om\\n\\nSe\\n\\nNOBODY.\\n\\nDaa Cartan)\\nBite once neater\\n\\nWHO IS FASTER THAN A SPEEDING BULLET?\\n\\n8 alae\\n\\nNOBODY.\\n\\nwww.everytown.org\\nBee ernment   \n",
       "4150                                                                                                                                                                                                                                                                                                                                                                                                                                                       Wikileaks Next Target: \"A Big US Bank\" - Please say this is TRUE!   \n",
       "2852                                                                                                                                                                                                                                                                                                                                                                                                                                                                            Most Americans Oppose a Temporary Muslim Ban   \n",
       "5076                                                                                                                                                                                                                                                                                                                                                                                                                                                                                           You'll shoot your eye out kid   \n",
       "3188  What is more likely?What is more likely?\\n\\nLi a.\\n\\nRegional Environment Groups Oil Companies\\nand Community Activists\\n\\n=\\n\\nAre spending their limited +b + Se ar\\n\\noperating budgets Are spending their obscene profits\\n\\n \\n\\n    \\n\\n \\n\\nANRALAAANAAANAAA\\n\\n     \\n\\nWLLL nt\\nIn a massive conspiracy with 90% To bribe anyone\\nof the global scientific community that they can\\nTo protect their profits and\\nTo create a hoax and limit any future liability that\\n\\n    \\n\\ntheir pollution might cause   \n",
       "\n",
       "         category  \n",
       "2916     politics  \n",
       "1094         lgbt  \n",
       "7123  environment  \n",
       "5841     feminism  \n",
       "7370     religion  \n",
       "8422     firearms  \n",
       "4150    economics  \n",
       "2852     religion  \n",
       "5076     firearms  \n",
       "3188  environment  "
      ]
     },
     "execution_count": 11,
     "metadata": {},
     "output_type": "execute_result"
    }
   ],
   "source": [
    "data.sample(10)"
   ]
  },
  {
   "cell_type": "markdown",
   "metadata": {},
   "source": [
    "```\n",
    "reddits = [\n",
    "    \"environment\",\n",
    "    \"economics\",\n",
    "    \"religion\",\n",
    "    \"education\",\n",
    "    \"immigration\",\n",
    "    \"lgbt\",\n",
    "    \"war\",\n",
    "    \"feminism\",\n",
    "    \"business\",\n",
    "    \"firearms\",\n",
    "    \"politics\",\n",
    "    \"gay\"\n",
    "]\n",
    "```"
   ]
  },
  {
   "cell_type": "code",
   "execution_count": 26,
   "metadata": {},
   "outputs": [],
   "source": [
    "onehot_enc = OneHotEncoder().fit(data.category.values.reshape((-1,1)))\n",
    "Y = onehot_enc.transform(data.category.values.reshape((-1,1)))"
   ]
  },
  {
   "cell_type": "code",
   "execution_count": 27,
   "metadata": {},
   "outputs": [],
   "source": [
    "MAX_LEN = 40"
   ]
  },
  {
   "cell_type": "code",
   "execution_count": 28,
   "metadata": {},
   "outputs": [],
   "source": [
    "X = np.zeros((len(data), MAX_LEN, 300))"
   ]
  },
  {
   "cell_type": "code",
   "execution_count": 29,
   "metadata": {},
   "outputs": [
    {
     "data": {
      "text/plain": [
       "(9910, 40, 300)"
      ]
     },
     "execution_count": 29,
     "metadata": {},
     "output_type": "execute_result"
    }
   ],
   "source": [
    "X.shape"
   ]
  },
  {
   "cell_type": "code",
   "execution_count": 13,
   "metadata": {},
   "outputs": [
    {
     "data": {
      "text/plain": [
       "['girl',\n",
       " 'facebook',\n",
       " 'want',\n",
       " 'trade',\n",
       " 'hi',\n",
       " 'point',\n",
       " 'mm',\n",
       " 'jeep',\n",
       " 'verizon',\n",
       " 'am',\n",
       " 'home',\n",
       " 'active',\n",
       " 'cd',\n",
       " 'live',\n",
       " 'gar',\n",
       " 'wed',\n",
       " 'pm',\n",
       " 'r',\n",
       " 'trade',\n",
       " 'jeep',\n",
       " 'a',\n",
       " 'pistol',\n",
       " 'wed',\n",
       " 'pm',\n",
       " 'wed',\n",
       " 'pm',\n",
       " 'unless',\n",
       " 'golden',\n",
       " 'gun',\n",
       " 'gun',\n",
       " 'james',\n",
       " 'bond',\n",
       " 'be',\n",
       " 'way',\n",
       " 'jeep',\n",
       " 'run']"
      ]
     },
     "execution_count": 13,
     "metadata": {},
     "output_type": "execute_result"
    }
   ],
   "source": [
    "_preprocess(\"Girl on Facebook wanted to trade a Hi point 9mm for my Jeep Wrangler.atl! Verizon © 1:33 AM 29% @_)\\n\\n< Home (9) Active on ° %& Cd\\n\\nLives 1 gars”\\n\\nWED 6:10 PM\\n\\nr Trade you a nine for that Jeep\\n\\nA pistol?\\n\\nWED 6:40 PM\\n\\nWED 8:24 PM\\n\\nUnless that’s a golden gun or the\\ngun that James Bond used they\\n\\nain't no way & that Jeep ran me\t\")"
   ]
  },
  {
   "cell_type": "code",
   "execution_count": 91,
   "metadata": {},
   "outputs": [
    {
     "data": {
      "application/vnd.jupyter.widget-view+json": {
       "model_id": "24602afc94004146910406f0fc72ca71",
       "version_major": 2,
       "version_minor": 0
      },
      "text/plain": [
       "HBox(children=(IntProgress(value=0, max=9910), HTML(value='')))"
      ]
     },
     "metadata": {},
     "output_type": "display_data"
    },
    {
     "name": "stdout",
     "output_type": "stream",
     "text": [
      "\n"
     ]
    }
   ],
   "source": [
    "for i, row in tqdm(data.iterrows(), total=len(data)):\n",
    "    data.loc[i, 'text_processed'] = ' '.join(_preprocess(row.text))"
   ]
  },
  {
   "cell_type": "code",
   "execution_count": 92,
   "metadata": {},
   "outputs": [],
   "source": [
    "data.to_csv(\"08_new_df_processed.pd\")"
   ]
  },
  {
   "cell_type": "code",
   "execution_count": 13,
   "metadata": {},
   "outputs": [
    {
     "data": {
      "text/html": [
       "<div>\n",
       "<style scoped>\n",
       "    .dataframe tbody tr th:only-of-type {\n",
       "        vertical-align: middle;\n",
       "    }\n",
       "\n",
       "    .dataframe tbody tr th {\n",
       "        vertical-align: top;\n",
       "    }\n",
       "\n",
       "    .dataframe thead th {\n",
       "        text-align: right;\n",
       "    }\n",
       "</style>\n",
       "<table border=\"1\" class=\"dataframe\">\n",
       "  <thead>\n",
       "    <tr style=\"text-align: right;\">\n",
       "      <th></th>\n",
       "      <th>text</th>\n",
       "      <th>category</th>\n",
       "      <th>text_processed</th>\n",
       "    </tr>\n",
       "  </thead>\n",
       "  <tbody>\n",
       "    <tr>\n",
       "      <th>0</th>\n",
       "      <td>TFW you finally understand all the cheesy annoying love songs (NYE)‘\\ni\\n£</td>\n",
       "      <td>lgbt</td>\n",
       "      <td>tfw finally understand cheesy annoying love song nye</td>\n",
       "    </tr>\n",
       "    <tr>\n",
       "      <th>1</th>\n",
       "      <td>Where Did Congress Go To College? [Infographic]</td>\n",
       "      <td>education</td>\n",
       "      <td>where do congress go to college infographic</td>\n",
       "    </tr>\n",
       "    <tr>\n",
       "      <th>2</th>\n",
       "      <td>White Baptist church in Mississippi bans black wedding</td>\n",
       "      <td>religion</td>\n",
       "      <td>white baptist church mississippi ban black wedding</td>\n",
       "    </tr>\n",
       "    <tr>\n",
       "      <th>3</th>\n",
       "      <td>Pelosi resurfaces old Trump tweet vowing no cuts to Medicaid after Trump budget cuts Medicaid</td>\n",
       "      <td>politics</td>\n",
       "      <td>pelosi resurface old trump tweet vow cut medicaid trump budget cut medicaid</td>\n",
       "    </tr>\n",
       "    <tr>\n",
       "      <th>4</th>\n",
       "      <td>Steven Crowder: First Time Gun Buyer: Change My Mind</td>\n",
       "      <td>firearms</td>\n",
       "      <td>steven crowder first time gun buyer change mind</td>\n",
       "    </tr>\n",
       "  </tbody>\n",
       "</table>\n",
       "</div>"
      ],
      "text/plain": [
       "                                                                                            text  \\\n",
       "0                     TFW you finally understand all the cheesy annoying love songs (NYE)‘\\ni\\n£   \n",
       "1                                                Where Did Congress Go To College? [Infographic]   \n",
       "2                                        White Baptist church in Mississippi bans black wedding    \n",
       "3  Pelosi resurfaces old Trump tweet vowing no cuts to Medicaid after Trump budget cuts Medicaid   \n",
       "4                                           Steven Crowder: First Time Gun Buyer: Change My Mind   \n",
       "\n",
       "    category  \\\n",
       "0       lgbt   \n",
       "1  education   \n",
       "2   religion   \n",
       "3   politics   \n",
       "4   firearms   \n",
       "\n",
       "                                                                text_processed  \n",
       "0                         tfw finally understand cheesy annoying love song nye  \n",
       "1                                  where do congress go to college infographic  \n",
       "2                           white baptist church mississippi ban black wedding  \n",
       "3  pelosi resurface old trump tweet vow cut medicaid trump budget cut medicaid  \n",
       "4                              steven crowder first time gun buyer change mind  "
      ]
     },
     "execution_count": 13,
     "metadata": {},
     "output_type": "execute_result"
    }
   ],
   "source": [
    "data = pd.read_csv(\"08_new_df_processed.pd\", index_col=\"Unnamed: 0\")\n",
    "data.head()"
   ]
  },
  {
   "cell_type": "code",
   "execution_count": 14,
   "metadata": {},
   "outputs": [],
   "source": [
    "all_tokens = np.concatenate([(str(s)).split(\" \") for s in data.text_processed.values])"
   ]
  },
  {
   "cell_type": "code",
   "execution_count": 15,
   "metadata": {},
   "outputs": [],
   "source": [
    "vocab = np.unique(all_tokens)"
   ]
  },
  {
   "cell_type": "code",
   "execution_count": 16,
   "metadata": {},
   "outputs": [
    {
     "data": {
      "text/plain": [
       "19084"
      ]
     },
     "execution_count": 16,
     "metadata": {},
     "output_type": "execute_result"
    }
   ],
   "source": [
    "len(vocab)"
   ]
  },
  {
   "cell_type": "code",
   "execution_count": 98,
   "metadata": {},
   "outputs": [
    {
     "data": {
      "application/vnd.jupyter.widget-view+json": {
       "model_id": "83ddda2c07264033b0b25f40821d8762",
       "version_major": 2,
       "version_minor": 0
      },
      "text/plain": [
       "HBox(children=(IntProgress(value=0, max=1000000), HTML(value='')))"
      ]
     },
     "metadata": {},
     "output_type": "display_data"
    },
    {
     "name": "stdout",
     "output_type": "stream",
     "text": [
      "\n"
     ]
    }
   ],
   "source": [
    "we = load_vectors(path_to_fast_text_vec, vocab)"
   ]
  },
  {
   "cell_type": "code",
   "execution_count": 99,
   "metadata": {},
   "outputs": [],
   "source": [
    "np.save(\"we_12.npy\",we)"
   ]
  },
  {
   "cell_type": "code",
   "execution_count": 18,
   "metadata": {},
   "outputs": [],
   "source": [
    "we = np.load(\"we_12.npy\").item()"
   ]
  },
  {
   "cell_type": "code",
   "execution_count": 19,
   "metadata": {},
   "outputs": [],
   "source": [
    "X = []\n",
    "Y = []"
   ]
  },
  {
   "cell_type": "code",
   "execution_count": null,
   "metadata": {
    "scrolled": false
   },
   "outputs": [],
   "source": [
    "for i, row in tqdm(data.iterrows(),total=len(data)):\n",
    "    vector = [\n",
    "        we[w] if w in we.keys() else [0]*300 for w in str(row['text_processed']).split(\" \")\n",
    "    ]\n",
    "    if len(vector) < MAX_LEN:\n",
    "        X[i, MAX_LEN-len(vector):] = vector\n",
    "    else:\n",
    "        X[i, :] = vector[:MAX_LEN]"
   ]
  },
  {
   "cell_type": "code",
   "execution_count": 21,
   "metadata": {},
   "outputs": [
    {
     "data": {
      "text/plain": [
       "(9910, 40, 300)"
      ]
     },
     "execution_count": 21,
     "metadata": {},
     "output_type": "execute_result"
    }
   ],
   "source": [
    "X.shape"
   ]
  },
  {
   "cell_type": "code",
   "execution_count": 124,
   "metadata": {},
   "outputs": [],
   "source": [
    "np.save('X_12.npy',X)"
   ]
  },
  {
   "cell_type": "code",
   "execution_count": 30,
   "metadata": {},
   "outputs": [],
   "source": [
    "X = np.load(\"X_12.npy\")"
   ]
  },
  {
   "cell_type": "code",
   "execution_count": 125,
   "metadata": {},
   "outputs": [],
   "source": [
    "np.save(\"Y_12.npy\", Y)"
   ]
  },
  {
   "cell_type": "code",
   "execution_count": 22,
   "metadata": {},
   "outputs": [],
   "source": [
    "Y = np.load(\"Y_12.npy\").item()"
   ]
  },
  {
   "cell_type": "markdown",
   "metadata": {},
   "source": [
    "# Split"
   ]
  },
  {
   "cell_type": "code",
   "execution_count": 31,
   "metadata": {},
   "outputs": [],
   "source": [
    "X_train, X_val, y_train, y_val = train_test_split(X, Y, test_size=0.2, random_state=0, stratify=Y.toarray(),shuffle=True)"
   ]
  },
  {
   "cell_type": "code",
   "execution_count": 32,
   "metadata": {},
   "outputs": [
    {
     "data": {
      "text/plain": [
       "((7928, 40, 300), (1982, 40, 300), (7928, 10), (1982, 10))"
      ]
     },
     "execution_count": 32,
     "metadata": {},
     "output_type": "execute_result"
    }
   ],
   "source": [
    "X_train.shape, X_val.shape, y_train.shape, y_val.shape"
   ]
  },
  {
   "cell_type": "markdown",
   "metadata": {},
   "source": [
    "## Test distribution of classes across splits"
   ]
  },
  {
   "cell_type": "code",
   "execution_count": 35,
   "metadata": {},
   "outputs": [
    {
     "data": {
      "image/png": "[encoded data removed]",
      "text/plain": [
       "<Figure size 576x576 with 1 Axes>"
      ]
     },
     "metadata": {},
     "output_type": "display_data"
    },
    {
     "data": {
      "image/png": "[encoded data removed]",
      "text/plain": [
       "<Figure size 576x576 with 1 Axes>"
      ]
     },
     "metadata": {},
     "output_type": "display_data"
    }
   ],
   "source": [
    "y_train_txt = onehot_enc.inverse_transform(y_train)\n",
    "\n",
    "c = np.unique(y_train_txt,return_counts=True)\n",
    "\n",
    "c = np.array(c)\n",
    "\n",
    "c[1] = c[1]/np.sum(c[1])\n",
    "plt.figure(figsize=(8,8))\n",
    "plt.bar(c[0],c[1])\n",
    "plt.show()\n",
    "\n",
    "y_train_txt = onehot_enc.inverse_transform(y_val)\n",
    "\n",
    "c = np.unique(y_train_txt,return_counts=True)\n",
    "\n",
    "c = np.array(c)\n",
    "\n",
    "c[1] = c[1]/np.sum(c[1])\n",
    "plt.figure(figsize=(8,8))\n",
    "plt.bar(c[0],c[1])\n",
    "plt.show()"
   ]
  },
  {
   "cell_type": "markdown",
   "metadata": {},
   "source": [
    "# Model"
   ]
  },
  {
   "cell_type": "code",
   "execution_count": 36,
   "metadata": {},
   "outputs": [],
   "source": [
    "layers = 2"
   ]
  },
  {
   "cell_type": "code",
   "execution_count": 37,
   "metadata": {},
   "outputs": [],
   "source": [
    "cells = 32"
   ]
  },
  {
   "cell_type": "code",
   "execution_count": 38,
   "metadata": {},
   "outputs": [],
   "source": [
    "bi = False"
   ]
  },
  {
   "cell_type": "code",
   "execution_count": 39,
   "metadata": {},
   "outputs": [
    {
     "name": "stdout",
     "output_type": "stream",
     "text": [
      "WARNING:tensorflow:From c:\\anaconda3\\envs\\tstd\\lib\\site-packages\\tensorflow\\python\\framework\\op_def_library.py:263: colocate_with (from tensorflow.python.framework.ops) is deprecated and will be removed in a future version.\n",
      "Instructions for updating:\n",
      "Colocations handled automatically by placer.\n",
      "WARNING:tensorflow:From c:\\anaconda3\\envs\\tstd\\lib\\site-packages\\keras\\backend\\tensorflow_backend.py:3445: calling dropout (from tensorflow.python.ops.nn_ops) with keep_prob is deprecated and will be removed in a future version.\n",
      "Instructions for updating:\n",
      "Please use `rate` instead of `keep_prob`. Rate should be set to `rate = 1 - keep_prob`.\n"
     ]
    }
   ],
   "source": [
    "inputs = keras.layers.Input(\n",
    "    shape=(MAX_LEN, 300,), name='Input')\n",
    "\n",
    "prev = inputs\n",
    "for i in range(layers):\n",
    "    ret_seq = True\n",
    "    if i == layers-1:\n",
    "        ret_seq = False\n",
    "\n",
    "    this_layer = keras.layers.LSTM(\n",
    "        cells,\n",
    "        dropout=0.4,\n",
    "        name='LSTM_%s' %i,\n",
    "        return_sequences=ret_seq\n",
    "    )\n",
    "    if bi:\n",
    "        this_layer = keras.layers.Bidirectional(\n",
    "            this_layer,\n",
    "            name='bi_%s' %i\n",
    "        )\n",
    "    prev = this_layer(prev)\n",
    "    \n",
    "prev = keras.layers.Dense(\n",
    "    100,\n",
    "    activation='relu',\n",
    "    )(prev)\n",
    "\n",
    "dense = keras.layers.Dropout(.4)(prev)\n",
    "\n",
    "dense = keras.layers.Dense(\n",
    "    len(onehot_enc.categories_[0]), \n",
    "    activation='softmax', \n",
    "    name=\"dense_outputs\")(prev)\n",
    "\n",
    "model = keras.Model(inputs=inputs, outputs=[dense])"
   ]
  },
  {
   "cell_type": "code",
   "execution_count": 40,
   "metadata": {},
   "outputs": [],
   "source": [
    "loss = 'categorical_crossentropy'\n",
    "optimizer = keras.optimizers.Adam(lr=0.005)"
   ]
  },
  {
   "cell_type": "code",
   "execution_count": 41,
   "metadata": {},
   "outputs": [],
   "source": [
    "model.compile(\n",
    "    loss=loss,\n",
    "    optimizer=optimizer,\n",
    "    metrics=['accuracy']\n",
    ")"
   ]
  },
  {
   "cell_type": "code",
   "execution_count": 42,
   "metadata": {},
   "outputs": [
    {
     "name": "stdout",
     "output_type": "stream",
     "text": [
      "_________________________________________________________________\n",
      "Layer (type)                 Output Shape              Param #   \n",
      "=================================================================\n",
      "Input (InputLayer)           (None, 40, 300)           0         \n",
      "_________________________________________________________________\n",
      "LSTM_0 (LSTM)                (None, 40, 32)            42624     \n",
      "_________________________________________________________________\n",
      "LSTM_1 (LSTM)                (None, 32)                8320      \n",
      "_________________________________________________________________\n",
      "dense_1 (Dense)              (None, 100)               3300      \n",
      "_________________________________________________________________\n",
      "dense_outputs (Dense)        (None, 10)                1010      \n",
      "=================================================================\n",
      "Total params: 55,254\n",
      "Trainable params: 55,254\n",
      "Non-trainable params: 0\n",
      "_________________________________________________________________\n"
     ]
    }
   ],
   "source": [
    "model.summary()"
   ]
  },
  {
   "cell_type": "code",
   "execution_count": 44,
   "metadata": {},
   "outputs": [
    {
     "name": "stderr",
     "output_type": "stream",
     "text": [
      "c:\\anaconda3\\envs\\tstd\\lib\\site-packages\\keras\\callbacks.py:1065: UserWarning: `epsilon` argument is deprecated and will be removed, use `min_delta` instead.\n",
      "  warnings.warn('`epsilon` argument is deprecated and '\n"
     ]
    }
   ],
   "source": [
    "model_dir = \"model12_correctsplit\"\n",
    "if not os.path.exists(model_dir):\n",
    "    os.mkdir(model_dir)\n",
    "callbacks = []\n",
    "\n",
    "# save model checkpoints\n",
    "filepath = os.path.join(model_dir,\n",
    "                'model.h5')\n",
    "\n",
    "callbacks.append(ModelCheckpoint(filepath,\n",
    "                         monitor='val_acc',\n",
    "                         verbose=1,\n",
    "                         save_best_only=True,\n",
    "                         save_weights_only=True,\n",
    "                         mode='auto'))\n",
    "\n",
    "callbacks.append(ReduceLROnPlateau(monitor='val_acc',\n",
    "                           factor=0.5,\n",
    "                           patience=3,\n",
    "                           verbose=1,\n",
    "                           mode='auto',\n",
    "                           epsilon=0.0005,\n",
    "                           cooldown=0,\n",
    "                           min_lr=0))\n",
    "callbacks.append(TQDMNotebookCallback())\n"
   ]
  },
  {
   "cell_type": "code",
   "execution_count": 60,
   "metadata": {
    "scrolled": true
   },
   "outputs": [
    {
     "data": {
      "application/vnd.jupyter.widget-view+json": {
       "model_id": "b31ea1914a344dcabba599c3bd6d64ec",
       "version_major": 2,
       "version_minor": 0
      },
      "text/plain": [
       "HBox(children=(IntProgress(value=0, description='Training', max=40, style=ProgressStyle(description_width='ini…"
      ]
     },
     "metadata": {},
     "output_type": "display_data"
    },
    {
     "data": {
      "application/vnd.jupyter.widget-view+json": {
       "model_id": "",
       "version_major": 2,
       "version_minor": 0
      },
      "text/plain": [
       "HBox(children=(IntProgress(value=0, description='Epoch 0', max=7928, style=ProgressStyle(description_width='in…"
      ]
     },
     "metadata": {},
     "output_type": "display_data"
    },
    {
     "name": "stdout",
     "output_type": "stream",
     "text": [
      "\n",
      "Epoch 00001: val_acc improved from -inf to 0.72603, saving model to model12_correctsplit\\model.h5\n"
     ]
    },
    {
     "data": {
      "application/vnd.jupyter.widget-view+json": {
       "model_id": "",
       "version_major": 2,
       "version_minor": 0
      },
      "text/plain": [
       "HBox(children=(IntProgress(value=0, description='Epoch 1', max=7928, style=ProgressStyle(description_width='in…"
      ]
     },
     "metadata": {},
     "output_type": "display_data"
    },
    {
     "name": "stdout",
     "output_type": "stream",
     "text": [
      "\n",
      "Epoch 00002: val_acc improved from 0.72603 to 0.75429, saving model to model12_correctsplit\\model.h5\n"
     ]
    },
    {
     "data": {
      "application/vnd.jupyter.widget-view+json": {
       "model_id": "",
       "version_major": 2,
       "version_minor": 0
      },
      "text/plain": [
       "HBox(children=(IntProgress(value=0, description='Epoch 2', max=7928, style=ProgressStyle(description_width='in…"
      ]
     },
     "metadata": {},
     "output_type": "display_data"
    },
    {
     "name": "stdout",
     "output_type": "stream",
     "text": [
      "\n",
      "Epoch 00003: val_acc improved from 0.75429 to 0.78961, saving model to model12_correctsplit\\model.h5\n"
     ]
    },
    {
     "data": {
      "application/vnd.jupyter.widget-view+json": {
       "model_id": "",
       "version_major": 2,
       "version_minor": 0
      },
      "text/plain": [
       "HBox(children=(IntProgress(value=0, description='Epoch 3', max=7928, style=ProgressStyle(description_width='in…"
      ]
     },
     "metadata": {},
     "output_type": "display_data"
    },
    {
     "name": "stdout",
     "output_type": "stream",
     "text": [
      "\n",
      "Epoch 00004: val_acc improved from 0.78961 to 0.80575, saving model to model12_correctsplit\\model.h5\n"
     ]
    },
    {
     "data": {
      "application/vnd.jupyter.widget-view+json": {
       "model_id": "",
       "version_major": 2,
       "version_minor": 0
      },
      "text/plain": [
       "HBox(children=(IntProgress(value=0, description='Epoch 4', max=7928, style=ProgressStyle(description_width='in…"
      ]
     },
     "metadata": {},
     "output_type": "display_data"
    },
    {
     "name": "stdout",
     "output_type": "stream",
     "text": [
      "\n",
      "Epoch 00005: val_acc did not improve from 0.80575\n"
     ]
    },
    {
     "data": {
      "application/vnd.jupyter.widget-view+json": {
       "model_id": "",
       "version_major": 2,
       "version_minor": 0
      },
      "text/plain": [
       "HBox(children=(IntProgress(value=0, description='Epoch 5', max=7928, style=ProgressStyle(description_width='in…"
      ]
     },
     "metadata": {},
     "output_type": "display_data"
    },
    {
     "name": "stdout",
     "output_type": "stream",
     "text": [
      "\n",
      "Epoch 00006: val_acc did not improve from 0.80575\n"
     ]
    },
    {
     "data": {
      "application/vnd.jupyter.widget-view+json": {
       "model_id": "",
       "version_major": 2,
       "version_minor": 0
      },
      "text/plain": [
       "HBox(children=(IntProgress(value=0, description='Epoch 6', max=7928, style=ProgressStyle(description_width='in…"
      ]
     },
     "metadata": {},
     "output_type": "display_data"
    },
    {
     "name": "stdout",
     "output_type": "stream",
     "text": [
      "\n",
      "Epoch 00007: val_acc did not improve from 0.80575\n",
      "\n",
      "Epoch 00007: ReduceLROnPlateau reducing learning rate to 0.0024999999441206455.\n"
     ]
    },
    {
     "data": {
      "application/vnd.jupyter.widget-view+json": {
       "model_id": "",
       "version_major": 2,
       "version_minor": 0
      },
      "text/plain": [
       "HBox(children=(IntProgress(value=0, description='Epoch 7', max=7928, style=ProgressStyle(description_width='in…"
      ]
     },
     "metadata": {},
     "output_type": "display_data"
    },
    {
     "name": "stdout",
     "output_type": "stream",
     "text": [
      "\n",
      "Epoch 00008: val_acc improved from 0.80575 to 0.81130, saving model to model12_correctsplit\\model.h5\n"
     ]
    },
    {
     "data": {
      "application/vnd.jupyter.widget-view+json": {
       "model_id": "",
       "version_major": 2,
       "version_minor": 0
      },
      "text/plain": [
       "HBox(children=(IntProgress(value=0, description='Epoch 8', max=7928, style=ProgressStyle(description_width='in…"
      ]
     },
     "metadata": {},
     "output_type": "display_data"
    },
    {
     "name": "stdout",
     "output_type": "stream",
     "text": [
      "\n",
      "Epoch 00009: val_acc improved from 0.81130 to 0.81382, saving model to model12_correctsplit\\model.h5\n"
     ]
    },
    {
     "data": {
      "application/vnd.jupyter.widget-view+json": {
       "model_id": "",
       "version_major": 2,
       "version_minor": 0
      },
      "text/plain": [
       "HBox(children=(IntProgress(value=0, description='Epoch 9', max=7928, style=ProgressStyle(description_width='in…"
      ]
     },
     "metadata": {},
     "output_type": "display_data"
    },
    {
     "name": "stdout",
     "output_type": "stream",
     "text": [
      "\n",
      "Epoch 00010: val_acc did not improve from 0.81382\n"
     ]
    },
    {
     "data": {
      "application/vnd.jupyter.widget-view+json": {
       "model_id": "",
       "version_major": 2,
       "version_minor": 0
      },
      "text/plain": [
       "HBox(children=(IntProgress(value=0, description='Epoch 10', max=7928, style=ProgressStyle(description_width='i…"
      ]
     },
     "metadata": {},
     "output_type": "display_data"
    },
    {
     "name": "stdout",
     "output_type": "stream",
     "text": [
      "\n",
      "Epoch 00011: val_acc improved from 0.81382 to 0.81382, saving model to model12_correctsplit\\model.h5\n"
     ]
    },
    {
     "data": {
      "application/vnd.jupyter.widget-view+json": {
       "model_id": "",
       "version_major": 2,
       "version_minor": 0
      },
      "text/plain": [
       "HBox(children=(IntProgress(value=0, description='Epoch 11', max=7928, style=ProgressStyle(description_width='i…"
      ]
     },
     "metadata": {},
     "output_type": "display_data"
    },
    {
     "name": "stdout",
     "output_type": "stream",
     "text": [
      "\n",
      "Epoch 00012: val_acc did not improve from 0.81382\n",
      "\n",
      "Epoch 00012: ReduceLROnPlateau reducing learning rate to 0.0012499999720603228.\n"
     ]
    },
    {
     "data": {
      "application/vnd.jupyter.widget-view+json": {
       "model_id": "",
       "version_major": 2,
       "version_minor": 0
      },
      "text/plain": [
       "HBox(children=(IntProgress(value=0, description='Epoch 12', max=7928, style=ProgressStyle(description_width='i…"
      ]
     },
     "metadata": {},
     "output_type": "display_data"
    },
    {
     "name": "stdout",
     "output_type": "stream",
     "text": [
      "\n",
      "Epoch 00013: val_acc improved from 0.81382 to 0.81937, saving model to model12_correctsplit\\model.h5\n"
     ]
    },
    {
     "data": {
      "application/vnd.jupyter.widget-view+json": {
       "model_id": "",
       "version_major": 2,
       "version_minor": 0
      },
      "text/plain": [
       "HBox(children=(IntProgress(value=0, description='Epoch 13', max=7928, style=ProgressStyle(description_width='i…"
      ]
     },
     "metadata": {},
     "output_type": "display_data"
    },
    {
     "name": "stdout",
     "output_type": "stream",
     "text": [
      "\n",
      "Epoch 00014: val_acc did not improve from 0.81937\n"
     ]
    },
    {
     "data": {
      "application/vnd.jupyter.widget-view+json": {
       "model_id": "",
       "version_major": 2,
       "version_minor": 0
      },
      "text/plain": [
       "HBox(children=(IntProgress(value=0, description='Epoch 14', max=7928, style=ProgressStyle(description_width='i…"
      ]
     },
     "metadata": {},
     "output_type": "display_data"
    },
    {
     "name": "stdout",
     "output_type": "stream",
     "text": [
      "\n",
      "Epoch 00015: val_acc did not improve from 0.81937\n"
     ]
    },
    {
     "data": {
      "application/vnd.jupyter.widget-view+json": {
       "model_id": "",
       "version_major": 2,
       "version_minor": 0
      },
      "text/plain": [
       "HBox(children=(IntProgress(value=0, description='Epoch 15', max=7928, style=ProgressStyle(description_width='i…"
      ]
     },
     "metadata": {},
     "output_type": "display_data"
    },
    {
     "name": "stdout",
     "output_type": "stream",
     "text": [
      "\n",
      "Epoch 00016: val_acc did not improve from 0.81937\n",
      "\n",
      "Epoch 00016: ReduceLROnPlateau reducing learning rate to 0.0006249999860301614.\n"
     ]
    },
    {
     "data": {
      "application/vnd.jupyter.widget-view+json": {
       "model_id": "",
       "version_major": 2,
       "version_minor": 0
      },
      "text/plain": [
       "HBox(children=(IntProgress(value=0, description='Epoch 16', max=7928, style=ProgressStyle(description_width='i…"
      ]
     },
     "metadata": {},
     "output_type": "display_data"
    },
    {
     "name": "stdout",
     "output_type": "stream",
     "text": [
      "\n",
      "Epoch 00017: val_acc improved from 0.81937 to 0.82089, saving model to model12_correctsplit\\model.h5\n"
     ]
    },
    {
     "data": {
      "application/vnd.jupyter.widget-view+json": {
       "model_id": "",
       "version_major": 2,
       "version_minor": 0
      },
      "text/plain": [
       "HBox(children=(IntProgress(value=0, description='Epoch 17', max=7928, style=ProgressStyle(description_width='i…"
      ]
     },
     "metadata": {},
     "output_type": "display_data"
    },
    {
     "name": "stdout",
     "output_type": "stream",
     "text": [
      "\n",
      "Epoch 00018: val_acc did not improve from 0.82089\n"
     ]
    },
    {
     "data": {
      "application/vnd.jupyter.widget-view+json": {
       "model_id": "",
       "version_major": 2,
       "version_minor": 0
      },
      "text/plain": [
       "HBox(children=(IntProgress(value=0, description='Epoch 18', max=7928, style=ProgressStyle(description_width='i…"
      ]
     },
     "metadata": {},
     "output_type": "display_data"
    },
    {
     "name": "stdout",
     "output_type": "stream",
     "text": [
      "\n",
      "Epoch 00019: val_acc did not improve from 0.82089\n"
     ]
    },
    {
     "data": {
      "application/vnd.jupyter.widget-view+json": {
       "model_id": "",
       "version_major": 2,
       "version_minor": 0
      },
      "text/plain": [
       "HBox(children=(IntProgress(value=0, description='Epoch 19', max=7928, style=ProgressStyle(description_width='i…"
      ]
     },
     "metadata": {},
     "output_type": "display_data"
    },
    {
     "name": "stdout",
     "output_type": "stream",
     "text": [
      "\n",
      "Epoch 00020: val_acc did not improve from 0.82089\n",
      "\n",
      "Epoch 00020: ReduceLROnPlateau reducing learning rate to 0.0003124999930150807.\n"
     ]
    },
    {
     "data": {
      "application/vnd.jupyter.widget-view+json": {
       "model_id": "",
       "version_major": 2,
       "version_minor": 0
      },
      "text/plain": [
       "HBox(children=(IntProgress(value=0, description='Epoch 20', max=7928, style=ProgressStyle(description_width='i…"
      ]
     },
     "metadata": {},
     "output_type": "display_data"
    },
    {
     "name": "stdout",
     "output_type": "stream",
     "text": [
      "\n",
      "Epoch 00021: val_acc improved from 0.82089 to 0.82190, saving model to model12_correctsplit\\model.h5\n"
     ]
    },
    {
     "data": {
      "application/vnd.jupyter.widget-view+json": {
       "model_id": "",
       "version_major": 2,
       "version_minor": 0
      },
      "text/plain": [
       "HBox(children=(IntProgress(value=0, description='Epoch 21', max=7928, style=ProgressStyle(description_width='i…"
      ]
     },
     "metadata": {},
     "output_type": "display_data"
    },
    {
     "name": "stdout",
     "output_type": "stream",
     "text": [
      "\n",
      "Epoch 00022: val_acc did not improve from 0.82190\n"
     ]
    },
    {
     "data": {
      "application/vnd.jupyter.widget-view+json": {
       "model_id": "",
       "version_major": 2,
       "version_minor": 0
      },
      "text/plain": [
       "HBox(children=(IntProgress(value=0, description='Epoch 22', max=7928, style=ProgressStyle(description_width='i…"
      ]
     },
     "metadata": {},
     "output_type": "display_data"
    },
    {
     "name": "stdout",
     "output_type": "stream",
     "text": [
      "\n",
      "Epoch 00023: val_acc did not improve from 0.82190\n"
     ]
    },
    {
     "data": {
      "application/vnd.jupyter.widget-view+json": {
       "model_id": "",
       "version_major": 2,
       "version_minor": 0
      },
      "text/plain": [
       "HBox(children=(IntProgress(value=0, description='Epoch 23', max=7928, style=ProgressStyle(description_width='i…"
      ]
     },
     "metadata": {},
     "output_type": "display_data"
    },
    {
     "name": "stdout",
     "output_type": "stream",
     "text": [
      "\n",
      "Epoch 00024: val_acc improved from 0.82190 to 0.82240, saving model to model12_correctsplit\\model.h5\n"
     ]
    },
    {
     "data": {
      "application/vnd.jupyter.widget-view+json": {
       "model_id": "",
       "version_major": 2,
       "version_minor": 0
      },
      "text/plain": [
       "HBox(children=(IntProgress(value=0, description='Epoch 24', max=7928, style=ProgressStyle(description_width='i…"
      ]
     },
     "metadata": {},
     "output_type": "display_data"
    },
    {
     "name": "stdout",
     "output_type": "stream",
     "text": [
      "\n",
      "Epoch 00025: val_acc improved from 0.82240 to 0.82341, saving model to model12_correctsplit\\model.h5\n"
     ]
    },
    {
     "data": {
      "application/vnd.jupyter.widget-view+json": {
       "model_id": "",
       "version_major": 2,
       "version_minor": 0
      },
      "text/plain": [
       "HBox(children=(IntProgress(value=0, description='Epoch 25', max=7928, style=ProgressStyle(description_width='i…"
      ]
     },
     "metadata": {},
     "output_type": "display_data"
    },
    {
     "name": "stdout",
     "output_type": "stream",
     "text": [
      "\n",
      "Epoch 00026: val_acc did not improve from 0.82341\n"
     ]
    },
    {
     "data": {
      "application/vnd.jupyter.widget-view+json": {
       "model_id": "",
       "version_major": 2,
       "version_minor": 0
      },
      "text/plain": [
       "HBox(children=(IntProgress(value=0, description='Epoch 26', max=7928, style=ProgressStyle(description_width='i…"
      ]
     },
     "metadata": {},
     "output_type": "display_data"
    },
    {
     "name": "stdout",
     "output_type": "stream",
     "text": [
      "\n",
      "Epoch 00027: val_acc improved from 0.82341 to 0.82543, saving model to model12_correctsplit\\model.h5\n"
     ]
    },
    {
     "data": {
      "application/vnd.jupyter.widget-view+json": {
       "model_id": "",
       "version_major": 2,
       "version_minor": 0
      },
      "text/plain": [
       "HBox(children=(IntProgress(value=0, description='Epoch 27', max=7928, style=ProgressStyle(description_width='i…"
      ]
     },
     "metadata": {},
     "output_type": "display_data"
    },
    {
     "name": "stdout",
     "output_type": "stream",
     "text": [
      "\n",
      "Epoch 00028: val_acc did not improve from 0.82543\n"
     ]
    },
    {
     "data": {
      "application/vnd.jupyter.widget-view+json": {
       "model_id": "",
       "version_major": 2,
       "version_minor": 0
      },
      "text/plain": [
       "HBox(children=(IntProgress(value=0, description='Epoch 28', max=7928, style=ProgressStyle(description_width='i…"
      ]
     },
     "metadata": {},
     "output_type": "display_data"
    },
    {
     "name": "stdout",
     "output_type": "stream",
     "text": [
      "\n",
      "Epoch 00029: val_acc did not improve from 0.82543\n"
     ]
    },
    {
     "data": {
      "application/vnd.jupyter.widget-view+json": {
       "model_id": "",
       "version_major": 2,
       "version_minor": 0
      },
      "text/plain": [
       "HBox(children=(IntProgress(value=0, description='Epoch 29', max=7928, style=ProgressStyle(description_width='i…"
      ]
     },
     "metadata": {},
     "output_type": "display_data"
    },
    {
     "name": "stdout",
     "output_type": "stream",
     "text": [
      "\n",
      "Epoch 00030: val_acc did not improve from 0.82543\n",
      "\n",
      "Epoch 00030: ReduceLROnPlateau reducing learning rate to 0.00015624999650754035.\n"
     ]
    },
    {
     "data": {
      "application/vnd.jupyter.widget-view+json": {
       "model_id": "",
       "version_major": 2,
       "version_minor": 0
      },
      "text/plain": [
       "HBox(children=(IntProgress(value=0, description='Epoch 30', max=7928, style=ProgressStyle(description_width='i…"
      ]
     },
     "metadata": {},
     "output_type": "display_data"
    },
    {
     "name": "stdout",
     "output_type": "stream",
     "text": [
      "\n",
      "Epoch 00031: val_acc did not improve from 0.82543\n"
     ]
    },
    {
     "data": {
      "application/vnd.jupyter.widget-view+json": {
       "model_id": "",
       "version_major": 2,
       "version_minor": 0
      },
      "text/plain": [
       "HBox(children=(IntProgress(value=0, description='Epoch 31', max=7928, style=ProgressStyle(description_width='i…"
      ]
     },
     "metadata": {},
     "output_type": "display_data"
    },
    {
     "name": "stdout",
     "output_type": "stream",
     "text": [
      "\n",
      "Epoch 00032: val_acc did not improve from 0.82543\n"
     ]
    },
    {
     "data": {
      "application/vnd.jupyter.widget-view+json": {
       "model_id": "",
       "version_major": 2,
       "version_minor": 0
      },
      "text/plain": [
       "HBox(children=(IntProgress(value=0, description='Epoch 32', max=7928, style=ProgressStyle(description_width='i…"
      ]
     },
     "metadata": {},
     "output_type": "display_data"
    },
    {
     "name": "stdout",
     "output_type": "stream",
     "text": [
      "\n",
      "Epoch 00033: val_acc did not improve from 0.82543\n",
      "\n",
      "Epoch 00033: ReduceLROnPlateau reducing learning rate to 7.812499825377017e-05.\n"
     ]
    },
    {
     "data": {
      "application/vnd.jupyter.widget-view+json": {
       "model_id": "",
       "version_major": 2,
       "version_minor": 0
      },
      "text/plain": [
       "HBox(children=(IntProgress(value=0, description='Epoch 33', max=7928, style=ProgressStyle(description_width='i…"
      ]
     },
     "metadata": {},
     "output_type": "display_data"
    },
    {
     "name": "stdout",
     "output_type": "stream",
     "text": [
      "\n",
      "Epoch 00034: val_acc did not improve from 0.82543\n"
     ]
    },
    {
     "data": {
      "application/vnd.jupyter.widget-view+json": {
       "model_id": "",
       "version_major": 2,
       "version_minor": 0
      },
      "text/plain": [
       "HBox(children=(IntProgress(value=0, description='Epoch 34', max=7928, style=ProgressStyle(description_width='i…"
      ]
     },
     "metadata": {},
     "output_type": "display_data"
    },
    {
     "name": "stdout",
     "output_type": "stream",
     "text": [
      "\n",
      "Epoch 00035: val_acc did not improve from 0.82543\n"
     ]
    },
    {
     "data": {
      "application/vnd.jupyter.widget-view+json": {
       "model_id": "",
       "version_major": 2,
       "version_minor": 0
      },
      "text/plain": [
       "HBox(children=(IntProgress(value=0, description='Epoch 35', max=7928, style=ProgressStyle(description_width='i…"
      ]
     },
     "metadata": {},
     "output_type": "display_data"
    },
    {
     "name": "stdout",
     "output_type": "stream",
     "text": [
      "\n",
      "Epoch 00036: val_acc did not improve from 0.82543\n",
      "\n",
      "Epoch 00036: ReduceLROnPlateau reducing learning rate to 3.9062499126885086e-05.\n"
     ]
    },
    {
     "data": {
      "application/vnd.jupyter.widget-view+json": {
       "model_id": "",
       "version_major": 2,
       "version_minor": 0
      },
      "text/plain": [
       "HBox(children=(IntProgress(value=0, description='Epoch 36', max=7928, style=ProgressStyle(description_width='i…"
      ]
     },
     "metadata": {},
     "output_type": "display_data"
    },
    {
     "name": "stdout",
     "output_type": "stream",
     "text": [
      "\n",
      "Epoch 00037: val_acc did not improve from 0.82543\n"
     ]
    },
    {
     "data": {
      "application/vnd.jupyter.widget-view+json": {
       "model_id": "",
       "version_major": 2,
       "version_minor": 0
      },
      "text/plain": [
       "HBox(children=(IntProgress(value=0, description='Epoch 37', max=7928, style=ProgressStyle(description_width='i…"
      ]
     },
     "metadata": {},
     "output_type": "display_data"
    },
    {
     "name": "stdout",
     "output_type": "stream",
     "text": [
      "\n",
      "Epoch 00038: val_acc did not improve from 0.82543\n"
     ]
    },
    {
     "data": {
      "application/vnd.jupyter.widget-view+json": {
       "model_id": "",
       "version_major": 2,
       "version_minor": 0
      },
      "text/plain": [
       "HBox(children=(IntProgress(value=0, description='Epoch 38', max=7928, style=ProgressStyle(description_width='i…"
      ]
     },
     "metadata": {},
     "output_type": "display_data"
    },
    {
     "name": "stdout",
     "output_type": "stream",
     "text": [
      "\n",
      "Epoch 00039: val_acc did not improve from 0.82543\n",
      "\n",
      "Epoch 00039: ReduceLROnPlateau reducing learning rate to 1.9531249563442543e-05.\n"
     ]
    },
    {
     "data": {
      "application/vnd.jupyter.widget-view+json": {
       "model_id": "",
       "version_major": 2,
       "version_minor": 0
      },
      "text/plain": [
       "HBox(children=(IntProgress(value=0, description='Epoch 39', max=7928, style=ProgressStyle(description_width='i…"
      ]
     },
     "metadata": {},
     "output_type": "display_data"
    },
    {
     "name": "stdout",
     "output_type": "stream",
     "text": [
      "\n",
      "Epoch 00040: val_acc did not improve from 0.82543\n"
     ]
    }
   ],
   "source": [
    "h = model.fit(\n",
    "    x=X_train,\n",
    "    y=y_train,\n",
    "    batch_size=32,\n",
    "    epochs=40,\n",
    "    verbose=0,\n",
    "    validation_data=(X_val,y_val),\n",
    "    callbacks=callbacks\n",
    ")"
   ]
  },
  {
   "cell_type": "code",
   "execution_count": 55,
   "metadata": {},
   "outputs": [
    {
     "data": {
      "text/plain": [
       "'model12_correctsplit\\\\model.h5'"
      ]
     },
     "execution_count": 55,
     "metadata": {},
     "output_type": "execute_result"
    }
   ],
   "source": [
    "filepath"
   ]
  },
  {
   "cell_type": "code",
   "execution_count": 56,
   "metadata": {},
   "outputs": [],
   "source": [
    "model.load_weights(filepath)"
   ]
  },
  {
   "cell_type": "code",
   "execution_count": 50,
   "metadata": {},
   "outputs": [
    {
     "name": "stdout",
     "output_type": "stream",
     "text": [
      "Normalized confusion matrix\n",
      "saving figure to results\\conf_matrix.png\n"
     ]
    },
    {
     "data": {
      "image/png": "[encoded data removed]",
      "text/plain": [
       "<Figure size 864x864 with 1 Axes>"
      ]
     },
     "metadata": {},
     "output_type": "display_data"
    }
   ],
   "source": [
    "y_pred_proba = model.predict(X_val)\n",
    "y_pred = np.argmax(y_pred_proba, axis=1)\n",
    "y_test_argmax = np.argmax(y_val, axis=1)\n",
    "\n",
    "\n",
    "cnf_matrix = confusion_matrix(y_test_argmax, y_pred)\n",
    "\n",
    "fig = plot_confusion_matrix(cnf_matrix, onehot_enc.categories_[0], normalize=True)\n",
    "savefig(fig,'conf_matrix.png')"
   ]
  },
  {
   "cell_type": "code",
   "execution_count": 51,
   "metadata": {},
   "outputs": [],
   "source": [
    "y_preds = np.argmax(model.predict(X_val),axis=1)"
   ]
  },
  {
   "cell_type": "code",
   "execution_count": 52,
   "metadata": {},
   "outputs": [],
   "source": [
    "from sklearn.metrics import f1_score, accuracy_score"
   ]
  },
  {
   "cell_type": "code",
   "execution_count": 53,
   "metadata": {},
   "outputs": [
    {
     "data": {
      "text/plain": [
       "0.8229061553985872"
      ]
     },
     "execution_count": 53,
     "metadata": {},
     "output_type": "execute_result"
    }
   ],
   "source": [
    "f1_score(np.argmax(y_val,axis=1), y_preds, average='micro')"
   ]
  },
  {
   "cell_type": "code",
   "execution_count": 54,
   "metadata": {},
   "outputs": [
    {
     "ename": "NameError",
     "evalue": "name 'h' is not defined",
     "output_type": "error",
     "traceback": [
      "\u001b[1;31m---------------------------------------------------------------------------\u001b[0m",
      "\u001b[1;31mNameError\u001b[0m                                 Traceback (most recent call last)",
      "\u001b[1;32m<ipython-input-54-7c70a1812a33>\u001b[0m in \u001b[0;36m<module>\u001b[1;34m\u001b[0m\n\u001b[0;32m      1\u001b[0m \u001b[0mplt\u001b[0m\u001b[1;33m.\u001b[0m\u001b[0mfigure\u001b[0m\u001b[1;33m(\u001b[0m\u001b[0mfigsize\u001b[0m\u001b[1;33m=\u001b[0m\u001b[1;33m(\u001b[0m\u001b[1;36m8\u001b[0m\u001b[1;33m,\u001b[0m\u001b[1;36m6\u001b[0m\u001b[1;33m)\u001b[0m\u001b[1;33m)\u001b[0m\u001b[1;33m\u001b[0m\u001b[1;33m\u001b[0m\u001b[0m\n\u001b[1;32m----> 2\u001b[1;33m \u001b[0mplt\u001b[0m\u001b[1;33m.\u001b[0m\u001b[0mplot\u001b[0m\u001b[1;33m(\u001b[0m\u001b[0mh\u001b[0m\u001b[1;33m.\u001b[0m\u001b[0mhistory\u001b[0m\u001b[1;33m[\u001b[0m\u001b[1;34m'acc'\u001b[0m\u001b[1;33m]\u001b[0m\u001b[1;33m)\u001b[0m\u001b[1;33m\u001b[0m\u001b[1;33m\u001b[0m\u001b[0m\n\u001b[0m\u001b[0;32m      3\u001b[0m \u001b[0mplt\u001b[0m\u001b[1;33m.\u001b[0m\u001b[0mplot\u001b[0m\u001b[1;33m(\u001b[0m\u001b[0mh\u001b[0m\u001b[1;33m.\u001b[0m\u001b[0mhistory\u001b[0m\u001b[1;33m[\u001b[0m\u001b[1;34m'val_acc'\u001b[0m\u001b[1;33m]\u001b[0m\u001b[1;33m)\u001b[0m\u001b[1;33m\u001b[0m\u001b[1;33m\u001b[0m\u001b[0m\n\u001b[0;32m      4\u001b[0m \u001b[0mplt\u001b[0m\u001b[1;33m.\u001b[0m\u001b[0mtitle\u001b[0m\u001b[1;33m(\u001b[0m\u001b[1;34m'training history'\u001b[0m\u001b[1;33m,\u001b[0m \u001b[0mfontsize\u001b[0m\u001b[1;33m=\u001b[0m\u001b[1;36m12\u001b[0m\u001b[1;33m)\u001b[0m\u001b[1;33m\u001b[0m\u001b[1;33m\u001b[0m\u001b[0m\n\u001b[0;32m      5\u001b[0m \u001b[0mplt\u001b[0m\u001b[1;33m.\u001b[0m\u001b[0mylabel\u001b[0m\u001b[1;33m(\u001b[0m\u001b[1;34m'accuracy'\u001b[0m\u001b[1;33m,\u001b[0m \u001b[0mfontsize\u001b[0m\u001b[1;33m=\u001b[0m\u001b[1;36m12\u001b[0m\u001b[1;33m)\u001b[0m\u001b[1;33m\u001b[0m\u001b[1;33m\u001b[0m\u001b[0m\n",
      "\u001b[1;31mNameError\u001b[0m: name 'h' is not defined"
     ]
    },
    {
     "data": {
      "text/plain": [
       "<Figure size 576x432 with 0 Axes>"
      ]
     },
     "metadata": {},
     "output_type": "display_data"
    }
   ],
   "source": [
    "plt.figure(figsize=(8,6))\n",
    "plt.plot(h.history['acc'])\n",
    "plt.plot(h.history['val_acc'])\n",
    "plt.title('training history', fontsize=12)\n",
    "plt.ylabel('accuracy', fontsize=12)\n",
    "plt.xlabel('epoch', fontsize=12)\n",
    "plt.legend(['train', 'test'], loc='upper left')\n",
    "savefig(plt.gcf(), 'history.png')\n",
    "plt.show()"
   ]
  },
  {
   "cell_type": "markdown",
   "metadata": {},
   "source": [
    "# Firearms - lgbt problem"
   ]
  },
  {
   "cell_type": "code",
   "execution_count": 116,
   "metadata": {},
   "outputs": [
    {
     "data": {
      "application/vnd.jupyter.widget-view+json": {
       "model_id": "97c58eca1dc1414d941d0197982ae27d",
       "version_major": 2,
       "version_minor": 0
      },
      "text/plain": [
       "HBox(children=(IntProgress(value=0, max=991), HTML(value='')))"
      ]
     },
     "metadata": {},
     "output_type": "display_data"
    }
   ],
   "source": [
    "firearms_lgbt = pd.DataFrame(columns=['text','processed','true','predict','confidence','second guess','second guess confidence'])\n",
    "firearms_df = data[data.category=='firearms']\n",
    "for i, row in tqdm(firearms_df.iterrows(),total=len(firearms_df)):\n",
    "    s = row['text']\n",
    "    s_encoded = preprocess_sentence(s,we,MAX_LEN=40)\n",
    "    preds = model.predict(np.array([\n",
    "                s_encoded\n",
    "            ]))\n",
    "    second_c, top_c = np.sort(preds)[:,-2:][0]\n",
    "    second, top = onehot_enc.categories_[0][np.argsort(preds)[:,-2:]][0]\n",
    "    firearms_lgbt.loc[len(firearms_lgbt)] = [s, row.text_processed, row.category, top, top_c, second, second_c]"
   ]
  },
  {
   "cell_type": "code",
   "execution_count": 157,
   "metadata": {
    "scrolled": false
   },
   "outputs": [
    {
     "name": "stdout",
     "output_type": "stream",
     "text": [
      "yippee ki yay mother fuckers! \n",
      "\n",
      "----\n",
      "\n",
      "I’ll take things that never happened for 500, Alex.( Jen— > UVU\n",
      "| @ITMFA_NOW\n",
      "\n",
      "Overheard in my living room where my\n",
      "daughter and her friend are having a\n",
      "sleepover: when do you think it will\n",
      "happen at our school? who do you think\n",
      "it would be? what would you do? |\n",
      "would die if you died..| fucking hate this\n",
      "so much... my heart is so heavy\n",
      "\n",
      "5/19/18, 6:14 PM\n",
      "\n",
      "21.7K Retweets 96.7K Likes \n",
      "\n",
      "----\n",
      "\n",
      "Reddit Mods hate this image. \n",
      "\n",
      "----\n",
      "\n",
      "Proud and Beautiful \n",
      "\n",
      "----\n",
      "\n",
      "It’s so cute . I want one for the novelty \n",
      "\n",
      "----\n",
      "\n",
      "A childhood dream of mine has been realized. I am now the proud owner of a 100 double drumrt\n",
      "\n",
      "|\n",
      "| \n",
      "\n",
      "----\n",
      "\n",
      "Dad's 50th Bday Present \n",
      "\n",
      "----\n",
      "\n",
      "Whether we are celebrating Christmas with friends and family, or depressingly alone, let us not forget the real reason for the seaaon \n",
      "\n",
      "----\n",
      "\n",
      "Excitement got the best of me! Here she is!!!! July of 1944!!!!!Pe ee ee ee ee \n",
      "\n",
      "----\n",
      "\n",
      "I think we all know what that would be used for if it were in our homes.@\n",
      "\n",
      "it lane ee \n",
      "\n",
      "----\n",
      "\n"
     ]
    },
    {
     "data": {
      "text/plain": [
       "[None, None, None, None, None, None, None, None, None, None]"
      ]
     },
     "execution_count": 157,
     "metadata": {},
     "output_type": "execute_result"
    }
   ],
   "source": [
    "[print(s, '\\n\\n----\\n') for s in firearms_lgbt[firearms_lgbt['predict']=='lgbt'].sort_values('confidence', ascending=False).head(10)['text'].values]"
   ]
  },
  {
   "cell_type": "code",
   "execution_count": 161,
   "metadata": {},
   "outputs": [
    {
     "name": "stdout",
     "output_type": "stream",
     "text": [
      "                                                                                                                                                                                                                                                                                                                                                                                                            text  \\\n",
      "331                                                                                                                                                                                                                                                                                                                                                                                yippee ki yay mother fuckers!   \n",
      "955  I’ll take things that never happened for 500, Alex.( Jen— > UVU\\n| @ITMFA_NOW\\n\\nOverheard in my living room where my\\ndaughter and her friend are having a\\nsleepover: when do you think it will\\nhappen at our school? who do you think\\nit would be? what would you do? |\\nwould die if you died..| fucking hate this\\nso much... my heart is so heavy\\n\\n5/19/18, 6:14 PM\\n\\n21.7K Retweets 96.7K Likes   \n",
      "884                                                                                                                                                                                                                                                                                                                                                                                 Reddit Mods hate this image.   \n",
      "528                                                                                                                                                                                                                                                                                                                                                                                          Proud and Beautiful   \n",
      "168                                                                                                                                                                                                                                                                                                                                                                    It’s so cute . I want one for the novelty   \n",
      "796                                                                                                                                                                                                                                                                                                         A childhood dream of mine has been realized. I am now the proud owner of a 100 double drumrt\\n\\n|\\n|   \n",
      "894                                                                                                                                                                                                                                                                                                                                                                                      Dad's 50th Bday Present   \n",
      "280                                                                                                                                                                                                                                                                        Whether we are celebrating Christmas with friends and family, or depressingly alone, let us not forget the real reason for the seaaon   \n",
      "558                                                                                                                                                                                                                                                                                                                               Excitement got the best of me! Here she is!!!! July of 1944!!!!!Pe ee ee ee ee   \n",
      "13                                                                                                                                                                                                                                                                                                                       I think we all know what that would be used for if it were in our homes.@\\n\\nit lane ee   \n",
      "\n",
      "                                                                                                                                                   processed  \\\n",
      "331                                                                                                                              yippee ki yay mother fucker   \n",
      "955  thing happen alex uvu overheard living room daughter friend have sleepover think happen school think die die fuck hate heart heavy pm k retweets k like   \n",
      "884                                                                                                                                   reddit mods hate image   \n",
      "528                                                                                                                                          proud beautiful   \n",
      "168                                                                                                                                        cute want novelty   \n",
      "796                                                                                                      a childhood dream realize proud owner double drumrt   \n",
      "894                                                                                                                                         dad bday present   \n",
      "280                                                                     whether celebrate christmas friend family depressingly let forget real reason seaaon   \n",
      "558                                                                                                                excitement get good here july ee ee ee ee   \n",
      "13                                                                                                                                        think know lane ee   \n",
      "\n",
      "         true predict  confidence second guess  second guess confidence  \n",
      "331  firearms    lgbt    0.889644     firearms                 0.060407  \n",
      "955  firearms    lgbt    0.880950     feminism                 0.086758  \n",
      "884  firearms    lgbt    0.874416     religion                 0.062799  \n",
      "528  firearms    lgbt    0.822943     firearms                 0.127632  \n",
      "168  firearms    lgbt    0.808466     firearms                 0.123556  \n",
      "796  firearms    lgbt    0.800193     firearms                 0.136715  \n",
      "894  firearms    lgbt    0.794876     firearms                 0.149395  \n",
      "280  firearms    lgbt    0.783544     firearms                 0.092575  \n",
      "558  firearms    lgbt    0.773076     firearms                 0.200610  \n",
      "13   firearms    lgbt    0.752802     firearms                 0.175418  \n"
     ]
    }
   ],
   "source": [
    "print(firearms_lgbt[firearms_lgbt['predict']=='lgbt'].sort_values('confidence', ascending=False).head(10))"
   ]
  },
  {
   "cell_type": "code",
   "execution_count": 123,
   "metadata": {},
   "outputs": [
    {
     "data": {
      "application/vnd.jupyter.widget-view+json": {
       "model_id": "7cfb095d283b4a98b470f12700713858",
       "version_major": 2,
       "version_minor": 0
      },
      "text/plain": [
       "HBox(children=(IntProgress(value=0, max=991), HTML(value='')))"
      ]
     },
     "metadata": {},
     "output_type": "display_data"
    }
   ],
   "source": [
    "errs = []\n",
    "\n",
    "lgbt_predictions = pd.DataFrame(columns=['text','processed','true','predict','confidence','second guess','second guess confidence'])\n",
    "lgbt_df = data[data.category=='lgbt']\n",
    "for i, row in tqdm(lgbt_df.iterrows(),total=len(lgbt_df)):\n",
    "    s = row['text']\n",
    "    try:\n",
    "        s_encoded = preprocess_sentence(s,we,MAX_LEN=40)\n",
    "        preds = model.predict(np.array([\n",
    "                    s_encoded\n",
    "                ]))\n",
    "        second_c, top_c = np.sort(preds)[:,-2:][0]\n",
    "        second, top = onehot_enc.categories_[0][np.argsort(preds)[:,-2:]][0]\n",
    "        lgbt_predictions.loc[len(lgbt_predictions)] = [s, row.text_processed, row.category, top, top_c, second, second_c]\n",
    "    except Exception as e:\n",
    "        errs.append(s)"
   ]
  },
  {
   "cell_type": "code",
   "execution_count": 126,
   "metadata": {},
   "outputs": [
    {
     "data": {
      "text/html": [
       "<div>\n",
       "<style scoped>\n",
       "    .dataframe tbody tr th:only-of-type {\n",
       "        vertical-align: middle;\n",
       "    }\n",
       "\n",
       "    .dataframe tbody tr th {\n",
       "        vertical-align: top;\n",
       "    }\n",
       "\n",
       "    .dataframe thead th {\n",
       "        text-align: right;\n",
       "    }\n",
       "</style>\n",
       "<table border=\"1\" class=\"dataframe\">\n",
       "  <thead>\n",
       "    <tr style=\"text-align: right;\">\n",
       "      <th></th>\n",
       "      <th>text</th>\n",
       "      <th>processed</th>\n",
       "      <th>true</th>\n",
       "      <th>predict</th>\n",
       "      <th>confidence</th>\n",
       "      <th>second guess</th>\n",
       "      <th>second guess confidence</th>\n",
       "    </tr>\n",
       "  </thead>\n",
       "  <tbody>\n",
       "    <tr>\n",
       "      <th>319</th>\n",
       "      <td>Today marks the second anniversary of the Pulse shooting in Orlando, Florida</td>\n",
       "      <td>today mark second anniversary pulse shoot orlando florida</td>\n",
       "      <td>lgbt</td>\n",
       "      <td>firearms</td>\n",
       "      <td>0.756446</td>\n",
       "      <td>lgbt</td>\n",
       "      <td>0.188461</td>\n",
       "    </tr>\n",
       "    <tr>\n",
       "      <th>666</th>\n",
       "      <td>When you can't handle &gt;7 inch dicksCrake</td>\n",
       "      <td>when handle inch dickscrake</td>\n",
       "      <td>lgbt</td>\n",
       "      <td>firearms</td>\n",
       "      <td>0.644878</td>\n",
       "      <td>lgbt</td>\n",
       "      <td>0.207264</td>\n",
       "    </tr>\n",
       "    <tr>\n",
       "      <th>761</th>\n",
       "      <td>Add the words Idaho!!!! Massive turnout in Boise. Amazing rainbow day in a normally red only state 😁</td>\n",
       "      <td>add word idaho massive turnout boise amazing rainbow day normally red state</td>\n",
       "      <td>lgbt</td>\n",
       "      <td>firearms</td>\n",
       "      <td>0.561439</td>\n",
       "      <td>lgbt</td>\n",
       "      <td>0.177700</td>\n",
       "    </tr>\n",
       "    <tr>\n",
       "      <th>240</th>\n",
       "      <td>All my stuff got lost when I moved, so I have to rebuild. Of course, the first thing I buy is THE PLAN.(Uae: a |\\n\\nmotte\\n— /</td>\n",
       "      <td>all stuff get lose move rebuild of course thing buy the motte</td>\n",
       "      <td>lgbt</td>\n",
       "      <td>firearms</td>\n",
       "      <td>0.519650</td>\n",
       "      <td>lgbt</td>\n",
       "      <td>0.316173</td>\n",
       "    </tr>\n",
       "    <tr>\n",
       "      <th>813</th>\n",
       "      <td>*want to vomit*JAYQ M\\n; Oem as\\n\\nme when i accidentally type in Pornhub.com\\ninstead of pornhub.com/gay</td>\n",
       "      <td>want m oem accidentally type instead</td>\n",
       "      <td>lgbt</td>\n",
       "      <td>firearms</td>\n",
       "      <td>0.463744</td>\n",
       "      <td>lgbt</td>\n",
       "      <td>0.377856</td>\n",
       "    </tr>\n",
       "    <tr>\n",
       "      <th>930</th>\n",
       "      <td>Can a Traffic Jam be Fierce?[7] Traffic Information [7] -\\n\\nTS MEA cel)- bale emer\\n\\nae aaa |\\niia |\\nTHROUGHOUT city i</td>\n",
       "      <td>can traffic jam traffic information ts mea bale emer ae aaa iia throughout city</td>\n",
       "      <td>lgbt</td>\n",
       "      <td>firearms</td>\n",
       "      <td>0.427132</td>\n",
       "      <td>lgbt</td>\n",
       "      <td>0.346508</td>\n",
       "    </tr>\n",
       "    <tr>\n",
       "      <th>961</th>\n",
       "      <td>yesterday in Nanjing, Chinaa\\nm\\n\\niu\\n\\n=\\n‘=\\ng\\nfel,\\nIS\\n-\\npa</td>\n",
       "      <td>yesterday nanjing chinaa m iu g fel is pa</td>\n",
       "      <td>lgbt</td>\n",
       "      <td>firearms</td>\n",
       "      <td>0.426423</td>\n",
       "      <td>lgbt</td>\n",
       "      <td>0.346564</td>\n",
       "    </tr>\n",
       "    <tr>\n",
       "      <th>210</th>\n",
       "      <td>So happy this subreddit has been banned.</td>\n",
       "      <td>so happy subreddit ban</td>\n",
       "      <td>lgbt</td>\n",
       "      <td>firearms</td>\n",
       "      <td>0.388590</td>\n",
       "      <td>feminism</td>\n",
       "      <td>0.292609</td>\n",
       "    </tr>\n",
       "    <tr>\n",
       "      <th>450</th>\n",
       "      <td>Not mine, just wanted to spread it around.</td>\n",
       "      <td>not want spread</td>\n",
       "      <td>lgbt</td>\n",
       "      <td>firearms</td>\n",
       "      <td>0.368430</td>\n",
       "      <td>lgbt</td>\n",
       "      <td>0.332008</td>\n",
       "    </tr>\n",
       "    <tr>\n",
       "      <th>727</th>\n",
       "      <td>Is this right or wrong?</td>\n",
       "      <td>be right wrong</td>\n",
       "      <td>lgbt</td>\n",
       "      <td>firearms</td>\n",
       "      <td>0.303868</td>\n",
       "      <td>lgbt</td>\n",
       "      <td>0.265197</td>\n",
       "    </tr>\n",
       "    <tr>\n",
       "      <th>365</th>\n",
       "      <td>Flying our flag in front of the White House today at the DC Protests. We are all in this together. ✊</td>\n",
       "      <td>fly flag white house today dc protests</td>\n",
       "      <td>lgbt</td>\n",
       "      <td>firearms</td>\n",
       "      <td>0.283342</td>\n",
       "      <td>politics</td>\n",
       "      <td>0.206825</td>\n",
       "    </tr>\n",
       "    <tr>\n",
       "      <th>51</th>\n",
       "      <td>The prefect power bottom</td>\n",
       "      <td>the prefect power</td>\n",
       "      <td>lgbt</td>\n",
       "      <td>firearms</td>\n",
       "      <td>0.263725</td>\n",
       "      <td>lgbt</td>\n",
       "      <td>0.257493</td>\n",
       "    </tr>\n",
       "  </tbody>\n",
       "</table>\n",
       "</div>"
      ],
      "text/plain": [
       "                                                                                                                               text  \\\n",
       "319                                                    Today marks the second anniversary of the Pulse shooting in Orlando, Florida   \n",
       "666                                                                                        When you can't handle >7 inch dicksCrake   \n",
       "761                            Add the words Idaho!!!! Massive turnout in Boise. Amazing rainbow day in a normally red only state 😁   \n",
       "240  All my stuff got lost when I moved, so I have to rebuild. Of course, the first thing I buy is THE PLAN.(Uae: a |\\n\\nmotte\\n— /   \n",
       "813                       *want to vomit*JAYQ M\\n; Oem as\\n\\nme when i accidentally type in Pornhub.com\\ninstead of pornhub.com/gay   \n",
       "930       Can a Traffic Jam be Fierce?[7] Traffic Information [7] -\\n\\nTS MEA cel)- bale emer\\n\\nae aaa |\\niia |\\nTHROUGHOUT city i   \n",
       "961                                                              yesterday in Nanjing, Chinaa\\nm\\n\\niu\\n\\n=\\n‘=\\ng\\nfel,\\nIS\\n-\\npa   \n",
       "210                                                                                        So happy this subreddit has been banned.   \n",
       "450                                                                                      Not mine, just wanted to spread it around.   \n",
       "727                                                                                                         Is this right or wrong?   \n",
       "365                            Flying our flag in front of the White House today at the DC Protests. We are all in this together. ✊   \n",
       "51                                                                                                         The prefect power bottom   \n",
       "\n",
       "                                                                           processed  \\\n",
       "319                        today mark second anniversary pulse shoot orlando florida   \n",
       "666                                                      when handle inch dickscrake   \n",
       "761      add word idaho massive turnout boise amazing rainbow day normally red state   \n",
       "240                    all stuff get lose move rebuild of course thing buy the motte   \n",
       "813                                             want m oem accidentally type instead   \n",
       "930  can traffic jam traffic information ts mea bale emer ae aaa iia throughout city   \n",
       "961                                        yesterday nanjing chinaa m iu g fel is pa   \n",
       "210                                                           so happy subreddit ban   \n",
       "450                                                                  not want spread   \n",
       "727                                                                   be right wrong   \n",
       "365                                           fly flag white house today dc protests   \n",
       "51                                                                 the prefect power   \n",
       "\n",
       "     true   predict  confidence second guess  second guess confidence  \n",
       "319  lgbt  firearms    0.756446         lgbt                 0.188461  \n",
       "666  lgbt  firearms    0.644878         lgbt                 0.207264  \n",
       "761  lgbt  firearms    0.561439         lgbt                 0.177700  \n",
       "240  lgbt  firearms    0.519650         lgbt                 0.316173  \n",
       "813  lgbt  firearms    0.463744         lgbt                 0.377856  \n",
       "930  lgbt  firearms    0.427132         lgbt                 0.346508  \n",
       "961  lgbt  firearms    0.426423         lgbt                 0.346564  \n",
       "210  lgbt  firearms    0.388590     feminism                 0.292609  \n",
       "450  lgbt  firearms    0.368430         lgbt                 0.332008  \n",
       "727  lgbt  firearms    0.303868         lgbt                 0.265197  \n",
       "365  lgbt  firearms    0.283342     politics                 0.206825  \n",
       "51   lgbt  firearms    0.263725         lgbt                 0.257493  "
      ]
     },
     "execution_count": 126,
     "metadata": {},
     "output_type": "execute_result"
    }
   ],
   "source": [
    "lgbt_predictions[lgbt_predictions.predict=='firearms'].sort_values('confidence',ascending=False)"
   ]
  },
  {
   "cell_type": "code",
   "execution_count": 127,
   "metadata": {},
   "outputs": [
    {
     "data": {
      "text/html": [
       "<div>\n",
       "<style scoped>\n",
       "    .dataframe tbody tr th:only-of-type {\n",
       "        vertical-align: middle;\n",
       "    }\n",
       "\n",
       "    .dataframe tbody tr th {\n",
       "        vertical-align: top;\n",
       "    }\n",
       "\n",
       "    .dataframe thead th {\n",
       "        text-align: right;\n",
       "    }\n",
       "</style>\n",
       "<table border=\"1\" class=\"dataframe\">\n",
       "  <thead>\n",
       "    <tr style=\"text-align: right;\">\n",
       "      <th></th>\n",
       "      <th>text</th>\n",
       "      <th>processed</th>\n",
       "      <th>true</th>\n",
       "      <th>predict</th>\n",
       "      <th>confidence</th>\n",
       "      <th>second guess</th>\n",
       "      <th>second guess confidence</th>\n",
       "    </tr>\n",
       "  </thead>\n",
       "  <tbody>\n",
       "    <tr>\n",
       "      <th>948</th>\n",
       "      <td>Got this Apple Watch strap today</td>\n",
       "      <td>get apple watch strap today</td>\n",
       "      <td>lgbt</td>\n",
       "      <td>lgbt</td>\n",
       "      <td>0.433556</td>\n",
       "      <td>firearms</td>\n",
       "      <td>0.426705</td>\n",
       "    </tr>\n",
       "    <tr>\n",
       "      <th>488</th>\n",
       "      <td>Just a reminder, this river actually exists in Finland.7\\nAE\\n©\\n\\ntie\\n\\n; LUNE)\\n\\n \\n\\n190\\n\\n \\n\\n \\n\\n \\n\\n      \\n\\n3003\\n\\nHakkarin</td>\n",
       "      <td>just reminder river actually exist ae tie lune hakkarin</td>\n",
       "      <td>lgbt</td>\n",
       "      <td>lgbt</td>\n",
       "      <td>0.437695</td>\n",
       "      <td>firearms</td>\n",
       "      <td>0.417708</td>\n",
       "    </tr>\n",
       "    <tr>\n",
       "      <th>655</th>\n",
       "      <td>Still happy:)Mo ks\\nee</td>\n",
       "      <td>still ks ee</td>\n",
       "      <td>lgbt</td>\n",
       "      <td>lgbt</td>\n",
       "      <td>0.545232</td>\n",
       "      <td>firearms</td>\n",
       "      <td>0.398607</td>\n",
       "    </tr>\n",
       "    <tr>\n",
       "      <th>912</th>\n",
       "      <td>Y’all don’t wear socks huhWhen you realize that you forgot\\nto wear socks during the 10 hour\\nanal session with your homie</td>\n",
       "      <td>wear sock huhwhen realize forget wear sock hour anal session homie</td>\n",
       "      <td>lgbt</td>\n",
       "      <td>lgbt</td>\n",
       "      <td>0.371892</td>\n",
       "      <td>firearms</td>\n",
       "      <td>0.364443</td>\n",
       "    </tr>\n",
       "    <tr>\n",
       "      <th>471</th>\n",
       "      <td>WeeeeeeeeAftermonths Ofspain\\nandifear I finally wo</td>\n",
       "      <td>weeeeeeeeaftermonths ofspain andifear finally wo</td>\n",
       "      <td>lgbt</td>\n",
       "      <td>lgbt</td>\n",
       "      <td>0.518725</td>\n",
       "      <td>firearms</td>\n",
       "      <td>0.359858</td>\n",
       "    </tr>\n",
       "    <tr>\n",
       "      <th>663</th>\n",
       "      <td>A light gaying is predicted, come prepared!S30 aa Ls\\nTe aaa\\nie</td>\n",
       "      <td>a light gaying predict come aa ls te aaa ie</td>\n",
       "      <td>lgbt</td>\n",
       "      <td>lgbt</td>\n",
       "      <td>0.599683</td>\n",
       "      <td>firearms</td>\n",
       "      <td>0.342208</td>\n",
       "    </tr>\n",
       "    <tr>\n",
       "      <th>668</th>\n",
       "      <td>DogsDOGS ARE\\nSO WEIRD\\n\\n    \\n\\nSKELETONCLAW.COM\\n\\n@SKELETON-CLAW</td>\n",
       "      <td>dogsdog are so weird claw</td>\n",
       "      <td>lgbt</td>\n",
       "      <td>lgbt</td>\n",
       "      <td>0.419468</td>\n",
       "      <td>firearms</td>\n",
       "      <td>0.329033</td>\n",
       "    </tr>\n",
       "    <tr>\n",
       "      <th>574</th>\n",
       "      <td>San Francisco Airport to Rename Terminal After Harvey Milk.</td>\n",
       "      <td>san francisco airport rename terminal after harvey milk</td>\n",
       "      <td>lgbt</td>\n",
       "      <td>economics</td>\n",
       "      <td>0.338228</td>\n",
       "      <td>firearms</td>\n",
       "      <td>0.327749</td>\n",
       "    </tr>\n",
       "    <tr>\n",
       "      <th>113</th>\n",
       "      <td>Currently being stood up</td>\n",
       "      <td>currently stand</td>\n",
       "      <td>lgbt</td>\n",
       "      <td>lgbt</td>\n",
       "      <td>0.381421</td>\n",
       "      <td>firearms</td>\n",
       "      <td>0.319087</td>\n",
       "    </tr>\n",
       "    <tr>\n",
       "      <th>517</th>\n",
       "      <td>YupACO Senn Ent]\\nee OT) Ea tng 7 P\\nre N an less a)\\n©, @ibefore you even\\nPOA Lah pe Og\\nSe kee “ies</td>\n",
       "      <td>yupaco senn ent ee ot ea tng p n poa lah pe og se kee ie</td>\n",
       "      <td>lgbt</td>\n",
       "      <td>lgbt</td>\n",
       "      <td>0.500485</td>\n",
       "      <td>firearms</td>\n",
       "      <td>0.315879</td>\n",
       "    </tr>\n",
       "    <tr>\n",
       "      <th>609</th>\n",
       "      <td>When your crush says he broke up.</td>\n",
       "      <td>when crush break</td>\n",
       "      <td>lgbt</td>\n",
       "      <td>lgbt</td>\n",
       "      <td>0.437392</td>\n",
       "      <td>firearms</td>\n",
       "      <td>0.306962</td>\n",
       "    </tr>\n",
       "    <tr>\n",
       "      <th>339</th>\n",
       "      <td>Never ForgetStagger Lee Shot First @\\n@elongreen\\n\\n \\n\\nPeople tend to dance around it,\\n\\nbut conservatives liked AIDS; for\\nyears the plague was, from their\\nperspective, killing the right people.\\n6:56 AM - 02 Dec 18\\n\\n2,267 Retweets 8,910 Likes\\n\\n0 im) Y oS\\n\\n, Stagger Lee Shot First @ @elongreen: 1d\\nhistorical memory has turned their actions\\ninto negligence, but they we cheering the\\n\\nepidemic on.\\nO 6 tT) 164 ©) 1,207 oS</td>\n",
       "      <td>never forgetstagger lee shot first people tend dance conservative like aids year plague perspective kill right people am dec retweet like be y os stagger lee shot first historical memory turn action negligence cheer epidemic o tt os</td>\n",
       "      <td>lgbt</td>\n",
       "      <td>feminism</td>\n",
       "      <td>0.422202</td>\n",
       "      <td>firearms</td>\n",
       "      <td>0.301830</td>\n",
       "    </tr>\n",
       "    <tr>\n",
       "      <th>154</th>\n",
       "      <td>GAY???av b IN 3\\n4, “ yoln\"®\\n. A\\n.s \\ESGA</td>\n",
       "      <td>b in yoln a</td>\n",
       "      <td>lgbt</td>\n",
       "      <td>lgbt</td>\n",
       "      <td>0.525874</td>\n",
       "      <td>firearms</td>\n",
       "      <td>0.297069</td>\n",
       "    </tr>\n",
       "    <tr>\n",
       "      <th>415</th>\n",
       "      <td>Oof</td>\n",
       "      <td>oof</td>\n",
       "      <td>lgbt</td>\n",
       "      <td>lgbt</td>\n",
       "      <td>0.448710</td>\n",
       "      <td>firearms</td>\n",
       "      <td>0.284685</td>\n",
       "    </tr>\n",
       "    <tr>\n",
       "      <th>920</th>\n",
       "      <td>He can definitely eat my candy</td>\n",
       "      <td>definitely eat candy</td>\n",
       "      <td>lgbt</td>\n",
       "      <td>lgbt</td>\n",
       "      <td>0.568117</td>\n",
       "      <td>firearms</td>\n",
       "      <td>0.283070</td>\n",
       "    </tr>\n",
       "    <tr>\n",
       "      <th>12</th>\n",
       "      <td>Oof me up my bois. 🤘</td>\n",
       "      <td>oof bois</td>\n",
       "      <td>lgbt</td>\n",
       "      <td>lgbt</td>\n",
       "      <td>0.608064</td>\n",
       "      <td>firearms</td>\n",
       "      <td>0.276085</td>\n",
       "    </tr>\n",
       "    <tr>\n",
       "      <th>362</th>\n",
       "      <td>That face</td>\n",
       "      <td>that face</td>\n",
       "      <td>lgbt</td>\n",
       "      <td>lgbt</td>\n",
       "      <td>0.481062</td>\n",
       "      <td>firearms</td>\n",
       "      <td>0.273852</td>\n",
       "    </tr>\n",
       "    <tr>\n",
       "      <th>649</th>\n",
       "      <td>who will buy this? hehe I willAirPods.\\n\\nNow with convenient\\nconcealable subwoofer.</td>\n",
       "      <td>buy hehe willairpod now convenient concealable subwoofer</td>\n",
       "      <td>lgbt</td>\n",
       "      <td>lgbt</td>\n",
       "      <td>0.680879</td>\n",
       "      <td>firearms</td>\n",
       "      <td>0.272012</td>\n",
       "    </tr>\n",
       "    <tr>\n",
       "      <th>508</th>\n",
       "      <td>Comedian reads question from audienceProbably UCM uiteya =\\n\\ne+\\n\\n \\n\\nTT PRReR ea</td>\n",
       "      <td>comedian read question audienceprobably ucm uiteya tt prrer ea</td>\n",
       "      <td>lgbt</td>\n",
       "      <td>lgbt</td>\n",
       "      <td>0.631538</td>\n",
       "      <td>firearms</td>\n",
       "      <td>0.268671</td>\n",
       "    </tr>\n",
       "    <tr>\n",
       "      <th>74</th>\n",
       "      <td>What a crazy ride. 2013 vs May 3rd, 2018</td>\n",
       "      <td>what crazy ride vs may</td>\n",
       "      <td>lgbt</td>\n",
       "      <td>lgbt</td>\n",
       "      <td>0.274626</td>\n",
       "      <td>firearms</td>\n",
       "      <td>0.266540</td>\n",
       "    </tr>\n",
       "    <tr>\n",
       "      <th>268</th>\n",
       "      <td>I’d watch</td>\n",
       "      <td>watch</td>\n",
       "      <td>lgbt</td>\n",
       "      <td>lgbt</td>\n",
       "      <td>0.373508</td>\n",
       "      <td>firearms</td>\n",
       "      <td>0.265628</td>\n",
       "    </tr>\n",
       "    <tr>\n",
       "      <th>48</th>\n",
       "      <td>Mrs &amp; Mrs at last!</td>\n",
       "      <td>mrs mrs</td>\n",
       "      <td>lgbt</td>\n",
       "      <td>lgbt</td>\n",
       "      <td>0.440476</td>\n",
       "      <td>firearms</td>\n",
       "      <td>0.263134</td>\n",
       "    </tr>\n",
       "    <tr>\n",
       "      <th>757</th>\n",
       "      <td>Ever did this with your boyfriend?Boyfriend minding his own\\nbusiness and you see his butt...</td>\n",
       "      <td>ever mind business butt</td>\n",
       "      <td>lgbt</td>\n",
       "      <td>lgbt</td>\n",
       "      <td>0.389976</td>\n",
       "      <td>firearms</td>\n",
       "      <td>0.262332</td>\n",
       "    </tr>\n",
       "    <tr>\n",
       "      <th>490</th>\n",
       "      <td>FactsMe trying to fit in with the Gays@</td>\n",
       "      <td>factsme try fit</td>\n",
       "      <td>lgbt</td>\n",
       "      <td>lgbt</td>\n",
       "      <td>0.425777</td>\n",
       "      <td>firearms</td>\n",
       "      <td>0.258249</td>\n",
       "    </tr>\n",
       "    <tr>\n",
       "      <th>233</th>\n",
       "      <td>Please vote.</td>\n",
       "      <td>please vote</td>\n",
       "      <td>lgbt</td>\n",
       "      <td>lgbt</td>\n",
       "      <td>0.437437</td>\n",
       "      <td>firearms</td>\n",
       "      <td>0.256928</td>\n",
       "    </tr>\n",
       "    <tr>\n",
       "      <th>645</th>\n",
       "      <td>It's fantastic being able to be myself finally</td>\n",
       "      <td>fantastic able finally</td>\n",
       "      <td>lgbt</td>\n",
       "      <td>lgbt</td>\n",
       "      <td>0.526275</td>\n",
       "      <td>firearms</td>\n",
       "      <td>0.250964</td>\n",
       "    </tr>\n",
       "    <tr>\n",
       "      <th>654</th>\n",
       "      <td>Me on Grindr.when your fridge empty af but\\nyou still go back to check after\\n15 minutes</td>\n",
       "      <td>fridge af check minute</td>\n",
       "      <td>lgbt</td>\n",
       "      <td>lgbt</td>\n",
       "      <td>0.573183</td>\n",
       "      <td>firearms</td>\n",
       "      <td>0.249950</td>\n",
       "    </tr>\n",
       "    <tr>\n",
       "      <th>448</th>\n",
       "      <td>When I get to bottom</td>\n",
       "      <td>when</td>\n",
       "      <td>lgbt</td>\n",
       "      <td>lgbt</td>\n",
       "      <td>0.474922</td>\n",
       "      <td>firearms</td>\n",
       "      <td>0.249053</td>\n",
       "    </tr>\n",
       "    <tr>\n",
       "      <th>458</th>\n",
       "      <td>Well, thank youYou got 2 Great Balls!</td>\n",
       "      <td>well thank youyou get great balls</td>\n",
       "      <td>lgbt</td>\n",
       "      <td>lgbt</td>\n",
       "      <td>0.611611</td>\n",
       "      <td>firearms</td>\n",
       "      <td>0.246285</td>\n",
       "    </tr>\n",
       "    <tr>\n",
       "      <th>217</th>\n",
       "      <td>Yep.</td>\n",
       "      <td>yep</td>\n",
       "      <td>lgbt</td>\n",
       "      <td>lgbt</td>\n",
       "      <td>0.624753</td>\n",
       "      <td>firearms</td>\n",
       "      <td>0.245663</td>\n",
       "    </tr>\n",
       "    <tr>\n",
       "      <th>...</th>\n",
       "      <td>...</td>\n",
       "      <td>...</td>\n",
       "      <td>...</td>\n",
       "      <td>...</td>\n",
       "      <td>...</td>\n",
       "      <td>...</td>\n",
       "      <td>...</td>\n",
       "    </tr>\n",
       "    <tr>\n",
       "      <th>357</th>\n",
       "      <td>My girlfriend and I. Still not out to extended family, so I wanted to celebrate her publicly somewhere.ory Rye eS ee f\\n\\n \\n\\naed\\n\\na\\n\\na\\n\\n~\\na</td>\n",
       "      <td>girlfriend still extended family want celebrate publicly rye es ee f aed</td>\n",
       "      <td>lgbt</td>\n",
       "      <td>lgbt</td>\n",
       "      <td>0.863918</td>\n",
       "      <td>firearms</td>\n",
       "      <td>0.079319</td>\n",
       "    </tr>\n",
       "    <tr>\n",
       "      <th>342</th>\n",
       "      <td>Big MoodSa |\\n\\n   \\n\\n4 q\\nUNE Ma Se Kereta EN</td>\n",
       "      <td>big moodsa q une ma se kereta en</td>\n",
       "      <td>lgbt</td>\n",
       "      <td>lgbt</td>\n",
       "      <td>0.832097</td>\n",
       "      <td>firearms</td>\n",
       "      <td>0.075470</td>\n",
       "    </tr>\n",
       "    <tr>\n",
       "      <th>561</th>\n",
       "      <td>Perfect day for badminton with my husband (Chicago)</td>\n",
       "      <td>perfect day badminton husband chicago</td>\n",
       "      <td>lgbt</td>\n",
       "      <td>lgbt</td>\n",
       "      <td>0.746212</td>\n",
       "      <td>firearms</td>\n",
       "      <td>0.074831</td>\n",
       "    </tr>\n",
       "    <tr>\n",
       "      <th>291</th>\n",
       "      <td>I don't discriminate!</td>\n",
       "      <td>discriminate</td>\n",
       "      <td>lgbt</td>\n",
       "      <td>lgbt</td>\n",
       "      <td>0.758744</td>\n",
       "      <td>firearms</td>\n",
       "      <td>0.072280</td>\n",
       "    </tr>\n",
       "    <tr>\n",
       "      <th>485</th>\n",
       "      <td>Hey they look nice- ahhh..Show: *has an Igbt character*\\n_Me: oh this show looks nice\\n\\nFive seconds later:</td>\n",
       "      <td>hey look ahhh show igbt character oh look nice five second later</td>\n",
       "      <td>lgbt</td>\n",
       "      <td>lgbt</td>\n",
       "      <td>0.899309</td>\n",
       "      <td>firearms</td>\n",
       "      <td>0.067951</td>\n",
       "    </tr>\n",
       "    <tr>\n",
       "      <th>748</th>\n",
       "      <td>A little positivity for the weekend</td>\n",
       "      <td>a little positivity weekend</td>\n",
       "      <td>lgbt</td>\n",
       "      <td>lgbt</td>\n",
       "      <td>0.862200</td>\n",
       "      <td>firearms</td>\n",
       "      <td>0.057393</td>\n",
       "    </tr>\n",
       "    <tr>\n",
       "      <th>567</th>\n",
       "      <td>Happy Valentine’s Day! ❤️ - 8 Months today.</td>\n",
       "      <td>happy valentine day month today</td>\n",
       "      <td>lgbt</td>\n",
       "      <td>lgbt</td>\n",
       "      <td>0.927168</td>\n",
       "      <td>firearms</td>\n",
       "      <td>0.052224</td>\n",
       "    </tr>\n",
       "    <tr>\n",
       "      <th>972</th>\n",
       "      <td>Starting new semester as my true self. Nervous but also really excited and motivated! 😘</td>\n",
       "      <td>start new semester true self nervous excited motivated</td>\n",
       "      <td>lgbt</td>\n",
       "      <td>lgbt</td>\n",
       "      <td>0.839059</td>\n",
       "      <td>firearms</td>\n",
       "      <td>0.050733</td>\n",
       "    </tr>\n",
       "    <tr>\n",
       "      <th>34</th>\n",
       "      <td>Having my first V-day in a healthy relationship just makes me really happy :) (L’Étoile, Madison, WI)</td>\n",
       "      <td>have v day healthy relationship make happy madison wi</td>\n",
       "      <td>lgbt</td>\n",
       "      <td>lgbt</td>\n",
       "      <td>0.906365</td>\n",
       "      <td>firearms</td>\n",
       "      <td>0.048569</td>\n",
       "    </tr>\n",
       "    <tr>\n",
       "      <th>437</th>\n",
       "      <td>Thankfully this isn't a rule in the military anymore</td>\n",
       "      <td>thankfully rule military anymore</td>\n",
       "      <td>lgbt</td>\n",
       "      <td>war</td>\n",
       "      <td>0.878697</td>\n",
       "      <td>firearms</td>\n",
       "      <td>0.047523</td>\n",
       "    </tr>\n",
       "    <tr>\n",
       "      <th>818</th>\n",
       "      <td>Saw this in the card shop for Father's dayWE ARE\\nET\\n\\nEt</td>\n",
       "      <td>see card shop father daywe are et et</td>\n",
       "      <td>lgbt</td>\n",
       "      <td>lgbt</td>\n",
       "      <td>0.892685</td>\n",
       "      <td>firearms</td>\n",
       "      <td>0.046079</td>\n",
       "    </tr>\n",
       "    <tr>\n",
       "      <th>449</th>\n",
       "      <td>I feel like I can finally be myself. 6 months HRT. Here's to the next 6!</td>\n",
       "      <td>feel like finally month hrt here</td>\n",
       "      <td>lgbt</td>\n",
       "      <td>lgbt</td>\n",
       "      <td>0.873828</td>\n",
       "      <td>firearms</td>\n",
       "      <td>0.045683</td>\n",
       "    </tr>\n",
       "    <tr>\n",
       "      <th>90</th>\n",
       "      <td>Nice that these moments are making it onto sitcoms</td>\n",
       "      <td>nice moment make sitcom</td>\n",
       "      <td>lgbt</td>\n",
       "      <td>lgbt</td>\n",
       "      <td>0.906952</td>\n",
       "      <td>firearms</td>\n",
       "      <td>0.045367</td>\n",
       "    </tr>\n",
       "    <tr>\n",
       "      <th>499</th>\n",
       "      <td>My husband &amp; I are celebrating our 3 year anniversary this week!</td>\n",
       "      <td>husband celebrate year anniversary week</td>\n",
       "      <td>lgbt</td>\n",
       "      <td>lgbt</td>\n",
       "      <td>0.909002</td>\n",
       "      <td>firearms</td>\n",
       "      <td>0.040418</td>\n",
       "    </tr>\n",
       "    <tr>\n",
       "      <th>394</th>\n",
       "      <td>My fiancée and I just bought our first house and it came with a flag pole #longbeachpride</td>\n",
       "      <td>fiancée buy house come flag pole longbeachpride</td>\n",
       "      <td>lgbt</td>\n",
       "      <td>lgbt</td>\n",
       "      <td>0.931817</td>\n",
       "      <td>firearms</td>\n",
       "      <td>0.038109</td>\n",
       "    </tr>\n",
       "    <tr>\n",
       "      <th>642</th>\n",
       "      <td>Pride Popcorn</td>\n",
       "      <td>pride popcorn</td>\n",
       "      <td>lgbt</td>\n",
       "      <td>lgbt</td>\n",
       "      <td>0.929410</td>\n",
       "      <td>firearms</td>\n",
       "      <td>0.035735</td>\n",
       "    </tr>\n",
       "    <tr>\n",
       "      <th>620</th>\n",
       "      <td>It’s Chicago pride! 🌈💕YI,</td>\n",
       "      <td>chicago pride yi</td>\n",
       "      <td>lgbt</td>\n",
       "      <td>lgbt</td>\n",
       "      <td>0.926293</td>\n",
       "      <td>firearms</td>\n",
       "      <td>0.032037</td>\n",
       "    </tr>\n",
       "    <tr>\n",
       "      <th>363</th>\n",
       "      <td>BFFs</td>\n",
       "      <td>bff</td>\n",
       "      <td>lgbt</td>\n",
       "      <td>lgbt</td>\n",
       "      <td>0.928496</td>\n",
       "      <td>firearms</td>\n",
       "      <td>0.031850</td>\n",
       "    </tr>\n",
       "    <tr>\n",
       "      <th>801</th>\n",
       "      <td>So it was pride today in Mexico City and I just wanted to share with you this picture of it. Reports say that 1.5 million people showed up.🏳️‍🌈mma oy TE FMT\\nSA or a</td>\n",
       "      <td>so pride today mexico city want share picture report people show mma oy te fmt sa</td>\n",
       "      <td>lgbt</td>\n",
       "      <td>lgbt</td>\n",
       "      <td>0.931630</td>\n",
       "      <td>firearms</td>\n",
       "      <td>0.029099</td>\n",
       "    </tr>\n",
       "    <tr>\n",
       "      <th>406</th>\n",
       "      <td>My guy said to me: \"I was just checking out this guys really hot ass..\"</td>\n",
       "      <td>guy check guy hot ass</td>\n",
       "      <td>lgbt</td>\n",
       "      <td>lgbt</td>\n",
       "      <td>0.930774</td>\n",
       "      <td>firearms</td>\n",
       "      <td>0.028670</td>\n",
       "    </tr>\n",
       "    <tr>\n",
       "      <th>551</th>\n",
       "      <td>Happy Pride from Tank!</td>\n",
       "      <td>happy pride tank</td>\n",
       "      <td>lgbt</td>\n",
       "      <td>lgbt</td>\n",
       "      <td>0.916933</td>\n",
       "      <td>firearms</td>\n",
       "      <td>0.025214</td>\n",
       "    </tr>\n",
       "    <tr>\n",
       "      <th>815</th>\n",
       "      <td>My fiancé and I started our family today!</td>\n",
       "      <td>fiancé start family today</td>\n",
       "      <td>lgbt</td>\n",
       "      <td>lgbt</td>\n",
       "      <td>0.939524</td>\n",
       "      <td>firearms</td>\n",
       "      <td>0.018614</td>\n",
       "    </tr>\n",
       "    <tr>\n",
       "      <th>141</th>\n",
       "      <td>My first pride!</td>\n",
       "      <td>pride</td>\n",
       "      <td>lgbt</td>\n",
       "      <td>lgbt</td>\n",
       "      <td>0.962391</td>\n",
       "      <td>firearms</td>\n",
       "      <td>0.015719</td>\n",
       "    </tr>\n",
       "    <tr>\n",
       "      <th>314</th>\n",
       "      <td>I’ve been broke and homeless. I’ve been alone and suicidal. My husband and I aren’t welcome with my family. But I had a meal of abundance with friends in the house my husband and I own yesterday. If you’re struggling, sometimes there’s hope.</td>\n",
       "      <td>break homeless suicidal husband welcome family but meal abundance friend house husband yesterday if struggle hope</td>\n",
       "      <td>lgbt</td>\n",
       "      <td>lgbt</td>\n",
       "      <td>0.968598</td>\n",
       "      <td>firearms</td>\n",
       "      <td>0.014454</td>\n",
       "    </tr>\n",
       "    <tr>\n",
       "      <th>127</th>\n",
       "      <td>Crap like this is why PRIDE is important</td>\n",
       "      <td>crap like pride important</td>\n",
       "      <td>lgbt</td>\n",
       "      <td>lgbt</td>\n",
       "      <td>0.962755</td>\n",
       "      <td>firearms</td>\n",
       "      <td>0.012169</td>\n",
       "    </tr>\n",
       "    <tr>\n",
       "      <th>775</th>\n",
       "      <td>My first “screen time” report. Very accurateSCREEN TIME eee\\n\\n \\n\\nDaily Average\\n\\n2h 34 min.\\n\\nSocial Netw... Reading &amp; Reference Productivity\\n\\n7h55 min. 4h 35 min. 2h 27 min.\\nMost Used\\n\\n© 8@--e-.c\\nDaily Notifications One Pickup\\n\\nAVG 44 Every 38 min.</td>\n",
       "      <td>screen time report very accuratescreen time eee daily average min social netw reading reference productivity min min min most use daily notifications one pickup avg every min</td>\n",
       "      <td>lgbt</td>\n",
       "      <td>economics</td>\n",
       "      <td>0.974900</td>\n",
       "      <td>firearms</td>\n",
       "      <td>0.009800</td>\n",
       "    </tr>\n",
       "    <tr>\n",
       "      <th>162</th>\n",
       "      <td>My city has a lgbt+ parade and even random elementary school I’ve never heard of is prepared</td>\n",
       "      <td>city parade random elementary school hear prepare</td>\n",
       "      <td>lgbt</td>\n",
       "      <td>education</td>\n",
       "      <td>0.981791</td>\n",
       "      <td>firearms</td>\n",
       "      <td>0.009136</td>\n",
       "    </tr>\n",
       "    <tr>\n",
       "      <th>572</th>\n",
       "      <td>I had this random strange/nice encounter with a straight guy this week</td>\n",
       "      <td>random strange nice encounter straight guy week</td>\n",
       "      <td>lgbt</td>\n",
       "      <td>lgbt</td>\n",
       "      <td>0.978244</td>\n",
       "      <td>firearms</td>\n",
       "      <td>0.008751</td>\n",
       "    </tr>\n",
       "    <tr>\n",
       "      <th>30</th>\n",
       "      <td>82 days sober today, my longest stretch of complete sobriety since I was 14 and I'm the happiest I've ever been.</td>\n",
       "      <td>day sober today long stretch complete sobriety happy</td>\n",
       "      <td>lgbt</td>\n",
       "      <td>lgbt</td>\n",
       "      <td>0.987993</td>\n",
       "      <td>firearms</td>\n",
       "      <td>0.006610</td>\n",
       "    </tr>\n",
       "    <tr>\n",
       "      <th>416</th>\n",
       "      <td>My first pride ever at the happiest place on earth!acaets\\n\\nee</td>\n",
       "      <td>pride happy place ee</td>\n",
       "      <td>lgbt</td>\n",
       "      <td>lgbt</td>\n",
       "      <td>0.991710</td>\n",
       "      <td>firearms</td>\n",
       "      <td>0.003261</td>\n",
       "    </tr>\n",
       "  </tbody>\n",
       "</table>\n",
       "<p>152 rows × 7 columns</p>\n",
       "</div>"
      ],
      "text/plain": [
       "                                                                                                                                                                                                                                                                                                                                                                                                                                                      text  \\\n",
       "948                                                                                                                                                                                                                                                                                                                                                                                                                       Got this Apple Watch strap today   \n",
       "488                                                                                                                                                                                                                                                                                                             Just a reminder, this river actually exists in Finland.7\\nAE\\n©\\n\\ntie\\n\\n; LUNE)\\n\\n \\n\\n190\\n\\n \\n\\n \\n\\n \\n\\n      \\n\\n3003\\n\\nHakkarin   \n",
       "655                                                                                                                                                                                                                                                                                                                                                                                                                                 Still happy:)Mo ks\\nee   \n",
       "912                                                                                                                                                                                                                                                                                                                             Y’all don’t wear socks huhWhen you realize that you forgot\\nto wear socks during the 10 hour\\nanal session with your homie   \n",
       "471                                                                                                                                                                                                                                                                                                                                                                                                    WeeeeeeeeAftermonths Ofspain\\nandifear I finally wo   \n",
       "663                                                                                                                                                                                                                                                                                                                                                                                       A light gaying is predicted, come prepared!S30 aa Ls\\nTe aaa\\nie   \n",
       "668                                                                                                                                                                                                                                                                                                                                                                                   DogsDOGS ARE\\nSO WEIRD\\n\\n    \\n\\nSKELETONCLAW.COM\\n\\n@SKELETON-CLAW   \n",
       "574                                                                                                                                                                                                                                                                                                                                                                                            San Francisco Airport to Rename Terminal After Harvey Milk.   \n",
       "113                                                                                                                                                                                                                                                                                                                                                                                                                               Currently being stood up   \n",
       "517                                                                                                                                                                                                                                                                                                                                                 YupACO Senn Ent]\\nee OT) Ea tng 7 P\\nre N an less a)\\n©, @ibefore you even\\nPOA Lah pe Og\\nSe kee “ies   \n",
       "609                                                                                                                                                                                                                                                                                                                                                                                                                      When your crush says he broke up.   \n",
       "339  Never ForgetStagger Lee Shot First @\\n@elongreen\\n\\n \\n\\nPeople tend to dance around it,\\n\\nbut conservatives liked AIDS; for\\nyears the plague was, from their\\nperspective, killing the right people.\\n6:56 AM - 02 Dec 18\\n\\n2,267 Retweets 8,910 Likes\\n\\n0 im) Y oS\\n\\n, Stagger Lee Shot First @ @elongreen: 1d\\nhistorical memory has turned their actions\\ninto negligence, but they we cheering the\\n\\nepidemic on.\\nO 6 tT) 164 ©) 1,207 oS   \n",
       "154                                                                                                                                                                                                                                                                                                                                                                                                            GAY???av b IN 3\\n4, “ yoln\"®\\n. A\\n.s \\ESGA   \n",
       "415                                                                                                                                                                                                                                                                                                                                                                                                                                                    Oof   \n",
       "920                                                                                                                                                                                                                                                                                                                                                                                                                         He can definitely eat my candy   \n",
       "12                                                                                                                                                                                                                                                                                                                                                                                                                                    Oof me up my bois. 🤘   \n",
       "362                                                                                                                                                                                                                                                                                                                                                                                                                                              That face   \n",
       "649                                                                                                                                                                                                                                                                                                                                                                  who will buy this? hehe I willAirPods.\\n\\nNow with convenient\\nconcealable subwoofer.   \n",
       "508                                                                                                                                                                                                                                                                                                                                                                   Comedian reads question from audienceProbably UCM uiteya =\\n\\ne+\\n\\n \\n\\nTT PRReR ea   \n",
       "74                                                                                                                                                                                                                                                                                                                                                                                                                What a crazy ride. 2013 vs May 3rd, 2018   \n",
       "268                                                                                                                                                                                                                                                                                                                                                                                                                                              I’d watch   \n",
       "48                                                                                                                                                                                                                                                                                                                                                                                                                                      Mrs & Mrs at last!   \n",
       "757                                                                                                                                                                                                                                                                                                                                                          Ever did this with your boyfriend?Boyfriend minding his own\\nbusiness and you see his butt...   \n",
       "490                                                                                                                                                                                                                                                                                                                                                                                                                FactsMe trying to fit in with the Gays@   \n",
       "233                                                                                                                                                                                                                                                                                                                                                                                                                                           Please vote.   \n",
       "645                                                                                                                                                                                                                                                                                                                                                                                                         It's fantastic being able to be myself finally   \n",
       "654                                                                                                                                                                                                                                                                                                                                                               Me on Grindr.when your fridge empty af but\\nyou still go back to check after\\n15 minutes   \n",
       "448                                                                                                                                                                                                                                                                                                                                                                                                                                   When I get to bottom   \n",
       "458                                                                                                                                                                                                                                                                                                                                                                                                                  Well, thank youYou got 2 Great Balls!   \n",
       "217                                                                                                                                                                                                                                                                                                                                                                                                                                                   Yep.   \n",
       "..                                                                                                                                                                                                                                                                                                                                                                                                                                                     ...   \n",
       "357                                                                                                                                                                                                                                                                                                   My girlfriend and I. Still not out to extended family, so I wanted to celebrate her publicly somewhere.ory Rye eS ee f\\n\\n \\n\\naed\\n\\na\\n\\na\\n\\n~\\na   \n",
       "342                                                                                                                                                                                                                                                                                                                                                                                                        Big MoodSa |\\n\\n   \\n\\n4 q\\nUNE Ma Se Kereta EN   \n",
       "561                                                                                                                                                                                                                                                                                                                                                                                                    Perfect day for badminton with my husband (Chicago)   \n",
       "291                                                                                                                                                                                                                                                                                                                                                                                                                                  I don't discriminate!   \n",
       "485                                                                                                                                                                                                                                                                                                                                           Hey they look nice- ahhh..Show: *has an Igbt character*\\n_Me: oh this show looks nice\\n\\nFive seconds later:   \n",
       "748                                                                                                                                                                                                                                                                                                                                                                                                                    A little positivity for the weekend   \n",
       "567                                                                                                                                                                                                                                                                                                                                                                                                            Happy Valentine’s Day! ❤️ - 8 Months today.   \n",
       "972                                                                                                                                                                                                                                                                                                                                                                Starting new semester as my true self. Nervous but also really excited and motivated! 😘   \n",
       "34                                                                                                                                                                                                                                                                                                                                                   Having my first V-day in a healthy relationship just makes me really happy :) (L’Étoile, Madison, WI)   \n",
       "437                                                                                                                                                                                                                                                                                                                                                                                                   Thankfully this isn't a rule in the military anymore   \n",
       "818                                                                                                                                                                                                                                                                                                                                                                                             Saw this in the card shop for Father's dayWE ARE\\nET\\n\\nEt   \n",
       "449                                                                                                                                                                                                                                                                                                                                                                               I feel like I can finally be myself. 6 months HRT. Here's to the next 6!   \n",
       "90                                                                                                                                                                                                                                                                                                                                                                                                      Nice that these moments are making it onto sitcoms   \n",
       "499                                                                                                                                                                                                                                                                                                                                                                                       My husband & I are celebrating our 3 year anniversary this week!   \n",
       "394                                                                                                                                                                                                                                                                                                                                                              My fiancée and I just bought our first house and it came with a flag pole #longbeachpride   \n",
       "642                                                                                                                                                                                                                                                                                                                                                                                                                                          Pride Popcorn   \n",
       "620                                                                                                                                                                                                                                                                                                                                                                                                                              It’s Chicago pride! 🌈💕YI,   \n",
       "363                                                                                                                                                                                                                                                                                                                                                                                                                                                   BFFs   \n",
       "801                                                                                                                                                                                                                                                                                  So it was pride today in Mexico City and I just wanted to share with you this picture of it. Reports say that 1.5 million people showed up.🏳️‍🌈mma oy TE FMT\\nSA or a   \n",
       "406                                                                                                                                                                                                                                                                                                                                                                                My guy said to me: \"I was just checking out this guys really hot ass..\"   \n",
       "551                                                                                                                                                                                                                                                                                                                                                                                                                                 Happy Pride from Tank!   \n",
       "815                                                                                                                                                                                                                                                                                                                                                                                                              My fiancé and I started our family today!   \n",
       "141                                                                                                                                                                                                                                                                                                                                                                                                                                        My first pride!   \n",
       "314                                                                                                                                                                                                      I’ve been broke and homeless. I’ve been alone and suicidal. My husband and I aren’t welcome with my family. But I had a meal of abundance with friends in the house my husband and I own yesterday. If you’re struggling, sometimes there’s hope.   \n",
       "127                                                                                                                                                                                                                                                                                                                                                                                                               Crap like this is why PRIDE is important   \n",
       "775                                                                                                                                                                                 My first “screen time” report. Very accurateSCREEN TIME eee\\n\\n \\n\\nDaily Average\\n\\n2h 34 min.\\n\\nSocial Netw... Reading & Reference Productivity\\n\\n7h55 min. 4h 35 min. 2h 27 min.\\nMost Used\\n\\n© 8@--e-.c\\nDaily Notifications One Pickup\\n\\nAVG 44 Every 38 min.   \n",
       "162                                                                                                                                                                                                                                                                                                                                                           My city has a lgbt+ parade and even random elementary school I’ve never heard of is prepared   \n",
       "572                                                                                                                                                                                                                                                                                                                                                                                 I had this random strange/nice encounter with a straight guy this week   \n",
       "30                                                                                                                                                                                                                                                                                                                                        82 days sober today, my longest stretch of complete sobriety since I was 14 and I'm the happiest I've ever been.   \n",
       "416                                                                                                                                                                                                                                                                                                                                                                                        My first pride ever at the happiest place on earth!acaets\\n\\nee   \n",
       "\n",
       "                                                                                                                                                                                                                                    processed  \\\n",
       "948                                                                                                                                                                                                               get apple watch strap today   \n",
       "488                                                                                                                                                                                   just reminder river actually exist ae tie lune hakkarin   \n",
       "655                                                                                                                                                                                                                               still ks ee   \n",
       "912                                                                                                                                                                        wear sock huhwhen realize forget wear sock hour anal session homie   \n",
       "471                                                                                                                                                                                          weeeeeeeeaftermonths ofspain andifear finally wo   \n",
       "663                                                                                                                                                                                               a light gaying predict come aa ls te aaa ie   \n",
       "668                                                                                                                                                                                                                 dogsdog are so weird claw   \n",
       "574                                                                                                                                                                                   san francisco airport rename terminal after harvey milk   \n",
       "113                                                                                                                                                                                                                           currently stand   \n",
       "517                                                                                                                                                                                  yupaco senn ent ee ot ea tng p n poa lah pe og se kee ie   \n",
       "609                                                                                                                                                                                                                          when crush break   \n",
       "339  never forgetstagger lee shot first people tend dance conservative like aids year plague perspective kill right people am dec retweet like be y os stagger lee shot first historical memory turn action negligence cheer epidemic o tt os   \n",
       "154                                                                                                                                                                                                                               b in yoln a   \n",
       "415                                                                                                                                                                                                                                       oof   \n",
       "920                                                                                                                                                                                                                      definitely eat candy   \n",
       "12                                                                                                                                                                                                                                   oof bois   \n",
       "362                                                                                                                                                                                                                                 that face   \n",
       "649                                                                                                                                                                                  buy hehe willairpod now convenient concealable subwoofer   \n",
       "508                                                                                                                                                                            comedian read question audienceprobably ucm uiteya tt prrer ea   \n",
       "74                                                                                                                                                                                                                     what crazy ride vs may   \n",
       "268                                                                                                                                                                                                                                     watch   \n",
       "48                                                                                                                                                                                                                                    mrs mrs   \n",
       "757                                                                                                                                                                                                                   ever mind business butt   \n",
       "490                                                                                                                                                                                                                           factsme try fit   \n",
       "233                                                                                                                                                                                                                               please vote   \n",
       "645                                                                                                                                                                                                                    fantastic able finally   \n",
       "654                                                                                                                                                                                                                    fridge af check minute   \n",
       "448                                                                                                                                                                                                                                      when   \n",
       "458                                                                                                                                                                                                         well thank youyou get great balls   \n",
       "217                                                                                                                                                                                                                                       yep   \n",
       "..                                                                                                                                                                                                                                        ...   \n",
       "357                                                                                                                                                                  girlfriend still extended family want celebrate publicly rye es ee f aed   \n",
       "342                                                                                                                                                                                                          big moodsa q une ma se kereta en   \n",
       "561                                                                                                                                                                                                     perfect day badminton husband chicago   \n",
       "291                                                                                                                                                                                                                              discriminate   \n",
       "485                                                                                                                                                                          hey look ahhh show igbt character oh look nice five second later   \n",
       "748                                                                                                                                                                                                               a little positivity weekend   \n",
       "567                                                                                                                                                                                                           happy valentine day month today   \n",
       "972                                                                                                                                                                                    start new semester true self nervous excited motivated   \n",
       "34                                                                                                                                                                                      have v day healthy relationship make happy madison wi   \n",
       "437                                                                                                                                                                                                          thankfully rule military anymore   \n",
       "818                                                                                                                                                                                                      see card shop father daywe are et et   \n",
       "449                                                                                                                                                                                                          feel like finally month hrt here   \n",
       "90                                                                                                                                                                                                                    nice moment make sitcom   \n",
       "499                                                                                                                                                                                                   husband celebrate year anniversary week   \n",
       "394                                                                                                                                                                                           fiancée buy house come flag pole longbeachpride   \n",
       "642                                                                                                                                                                                                                             pride popcorn   \n",
       "620                                                                                                                                                                                                                          chicago pride yi   \n",
       "363                                                                                                                                                                                                                                       bff   \n",
       "801                                                                                                                                                         so pride today mexico city want share picture report people show mma oy te fmt sa   \n",
       "406                                                                                                                                                                                                                     guy check guy hot ass   \n",
       "551                                                                                                                                                                                                                          happy pride tank   \n",
       "815                                                                                                                                                                                                                 fiancé start family today   \n",
       "141                                                                                                                                                                                                                                     pride   \n",
       "314                                                                                                                         break homeless suicidal husband welcome family but meal abundance friend house husband yesterday if struggle hope   \n",
       "127                                                                                                                                                                                                                 crap like pride important   \n",
       "775                                                            screen time report very accuratescreen time eee daily average min social netw reading reference productivity min min min most use daily notifications one pickup avg every min   \n",
       "162                                                                                                                                                                                         city parade random elementary school hear prepare   \n",
       "572                                                                                                                                                                                           random strange nice encounter straight guy week   \n",
       "30                                                                                                                                                                                       day sober today long stretch complete sobriety happy   \n",
       "416                                                                                                                                                                                                                      pride happy place ee   \n",
       "\n",
       "     true    predict  confidence second guess  second guess confidence  \n",
       "948  lgbt       lgbt    0.433556     firearms                 0.426705  \n",
       "488  lgbt       lgbt    0.437695     firearms                 0.417708  \n",
       "655  lgbt       lgbt    0.545232     firearms                 0.398607  \n",
       "912  lgbt       lgbt    0.371892     firearms                 0.364443  \n",
       "471  lgbt       lgbt    0.518725     firearms                 0.359858  \n",
       "663  lgbt       lgbt    0.599683     firearms                 0.342208  \n",
       "668  lgbt       lgbt    0.419468     firearms                 0.329033  \n",
       "574  lgbt  economics    0.338228     firearms                 0.327749  \n",
       "113  lgbt       lgbt    0.381421     firearms                 0.319087  \n",
       "517  lgbt       lgbt    0.500485     firearms                 0.315879  \n",
       "609  lgbt       lgbt    0.437392     firearms                 0.306962  \n",
       "339  lgbt   feminism    0.422202     firearms                 0.301830  \n",
       "154  lgbt       lgbt    0.525874     firearms                 0.297069  \n",
       "415  lgbt       lgbt    0.448710     firearms                 0.284685  \n",
       "920  lgbt       lgbt    0.568117     firearms                 0.283070  \n",
       "12   lgbt       lgbt    0.608064     firearms                 0.276085  \n",
       "362  lgbt       lgbt    0.481062     firearms                 0.273852  \n",
       "649  lgbt       lgbt    0.680879     firearms                 0.272012  \n",
       "508  lgbt       lgbt    0.631538     firearms                 0.268671  \n",
       "74   lgbt       lgbt    0.274626     firearms                 0.266540  \n",
       "268  lgbt       lgbt    0.373508     firearms                 0.265628  \n",
       "48   lgbt       lgbt    0.440476     firearms                 0.263134  \n",
       "757  lgbt       lgbt    0.389976     firearms                 0.262332  \n",
       "490  lgbt       lgbt    0.425777     firearms                 0.258249  \n",
       "233  lgbt       lgbt    0.437437     firearms                 0.256928  \n",
       "645  lgbt       lgbt    0.526275     firearms                 0.250964  \n",
       "654  lgbt       lgbt    0.573183     firearms                 0.249950  \n",
       "448  lgbt       lgbt    0.474922     firearms                 0.249053  \n",
       "458  lgbt       lgbt    0.611611     firearms                 0.246285  \n",
       "217  lgbt       lgbt    0.624753     firearms                 0.245663  \n",
       "..    ...        ...         ...          ...                      ...  \n",
       "357  lgbt       lgbt    0.863918     firearms                 0.079319  \n",
       "342  lgbt       lgbt    0.832097     firearms                 0.075470  \n",
       "561  lgbt       lgbt    0.746212     firearms                 0.074831  \n",
       "291  lgbt       lgbt    0.758744     firearms                 0.072280  \n",
       "485  lgbt       lgbt    0.899309     firearms                 0.067951  \n",
       "748  lgbt       lgbt    0.862200     firearms                 0.057393  \n",
       "567  lgbt       lgbt    0.927168     firearms                 0.052224  \n",
       "972  lgbt       lgbt    0.839059     firearms                 0.050733  \n",
       "34   lgbt       lgbt    0.906365     firearms                 0.048569  \n",
       "437  lgbt        war    0.878697     firearms                 0.047523  \n",
       "818  lgbt       lgbt    0.892685     firearms                 0.046079  \n",
       "449  lgbt       lgbt    0.873828     firearms                 0.045683  \n",
       "90   lgbt       lgbt    0.906952     firearms                 0.045367  \n",
       "499  lgbt       lgbt    0.909002     firearms                 0.040418  \n",
       "394  lgbt       lgbt    0.931817     firearms                 0.038109  \n",
       "642  lgbt       lgbt    0.929410     firearms                 0.035735  \n",
       "620  lgbt       lgbt    0.926293     firearms                 0.032037  \n",
       "363  lgbt       lgbt    0.928496     firearms                 0.031850  \n",
       "801  lgbt       lgbt    0.931630     firearms                 0.029099  \n",
       "406  lgbt       lgbt    0.930774     firearms                 0.028670  \n",
       "551  lgbt       lgbt    0.916933     firearms                 0.025214  \n",
       "815  lgbt       lgbt    0.939524     firearms                 0.018614  \n",
       "141  lgbt       lgbt    0.962391     firearms                 0.015719  \n",
       "314  lgbt       lgbt    0.968598     firearms                 0.014454  \n",
       "127  lgbt       lgbt    0.962755     firearms                 0.012169  \n",
       "775  lgbt  economics    0.974900     firearms                 0.009800  \n",
       "162  lgbt  education    0.981791     firearms                 0.009136  \n",
       "572  lgbt       lgbt    0.978244     firearms                 0.008751  \n",
       "30   lgbt       lgbt    0.987993     firearms                 0.006610  \n",
       "416  lgbt       lgbt    0.991710     firearms                 0.003261  \n",
       "\n",
       "[152 rows x 7 columns]"
      ]
     },
     "execution_count": 127,
     "metadata": {},
     "output_type": "execute_result"
    }
   ],
   "source": [
    "lgbt_predictions[lgbt_predictions['second guess']=='firearms'].sort_values('second guess confidence',ascending=False)"
   ]
  },
  {
   "cell_type": "markdown",
   "metadata": {},
   "source": [
    "# On the republican and democratic submissions"
   ]
  },
  {
   "cell_type": "code",
   "execution_count": 371,
   "metadata": {},
   "outputs": [],
   "source": [
    "democrat = open(\"dump_democrat.txt\",\"r\",encoding='utf8').readlines()"
   ]
  },
  {
   "cell_type": "code",
   "execution_count": 373,
   "metadata": {},
   "outputs": [],
   "source": [
    "df = pd.DataFrame(columns=['text','party','predict','confidence','second guess','second guess confidence'])"
   ]
  },
  {
   "cell_type": "code",
   "execution_count": 374,
   "metadata": {},
   "outputs": [
    {
     "data": {
      "application/vnd.jupyter.widget-view+json": {
       "model_id": "4dd7419d73954b42ba7b761eff71abaf",
       "version_major": 2,
       "version_minor": 0
      },
      "text/plain": [
       "HBox(children=(IntProgress(value=0, max=1001), HTML(value='')))"
      ]
     },
     "metadata": {},
     "output_type": "display_data"
    }
   ],
   "source": [
    "for s in tqdm(democrat):\n",
    "    if len(s.strip()) > 0:\n",
    "        s_encoded = preprocess_sentence(s,we,MAX_LEN=40)\n",
    "        preds = model.predict(np.array([\n",
    "                    s_encoded\n",
    "                ]))\n",
    "        second_c, top_c = np.sort(preds)[:,-2:][0]\n",
    "        second, top = onehot_enc.categories_[0][np.argsort(preds)[:,-2:]][0]\n",
    "        df.loc[len(df)] = [s, 'democrat', top, top_c, second, second_c]\n"
   ]
  },
  {
   "cell_type": "code",
   "execution_count": 375,
   "metadata": {},
   "outputs": [],
   "source": [
    "republican = open(\"dump_republican.txt\",\"r\",encoding='utf8').readlines()"
   ]
  },
  {
   "cell_type": "code",
   "execution_count": 376,
   "metadata": {},
   "outputs": [
    {
     "data": {
      "application/vnd.jupyter.widget-view+json": {
       "model_id": "71df576a8fca4e4fb2f54c43556fd361",
       "version_major": 2,
       "version_minor": 0
      },
      "text/plain": [
       "HBox(children=(IntProgress(value=0, max=1055), HTML(value='')))"
      ]
     },
     "metadata": {},
     "output_type": "display_data"
    }
   ],
   "source": [
    "errs = []\n",
    "for s in tqdm(republican):\n",
    "    if len(s.strip()) > 0:\n",
    "        try:\n",
    "            s_encoded = preprocess_sentence(s,we,MAX_LEN=40)\n",
    "            preds = model.predict(np.array([\n",
    "                        s_encoded\n",
    "                    ]))\n",
    "            second_c, top_c = np.sort(preds)[:,-2:][0]\n",
    "            second, top = onehot_enc.categories_[0][np.argsort(preds)[:,-2:]][0]\n",
    "            df.loc[len(df)] = [s, 'republican', top, top_c, second, second_c]\n",
    "        except Exception as e:\n",
    "            errs.append(s)\n"
   ]
  },
  {
   "cell_type": "code",
   "execution_count": 377,
   "metadata": {},
   "outputs": [
    {
     "data": {
      "text/html": [
       "<div>\n",
       "<style scoped>\n",
       "    .dataframe tbody tr th:only-of-type {\n",
       "        vertical-align: middle;\n",
       "    }\n",
       "\n",
       "    .dataframe tbody tr th {\n",
       "        vertical-align: top;\n",
       "    }\n",
       "\n",
       "    .dataframe thead th {\n",
       "        text-align: right;\n",
       "    }\n",
       "</style>\n",
       "<table border=\"1\" class=\"dataframe\">\n",
       "  <thead>\n",
       "    <tr style=\"text-align: right;\">\n",
       "      <th></th>\n",
       "      <th>text</th>\n",
       "      <th>party</th>\n",
       "      <th>predict</th>\n",
       "      <th>confidence</th>\n",
       "      <th>second guess</th>\n",
       "      <th>second guess confidence</th>\n",
       "    </tr>\n",
       "  </thead>\n",
       "  <tbody>\n",
       "    <tr>\n",
       "      <th>579</th>\n",
       "      <td>Poll: Clinton's lead over Sanders grows: Hillary Clinton's lead in the Democratic presidential primary race has grown -- and if Vice President Joe Biden decides to stay out of the race, her numbers would rise even higher, a new CNN/ORC poll shows. \\n</td>\n",
       "      <td>democrat</td>\n",
       "      <td>politics</td>\n",
       "      <td>0.998786</td>\n",
       "      <td>environment</td>\n",
       "      <td>0.000522</td>\n",
       "    </tr>\n",
       "    <tr>\n",
       "      <th>168</th>\n",
       "      <td>Bernie Sanders' Stunning Upset Victory in Michigan Means This Race Is Far from Over: Nobody — especially the pollsters — saw this coming \\n</td>\n",
       "      <td>democrat</td>\n",
       "      <td>politics</td>\n",
       "      <td>0.982653</td>\n",
       "      <td>economics</td>\n",
       "      <td>0.008139</td>\n",
       "    </tr>\n",
       "    <tr>\n",
       "      <th>477</th>\n",
       "      <td>This Bernie Sanders statement on the Nevada convention reads like an open threat to the Democratic establishment \\n</td>\n",
       "      <td>democrat</td>\n",
       "      <td>politics</td>\n",
       "      <td>0.995615</td>\n",
       "      <td>firearms</td>\n",
       "      <td>0.001945</td>\n",
       "    </tr>\n",
       "    <tr>\n",
       "      <th>1054</th>\n",
       "      <td>You know how Sarah Palin said Paul Revere warned the British? Well, he did. Now, who looks stupid? - latimes.com \\n</td>\n",
       "      <td>republican</td>\n",
       "      <td>religion</td>\n",
       "      <td>0.316804</td>\n",
       "      <td>feminism</td>\n",
       "      <td>0.289775</td>\n",
       "    </tr>\n",
       "    <tr>\n",
       "      <th>169</th>\n",
       "      <td>2 winners and 3 losers from Tuesday night's primaries \\n</td>\n",
       "      <td>democrat</td>\n",
       "      <td>firearms</td>\n",
       "      <td>0.414072</td>\n",
       "      <td>feminism</td>\n",
       "      <td>0.170455</td>\n",
       "    </tr>\n",
       "    <tr>\n",
       "      <th>114</th>\n",
       "      <td>The Bosses \\n</td>\n",
       "      <td>democrat</td>\n",
       "      <td>lgbt</td>\n",
       "      <td>0.384850</td>\n",
       "      <td>firearms</td>\n",
       "      <td>0.249844</td>\n",
       "    </tr>\n",
       "    <tr>\n",
       "      <th>1428</th>\n",
       "      <td>Reddit's solution to crime \\n</td>\n",
       "      <td>republican</td>\n",
       "      <td>war</td>\n",
       "      <td>0.319413</td>\n",
       "      <td>immigration</td>\n",
       "      <td>0.204040</td>\n",
       "    </tr>\n",
       "    <tr>\n",
       "      <th>79</th>\n",
       "      <td>The Sanders Campaign Thinks It Can Give Us 5 Percent Economic Growth. It’s Deluded. \\n</td>\n",
       "      <td>democrat</td>\n",
       "      <td>economics</td>\n",
       "      <td>0.997897</td>\n",
       "      <td>politics</td>\n",
       "      <td>0.001080</td>\n",
       "    </tr>\n",
       "    <tr>\n",
       "      <th>2</th>\n",
       "      <td>Mitch McConnell Says He Stood Up for Women in a Senate Sexual-Harassment Scandal: The Real Story is Damning - McConnell claims he led a 1995 investigation against a GOP senator accused of sexual misconduct. Actually, he took steps to keep it quiet. \\n</td>\n",
       "      <td>democrat</td>\n",
       "      <td>politics</td>\n",
       "      <td>0.662129</td>\n",
       "      <td>feminism</td>\n",
       "      <td>0.332257</td>\n",
       "    </tr>\n",
       "    <tr>\n",
       "      <th>1083</th>\n",
       "      <td>CNN calls hero of Florida shooting a liar because he refuses to ask scripted question that pushes gun control narrative. \\n</td>\n",
       "      <td>republican</td>\n",
       "      <td>firearms</td>\n",
       "      <td>0.998092</td>\n",
       "      <td>politics</td>\n",
       "      <td>0.001821</td>\n",
       "    </tr>\n",
       "  </tbody>\n",
       "</table>\n",
       "</div>"
      ],
      "text/plain": [
       "                                                                                                                                                                                                                                                               text  \\\n",
       "579      Poll: Clinton's lead over Sanders grows: Hillary Clinton's lead in the Democratic presidential primary race has grown -- and if Vice President Joe Biden decides to stay out of the race, her numbers would rise even higher, a new CNN/ORC poll shows. \\n   \n",
       "168                                                                                                                     Bernie Sanders' Stunning Upset Victory in Michigan Means This Race Is Far from Over: Nobody — especially the pollsters — saw this coming \\n   \n",
       "477                                                                                                                                             This Bernie Sanders statement on the Nevada convention reads like an open threat to the Democratic establishment \\n   \n",
       "1054                                                                                                                                            You know how Sarah Palin said Paul Revere warned the British? Well, he did. Now, who looks stupid? - latimes.com \\n   \n",
       "169                                                                                                                                                                                                        2 winners and 3 losers from Tuesday night's primaries \\n   \n",
       "114                                                                                                                                                                                                                                                   The Bosses \\n   \n",
       "1428                                                                                                                                                                                                                                  Reddit's solution to crime \\n   \n",
       "79                                                                                                                                                                           The Sanders Campaign Thinks It Can Give Us 5 Percent Economic Growth. It’s Deluded. \\n   \n",
       "2       Mitch McConnell Says He Stood Up for Women in a Senate Sexual-Harassment Scandal: The Real Story is Damning - McConnell claims he led a 1995 investigation against a GOP senator accused of sexual misconduct. Actually, he took steps to keep it quiet. \\n   \n",
       "1083                                                                                                                                    CNN calls hero of Florida shooting a liar because he refuses to ask scripted question that pushes gun control narrative. \\n   \n",
       "\n",
       "           party    predict  confidence second guess  second guess confidence  \n",
       "579     democrat   politics    0.998786  environment                 0.000522  \n",
       "168     democrat   politics    0.982653    economics                 0.008139  \n",
       "477     democrat   politics    0.995615     firearms                 0.001945  \n",
       "1054  republican   religion    0.316804     feminism                 0.289775  \n",
       "169     democrat   firearms    0.414072     feminism                 0.170455  \n",
       "114     democrat       lgbt    0.384850     firearms                 0.249844  \n",
       "1428  republican        war    0.319413  immigration                 0.204040  \n",
       "79      democrat  economics    0.997897     politics                 0.001080  \n",
       "2       democrat   politics    0.662129     feminism                 0.332257  \n",
       "1083  republican   firearms    0.998092     politics                 0.001821  "
      ]
     },
     "execution_count": 377,
     "metadata": {},
     "output_type": "execute_result"
    }
   ],
   "source": [
    "df.sample(10)"
   ]
  },
  {
   "cell_type": "code",
   "execution_count": 395,
   "metadata": {},
   "outputs": [
    {
     "data": {
      "application/vnd.jupyter.widget-view+json": {
       "model_id": "3b35cedb06f948d1a887b05bc19ccfae",
       "version_major": 2,
       "version_minor": 0
      },
      "text/plain": [
       "HBox(children=(IntProgress(value=0, max=2020), HTML(value='')))"
      ]
     },
     "metadata": {},
     "output_type": "display_data"
    }
   ],
   "source": [
    "for i, row in tqdm(df.iterrows(), total=len(df)):\n",
    "    s_encoded = _preprocess(row.text)\n",
    "    df.loc[i, 'text_processed'] = ' '.join(s_encoded)"
   ]
  },
  {
   "cell_type": "code",
   "execution_count": 396,
   "metadata": {},
   "outputs": [],
   "source": [
    "df.to_csv(\"13_predictions_df.csv\", index=False)"
   ]
  },
  {
   "cell_type": "code",
   "execution_count": 398,
   "metadata": {},
   "outputs": [
    {
     "data": {
      "text/html": [
       "<div>\n",
       "<style scoped>\n",
       "    .dataframe tbody tr th:only-of-type {\n",
       "        vertical-align: middle;\n",
       "    }\n",
       "\n",
       "    .dataframe tbody tr th {\n",
       "        vertical-align: top;\n",
       "    }\n",
       "\n",
       "    .dataframe thead th {\n",
       "        text-align: right;\n",
       "    }\n",
       "</style>\n",
       "<table border=\"1\" class=\"dataframe\">\n",
       "  <thead>\n",
       "    <tr style=\"text-align: right;\">\n",
       "      <th></th>\n",
       "      <th>text</th>\n",
       "      <th>party</th>\n",
       "      <th>predict</th>\n",
       "      <th>confidence</th>\n",
       "      <th>second guess</th>\n",
       "      <th>second guess confidence</th>\n",
       "      <th>text_processed</th>\n",
       "    </tr>\n",
       "  </thead>\n",
       "  <tbody>\n",
       "    <tr>\n",
       "      <th>238</th>\n",
       "      <td>What do the Right and Saddam Hussein have in common? Opposition to the freedom to unionize. \\n</td>\n",
       "      <td>democrat</td>\n",
       "      <td>firearms</td>\n",
       "      <td>0.407444</td>\n",
       "      <td>feminism</td>\n",
       "      <td>0.242239</td>\n",
       "      <td>what right saddam hussein common opposition freedom unionize</td>\n",
       "    </tr>\n",
       "    <tr>\n",
       "      <th>248</th>\n",
       "      <td>American elections ranked worst among Western democracies — here’s why \\n</td>\n",
       "      <td>democrat</td>\n",
       "      <td>politics</td>\n",
       "      <td>0.625341</td>\n",
       "      <td>war</td>\n",
       "      <td>0.293674</td>\n",
       "      <td>american election rank worst western democracy</td>\n",
       "    </tr>\n",
       "    <tr>\n",
       "      <th>1165</th>\n",
       "      <td>Barack Obama, the Food Stamp President \\n</td>\n",
       "      <td>republican</td>\n",
       "      <td>politics</td>\n",
       "      <td>0.982352</td>\n",
       "      <td>economics</td>\n",
       "      <td>0.010783</td>\n",
       "      <td>barack obama food stamp president</td>\n",
       "    </tr>\n",
       "    <tr>\n",
       "      <th>1004</th>\n",
       "      <td>What has caused more damage? \\n</td>\n",
       "      <td>republican</td>\n",
       "      <td>war</td>\n",
       "      <td>0.474992</td>\n",
       "      <td>feminism</td>\n",
       "      <td>0.143302</td>\n",
       "      <td>what cause damage</td>\n",
       "    </tr>\n",
       "    <tr>\n",
       "      <th>1284</th>\n",
       "      <td>Thank these Republicans for Obamacare \\n</td>\n",
       "      <td>republican</td>\n",
       "      <td>politics</td>\n",
       "      <td>0.895139</td>\n",
       "      <td>economics</td>\n",
       "      <td>0.068618</td>\n",
       "      <td>thank republicans obamacare</td>\n",
       "    </tr>\n",
       "    <tr>\n",
       "      <th>531</th>\n",
       "      <td>Mainstream Media Gets Schooled On Why Millennial Sanders Supporters Will Vote For Clinton: The media got a taste of reality as they were forced to face the truth that millennial Bernie Sanders supporters care about the issues and will support Hillary Clinton over Donald Trump. \\n</td>\n",
       "      <td>democrat</td>\n",
       "      <td>politics</td>\n",
       "      <td>0.998342</td>\n",
       "      <td>education</td>\n",
       "      <td>0.000713</td>\n",
       "      <td>mainstream media get school on why millennial sanders supporters will vote for clinton the medium get taste reality force face truth millennial bernie sanders supporter care issue support hillary clinton donald trump</td>\n",
       "    </tr>\n",
       "    <tr>\n",
       "      <th>1839</th>\n",
       "      <td>Alexandria Ocasio-Cortez Bullsh*t Quote Generator \\n</td>\n",
       "      <td>republican</td>\n",
       "      <td>politics</td>\n",
       "      <td>0.508143</td>\n",
       "      <td>religion</td>\n",
       "      <td>0.267758</td>\n",
       "      <td>alexandria ocasio cortez quote generator</td>\n",
       "    </tr>\n",
       "    <tr>\n",
       "      <th>1824</th>\n",
       "      <td>Obama abusing power by using IRS, Labor Dept and private goons to publicly call out and harass pro Romney donors. \\n</td>\n",
       "      <td>republican</td>\n",
       "      <td>politics</td>\n",
       "      <td>0.982624</td>\n",
       "      <td>economics</td>\n",
       "      <td>0.007502</td>\n",
       "      <td>obama abuse power irs labor dept private goon publicly harass pro romney donor</td>\n",
       "    </tr>\n",
       "    <tr>\n",
       "      <th>379</th>\n",
       "      <td>Sanders to DNC: Remove Barney Frank \\n</td>\n",
       "      <td>democrat</td>\n",
       "      <td>politics</td>\n",
       "      <td>0.987055</td>\n",
       "      <td>economics</td>\n",
       "      <td>0.004188</td>\n",
       "      <td>sanders dnc remove barney frank</td>\n",
       "    </tr>\n",
       "    <tr>\n",
       "      <th>1503</th>\n",
       "      <td>Putin is the one who really deserves that Nobel Peace Prize \\n</td>\n",
       "      <td>republican</td>\n",
       "      <td>war</td>\n",
       "      <td>0.860783</td>\n",
       "      <td>politics</td>\n",
       "      <td>0.099879</td>\n",
       "      <td>putin deserve nobel peace prize</td>\n",
       "    </tr>\n",
       "  </tbody>\n",
       "</table>\n",
       "</div>"
      ],
      "text/plain": [
       "                                                                                                                                                                                                                                                                                            text  \\\n",
       "238                                                                                                                                                                                               What do the Right and Saddam Hussein have in common? Opposition to the freedom to unionize. \\n   \n",
       "248                                                                                                                                                                                                                    American elections ranked worst among Western democracies — here’s why \\n   \n",
       "1165                                                                                                                                                                                                                                                   Barack Obama, the Food Stamp President \\n   \n",
       "1004                                                                                                                                                                                                                                                             What has caused more damage? \\n   \n",
       "1284                                                                                                                                                                                                                                                    Thank these Republicans for Obamacare \\n   \n",
       "531     Mainstream Media Gets Schooled On Why Millennial Sanders Supporters Will Vote For Clinton: The media got a taste of reality as they were forced to face the truth that millennial Bernie Sanders supporters care about the issues and will support Hillary Clinton over Donald Trump. \\n   \n",
       "1839                                                                                                                                                                                                                                        Alexandria Ocasio-Cortez Bullsh*t Quote Generator \\n   \n",
       "1824                                                                                                                                                                        Obama abusing power by using IRS, Labor Dept and private goons to publicly call out and harass pro Romney donors. \\n   \n",
       "379                                                                                                                                                                                                                                                       Sanders to DNC: Remove Barney Frank \\n   \n",
       "1503                                                                                                                                                                                                                              Putin is the one who really deserves that Nobel Peace Prize \\n   \n",
       "\n",
       "           party   predict  confidence second guess  second guess confidence  \\\n",
       "238     democrat  firearms    0.407444     feminism                 0.242239   \n",
       "248     democrat  politics    0.625341          war                 0.293674   \n",
       "1165  republican  politics    0.982352    economics                 0.010783   \n",
       "1004  republican       war    0.474992     feminism                 0.143302   \n",
       "1284  republican  politics    0.895139    economics                 0.068618   \n",
       "531     democrat  politics    0.998342    education                 0.000713   \n",
       "1839  republican  politics    0.508143     religion                 0.267758   \n",
       "1824  republican  politics    0.982624    economics                 0.007502   \n",
       "379     democrat  politics    0.987055    economics                 0.004188   \n",
       "1503  republican       war    0.860783     politics                 0.099879   \n",
       "\n",
       "                                                                                                                                                                                                                text_processed  \n",
       "238                                                                                                                                                               what right saddam hussein common opposition freedom unionize  \n",
       "248                                                                                                                                                                             american election rank worst western democracy  \n",
       "1165                                                                                                                                                                                         barack obama food stamp president  \n",
       "1004                                                                                                                                                                                                         what cause damage  \n",
       "1284                                                                                                                                                                                               thank republicans obamacare  \n",
       "531   mainstream media get school on why millennial sanders supporters will vote for clinton the medium get taste reality force face truth millennial bernie sanders supporter care issue support hillary clinton donald trump  \n",
       "1839                                                                                                                                                                                  alexandria ocasio cortez quote generator  \n",
       "1824                                                                                                                                            obama abuse power irs labor dept private goon publicly harass pro romney donor  \n",
       "379                                                                                                                                                                                            sanders dnc remove barney frank  \n",
       "1503                                                                                                                                                                                           putin deserve nobel peace prize  "
      ]
     },
     "execution_count": 398,
     "metadata": {},
     "output_type": "execute_result"
    }
   ],
   "source": [
    "df.sample(10)"
   ]
  },
  {
   "cell_type": "markdown",
   "metadata": {},
   "source": [
    "# Visualizations"
   ]
  },
  {
   "cell_type": "code",
   "execution_count": 378,
   "metadata": {
    "scrolled": false
   },
   "outputs": [
    {
     "name": "stdout",
     "output_type": "stream",
     "text": [
      "saving figure to results\\Democrats_with_politics\n"
     ]
    },
    {
     "data": {
      "image/png": "[encoded data removed]",
      "text/plain": [
       "<Figure size 648x648 with 1 Axes>"
      ]
     },
     "metadata": {
      "needs_background": "light"
     },
     "output_type": "display_data"
    },
    {
     "name": "stdout",
     "output_type": "stream",
     "text": [
      "saving figure to results\\republicans_with_politics\n"
     ]
    },
    {
     "data": {
      "image/png": "[encoded data removed]",
      "text/plain": [
       "<Figure size 648x648 with 1 Axes>"
      ]
     },
     "metadata": {
      "needs_background": "light"
     },
     "output_type": "display_data"
    }
   ],
   "source": [
    "bars = np.unique(df[df['party']=='democrat'].predict.values,return_counts=True)\n",
    "bars = np.array(bars)\n",
    "bars[1] = bars[1]/np.sum(bars[1])\n",
    "\n",
    "plt.figure(figsize=(9,9))\n",
    "plt.bar(bars[0], bars[1],color='blue')\n",
    "plt.ylim(0,0.75)\n",
    "plt.title(\"Democrats (with politics)\", fontsize = 20)\n",
    "plt.xticks(fontsize = 20, rotation='vertical')\n",
    "plt.yticks(fontsize=20)\n",
    "\n",
    "savefig(plt.gcf(), 'Democrats_with_politics')\n",
    "plt.show()\n",
    "\n",
    "bars = np.unique(df[df['party']=='republican'].predict.values,return_counts=True)\n",
    "bars = np.array(bars)\n",
    "bars[1] = bars[1]/np.sum(bars[1])\n",
    "\n",
    "plt.figure(figsize=(9,9))\n",
    "plt.bar(bars[0], bars[1],color='red')\n",
    "plt.ylim(0,0.75)\n",
    "plt.title(\"Republicans (with politics)\", fontsize = 20)\n",
    "\n",
    "plt.xticks(fontsize = 20, rotation='vertical')\n",
    "plt.yticks(fontsize=20)\n",
    "\n",
    "savefig(plt.gcf(), 'republicans_with_politics')\n",
    "plt.show()"
   ]
  },
  {
   "cell_type": "code",
   "execution_count": 380,
   "metadata": {},
   "outputs": [
    {
     "name": "stdout",
     "output_type": "stream",
     "text": [
      "saving figure to results\\Democrats_without_politics\n"
     ]
    },
    {
     "data": {
      "image/png": "[encoded data removed]",
      "text/plain": [
       "<Figure size 648x648 with 1 Axes>"
      ]
     },
     "metadata": {
      "needs_background": "light"
     },
     "output_type": "display_data"
    },
    {
     "name": "stdout",
     "output_type": "stream",
     "text": [
      "saving figure to results\\republicans_without_politics\n"
     ]
    },
    {
     "data": {
      "image/png": "[encoded data removed]",
      "text/plain": [
       "<Figure size 648x648 with 1 Axes>"
      ]
     },
     "metadata": {
      "needs_background": "light"
     },
     "output_type": "display_data"
    }
   ],
   "source": [
    "bars = np.unique(df[(df['party']=='democrat') & (df['predict']!='politics')  ].predict.values,return_counts=True)\n",
    "bars = np.array(bars)\n",
    "bars[1] = bars[1]/np.sum(bars[1])\n",
    "\n",
    "plt.figure(figsize=(9,9))\n",
    "plt.bar(bars[0], bars[1],color='blue')\n",
    "plt.ylim(0,0.25)\n",
    "plt.title(\"Democrats (without politics)\", fontsize = 20)\n",
    "plt.xticks(fontsize = 20, rotation='vertical')\n",
    "plt.yticks(fontsize=20)\n",
    "savefig(plt.gcf(), 'Democrats_without_politics')\n",
    "plt.show()\n",
    "\n",
    "bars = np.unique(df[(df['party']=='republican') & (df['predict']!='politics')  ].predict.values,return_counts=True)\n",
    "bars = np.array(bars)\n",
    "bars[1] = bars[1]/np.sum(bars[1])\n",
    "\n",
    "plt.figure(figsize=(9,9))\n",
    "plt.bar(bars[0], bars[1],color='red')\n",
    "plt.ylim(0,0.25)\n",
    "plt.title(\"Republicans (without politics)\", fontsize = 20)\n",
    "plt.xticks(fontsize = 20, rotation='vertical')\n",
    "plt.yticks(fontsize=20)\n",
    "savefig(plt.gcf(), 'republicans_without_politics')\n",
    "plt.show()"
   ]
  },
  {
   "cell_type": "markdown",
   "metadata": {},
   "source": [
    "# Avg confidence"
   ]
  },
  {
   "cell_type": "code",
   "execution_count": 389,
   "metadata": {},
   "outputs": [],
   "source": [
    "topics = np.unique(df[(df['predict']!='politics')].predict)\n",
    "\n",
    "columns = []\n",
    "for t in topics:\n",
    "    columns.append(t)\n",
    "\n",
    "confidence_df = pd.DataFrame(columns=['republican','republican counts', 'democrat', 'democrat counts'], index=columns)\n",
    "\n",
    "topics = np.unique(df[(df['predict']!='politics')].predict)\n",
    "for t in topics:\n",
    "    print(t)\n",
    "    for p in ['democrat','republican']:\n",
    "        selection = df[(df.predict==t) & (df.party==p)].confidence\n",
    "#         confidence_df.loc['%s mean' %t, p] = selection.mean()\n",
    "#         confidence_df.loc['%s std' %t, p] = selection.std()\n",
    "        confidence_df.loc[t, '%s counts' %p] = len(selection)\n",
    "        confidence_df.loc[t, p] = '%.3f' %(selection.mean())\n",
    "\n",
    "confidence_df"
   ]
  },
  {
   "cell_type": "code",
   "execution_count": 89,
   "metadata": {},
   "outputs": [
    {
     "name": "stdout",
     "output_type": "stream",
     "text": [
      "\\begin{tabular}{lllll}\n",
      "\\toprule\n",
      "{} & republican & republican counts & democrat & democrat counts \\\\\n",
      "\\midrule\n",
      "economics   &      0.783 &               130 &    0.742 &              54 \\\\\n",
      "education   &      0.786 &                42 &    0.870 &              16 \\\\\n",
      "environment &      0.856 &                36 &    0.854 &              37 \\\\\n",
      "feminism    &      0.640 &                73 &    0.778 &              55 \\\\\n",
      "firearms    &      0.668 &                81 &    0.678 &              57 \\\\\n",
      "immigration &      0.745 &                33 &    0.727 &              16 \\\\\n",
      "lgbt        &      0.522 &                68 &    0.603 &              23 \\\\\n",
      "religion    &      0.748 &                44 &    0.755 &              15 \\\\\n",
      "war         &      0.699 &                79 &    0.703 &              28 \\\\\n",
      "\\bottomrule\n",
      "\\end{tabular}\n",
      "\n"
     ]
    }
   ],
   "source": [
    "print(confidence_df.to_latex())"
   ]
  },
  {
   "cell_type": "markdown",
   "metadata": {},
   "source": [
    "# Print examples with confidences"
   ]
  },
  {
   "cell_type": "code",
   "execution_count": 91,
   "metadata": {},
   "outputs": [],
   "source": [
    "categories = np.unique(data.category)"
   ]
  },
  {
   "cell_type": "code",
   "execution_count": 92,
   "metadata": {
    "scrolled": true
   },
   "outputs": [
    {
     "name": "stdout",
     "output_type": "stream",
     "text": [
      "Category: ECONOMICS\n",
      "Top 5 most confident predictions for this\n",
      "                                                                                                                                                                                                                                                                                                                                                                                                                                                                                                                                                                                                                                                                                                                                                                                                                                 text  \\\n",
      "1327    How will raising taxes on the rich and wealthy hurt the economy? So it seems the end of the Bush tax cuts on the wealthy are a big deal to some people and I want to know why? Is there any evidence supporting that higher tax rates for people with high income is bad for the economy? Everything I seem to find shows the opposite. Tax rates are relatively low compared to what they used to be. I have read that the lower tax rates lead to inflation, and does not greatly stimulate job creation like some people are claiming. Is this something that most republicans support or is it just the minority on Fox News? I am looking for statistical and historical data that supports this claim. Follow Up: I just want to thank you for your answer student_of_yoshi, and I agree that there is a lack of inv...   \n",
      "1563                                                                                                                                                                                                                                                                                                                                                                                                                                                                                                                                                                                                                                                                                                      Richard Vedder: The Wages of Unemployment (how gov't benefits have reduced economic growth by shrinking the labor force) \\n   \n",
      "1990                                                                                                                                                                                                                                                                                                                                                                                                                                                                                                                                                                                                                                                                                                                                                                          Economic policy: Spot the socialists | The Economist \\n   \n",
      "1389                                                                                                                                                                                                                                                                                                                                                                                                                                                                                                                                                                                                                                                                                                                             Obama's 'Extraordinary' Economic Recovery Actually 6.5 Million Jobs Below Average - Investors.com \\n   \n",
      "1169                                                                                                                                                                                                                                                                                                                                                                                                                                                                                                                                                                                                                                                                                                                                                Trump’s Economic Plan: Higher Taxes, Higher Inflation, and Higher Minimum Wage \\n   \n",
      "\n",
      "           party    predict  confidence second guess  second guess confidence  \n",
      "1327  republican  economics    0.999284         lgbt                 0.000174  \n",
      "1563  republican  economics    0.999196  immigration                 0.000245  \n",
      "1990  republican  economics    0.999186  immigration                 0.000320  \n",
      "1389  republican  economics    0.999165     politics                 0.000422  \n",
      "1169  republican  economics    0.998907     politics                 0.000803  \n",
      "\n",
      "5 least confident predictions for this\n",
      "                                                                                                                                                                                                                                                             text  \\\n",
      "1424    The West is in decline because the character of its people is in decline. The London riots were the work of moral barbarians with no loyalty to the people in whose midst they live and no love for the society to which they give nothing, only take. \\n   \n",
      "756                                                                                                                                                                                     Redditor Creates What People Are Calling Bernie Sanders’ “Hope Poster” \\n   \n",
      "1835                                                                                                                                                       Watch this post in r/britishproblems discuss all the joys of socialized medicine. What a shit show. \\n   \n",
      "1469                                                                                                                                                                           Getting a tingle in my buzzer finger! MSNBC watchers are always smarter! LOL!!! \\n   \n",
      "1556                                                                                                                                                                                                                 Sorry Folks, Independence Day Is Canceled \\n   \n",
      "\n",
      "           party    predict  confidence second guess  second guess confidence  \n",
      "1424  republican  economics    0.291782         lgbt                 0.275560  \n",
      "756     democrat  economics    0.278697     politics                 0.240195  \n",
      "1835  republican  economics    0.230126     feminism                 0.210416  \n",
      "1469  republican  economics    0.199938         lgbt                 0.191818  \n",
      "1556  republican  economics    0.180848          war                 0.160800  \n",
      "==============================\n",
      "Category: EDUCATION\n",
      "Top 5 most confident predictions for this\n",
      "                                                                                                                                                                                                                                          text  \\\n",
      "1422                                                                                                                                                                                               Romney slams striking Chicago teachers   \\n   \n",
      "1152                                                            If the government schools were really about education rather than indoctrination, today's required reading would be quite different: Required reading today and yesteryear. \\n   \n",
      "1132                                                                                                                                                                               elementary school teacher caught indoctrinating students \\n   \n",
      "1919                                                                                                                                                                                More public funds to close the education gap? Per pupil \\n   \n",
      "516     Hillary Clinton's solution to the charter school crisis is what exactly? She seems to be saying that charter schools have major problems, but the best way to fix them is to redouble our belief in this flawed and failing system. \\n   \n",
      "\n",
      "           party    predict  confidence second guess  second guess confidence  \n",
      "1422  republican  education    0.998961     politics                 0.000470  \n",
      "1152  republican  education    0.998694     religion                 0.000555  \n",
      "1132  republican  education    0.998527     religion                 0.000618  \n",
      "1919  republican  education    0.998431    economics                 0.001197  \n"
     ]
    },
    {
     "name": "stdout",
     "output_type": "stream",
     "text": [
      "516     democrat  education    0.997956    economics                 0.000654  \n",
      "\n",
      "5 least confident predictions for this\n",
      "                                                                                   text  \\\n",
      "1760                                                 If I Wanted America to Fail.... \\n   \n",
      "1208                                                     If I wanted America to fail \\n   \n",
      "1603                          In Case You Forgot: The WORST Answer In Debate History \\n   \n",
      "1376                                  Top 10 Reasons Why Obama Won't Win in the Fall \\n   \n",
      "1222    THIS IS EPIC: Bill Whittle explains the REAL HISTORY of the Democratic Party \\n   \n",
      "\n",
      "           party    predict  confidence second guess  second guess confidence  \n",
      "1760  republican  education    0.368596    economics                 0.203792  \n",
      "1208  republican  education    0.368596    economics                 0.203792  \n",
      "1603  republican  education    0.364413          war                 0.148308  \n",
      "1376  republican  education    0.342801     politics                 0.261082  \n",
      "1222  republican  education    0.235767          war                 0.164232  \n",
      "==============================\n",
      "Category: ENVIRONMENT\n",
      "Top 5 most confident predictions for this\n",
      "                                                                                                                                text  \\\n",
      "1270                                   Climate change is part of a 1,000 year natural cycle of alternating warm and cold periods. \\n   \n",
      "1221                                                                                      Climate Change: What Do Scientists Say? \\n   \n",
      "1455                                                     New Gas Extraction Methods Push U.S. to Forefront of Global Energy Power \\n   \n",
      "1380                                                   Media Hysteria: Climate Change 'Heat Records' Are a Huge Data Manipulation \\n   \n",
      "1377    The EU, after a 3 year study by 21 scientists, says water isn't healthy and cannot be used to protect against dehydration \\n   \n",
      "\n",
      "           party      predict  confidence second guess  \\\n",
      "1270  republican  environment    0.990774     politics   \n",
      "1221  republican  environment    0.990695     politics   \n",
      "1455  republican  environment    0.990543    economics   \n",
      "1380  republican  environment    0.989998     politics   \n",
      "1377  republican  environment    0.989839     politics   \n",
      "\n",
      "      second guess confidence  \n",
      "1270                 0.006917  \n",
      "1221                 0.006415  \n",
      "1455                 0.005816  \n",
      "1380                 0.008996  \n",
      "1377                 0.006660  \n",
      "\n",
      "5 least confident predictions for this\n",
      "                                                                                                                                                                                                                                                                                                    text  \\\n",
      "752                                                                                                                                                                                                                                                     Longstanding Hillary Clinton Ties to Monsanto \\n   \n",
      "772                                                                                                                                                                                                                    Hillary Clinton: 'Even In This Darkest Night, Paris Remains The City Of Light' \\n   \n",
      "1568    CBS News has learned that during the Sept. 11 attack on the U.S. Mission in Benghazi, the Obama Administration did not convene its top interagency counterterrorism resource: the Counterterrorism Security Group, (CSG). \"They were not allowed to do their job. They were not called upon.\" \\n   \n",
      "1776                                                                                                                                                                                      Looking for moderator volunteers to help clean up this subreddit. Post a comment in this thread to apply. . \\n   \n",
      "394                                                                                                         Bernie Sanders Just Won Three of His Biggest Endorsements in a Long Campaign: As pundits rush to declare the race over, Robert Reich, Tulsi Gabbard, and Alan Grayson say, “Not so fast.” \\n   \n",
      "\n",
      "           party      predict  confidence second guess  \\\n",
      "752     democrat  environment    0.482124     politics   \n",
      "772     democrat  environment    0.480829     politics   \n",
      "1568  republican  environment    0.475007     politics   \n",
      "1776  republican  environment    0.420199     religion   \n",
      "394     democrat  environment    0.401882     politics   \n",
      "\n",
      "      second guess confidence  \n",
      "752                  0.335498  \n",
      "772                  0.457397  \n",
      "1568                 0.372816  \n",
      "1776                 0.252716  \n",
      "394                  0.374540  \n",
      "==============================\n",
      "Category: FEMINISM\n",
      "Top 5 most confident predictions for this\n",
      "                                                                                                                                                                                                                                                                                                                                                                                                                                                                                                                                                                                                                                                                                                                                                                                                                                 text  \\\n",
      "1717                                                                                                                                                                                                                                                                                                                                                                                                                                                                                                                                                   Unfriendly to women? The assertion is baseless. Having served 19 years in the Senate, and as a lifelong Republican, I have some perspective. The recent debate has focused on a narrow slice of what constitutes women's issues and how gender should direct women's views. \\n   \n",
      "1949                                                                                                                                                                                                                         How can you be a Republican anymore? Seriously. I saw this article in /r/politics. This is just gross. The Republicans (Issa) blocked any women from testifying on contraception in a House Oversight Committee. I understand that it is about religious freedom, but that is just \"framed\" that way to keep women out of the discussion. One can't argue that women aren't involved in the situation. Look at the panel of people talking at the bottom. Republican women, if there are any here, I'd especially like your feedback. The Republican Party has crossed the line into bona fide crazy. \\n   \n",
      "388                                                                                                                                                                                                                                                                                                                                                                                                                                                                                                                                                                                                                                                                                                                                                                                                Why women should vote for women \\n   \n",
      "1488    Sincere question to pro-life advocates and politicos: How would a \"rape/incest\" exception be practically applied to our society? When the topic of rape is brought up in the abortion debate, many politicians simply say \"there would be an exception\". But dismissing the vast complexity of this potential reality with the word \"exception\" hardly addresses it. It's widely acknowledged the majority of sexual assaults go unreported, and most rapists never see the inside of a jail cell. So is a conviction necessary? Or is just an accusation enough to grant the victim a right to an abortion? How would the justice system accommodate such time sensitive cases?  And while I understand the deep wells of emotion this taps into on both sides, I'd like a true and honest discussion. Please temper any ...   \n",
      "34                                                                                                                                                                                                                                                                                                                                                                                                                                                                                                                                                                                                                                                                                                                                                                                          A Powerful Man Who Victimizes Women... \\n   \n",
      "\n",
      "           party   predict  confidence second guess  second guess confidence  \n",
      "1717  republican  feminism    0.997691     politics                 0.000619  \n",
      "1949  republican  feminism    0.997652     religion                 0.001076  \n",
      "388     democrat  feminism    0.997621     religion                 0.001605  \n",
      "1488  republican  feminism    0.997585     religion                 0.000894  \n"
     ]
    },
    {
     "name": "stdout",
     "output_type": "stream",
     "text": [
      "34      democrat  feminism    0.997223     religion                 0.001124  \n",
      "\n",
      "5 least confident predictions for this\n",
      "                                                                                            text  \\\n",
      "1205                                                     Sharp analysis of campaign 2012 [FB] \\n   \n",
      "1028                  Dear CNN, Harassing People And Silencing Parkland Survivors Is Not Okay \\n   \n",
      "1831    My friends and I made a song dedicated to Steven Crowder, let us know what you think! \\n   \n",
      "1833                                  Why Pro-life Advocates Should Reject The \"Right To Die\" \\n   \n",
      "1128                                                        CONSERVATISM IS CALLING - YouTube \\n   \n",
      "\n",
      "           party   predict  confidence second guess  second guess confidence  \n",
      "1205  republican  feminism    0.273871          war                 0.259934  \n",
      "1028  republican  feminism    0.250727  environment                 0.201862  \n",
      "1831  republican  feminism    0.250537     firearms                 0.217719  \n",
      "1833  republican  feminism    0.242617  immigration                 0.200858  \n",
      "1128  republican  feminism    0.193254     politics                 0.190435  \n",
      "==============================\n",
      "Category: FIREARMS\n",
      "Top 5 most confident predictions for this\n",
      "                                                                                                                                                                         text  \\\n",
      "1143                                                                                                                                     A great president on gun control  \\n   \n",
      "1655                                                                                            Maryland: Your Governor has BIG plans for Gun Control | Heels and Handguns \\n   \n",
      "54                                                                                                            some kid on fb thinks he is cool posting about gun rights... \\n   \n",
      "1836                                                                           Utah Republican Sen. Mike Lee proposes bill to remove federal restrictions on gun silencers \\n   \n",
      "893     How Reddit Became a Gun Market—& Authorized Its Logo on Assault Rifles - The company licensed its trademark alien for the weapons while it was owned by Condé Nast \\n   \n",
      "\n",
      "           party   predict  confidence second guess  second guess confidence  \n",
      "1143  republican  firearms    0.999710     politics                 0.000198  \n",
      "1655  republican  firearms    0.999600     politics                 0.000381  \n",
      "54      democrat  firearms    0.999596     politics                 0.000194  \n",
      "1836  republican  firearms    0.999473     politics                 0.000516  \n",
      "893     democrat  firearms    0.999452     politics                 0.000484  \n",
      "\n",
      "5 least confident predictions for this\n",
      "                                                                                   text  \\\n",
      "1863                                   Please, Eric Holder, will you Just Go Away??? \\n   \n",
      "826     No, Hillary Did Not Commit A Crime. . . At Least Based On What We Know Today \\n   \n",
      "1629                                                Commie Bernie and his supporters \\n   \n",
      "960                                                           How Vetted Is Sanders? \\n   \n",
      "2012               We Asked, Mark Willis, National Committeeman From Maine Replied:  \\n   \n",
      "\n",
      "           party   predict  confidence second guess  second guess confidence  \n",
      "1863  republican  firearms    0.232992  immigration                 0.168018  \n",
      "826     democrat  firearms    0.232442         lgbt                 0.222619  \n",
      "1629  republican  firearms    0.230045     politics                 0.200227  \n",
      "960     democrat  firearms    0.227481  immigration                 0.176696  \n",
      "2012  republican  firearms    0.219124    economics                 0.179903  \n",
      "==============================\n",
      "Category: IMMIGRATION\n",
      "Top 5 most confident predictions for this\n",
      "                                                                                                                                                text  \\\n",
      "2017                                                                                                   Founding Fathers Were Immigration Skeptics \\n   \n",
      "1072                                                                                      Almost half of all long-term immigrants are on welfare. \\n   \n",
      "1077                                                                        Yes, liberals, we can deny entry to any immigrant AND for any reasons \\n   \n",
      "1698    Exclusive: Saudi National Once Considered ‘Person of Interest’ May Be Deported on ‘Security’ Grounds — And How It’s Supposed to Be Framed \\n   \n",
      "1345                                                                             Petition to deport Piers Morgan, for his attack on the 2nd. lolz \\n   \n",
      "\n",
      "           party      predict  confidence second guess  \\\n",
      "2017  republican  immigration    0.998693     politics   \n",
      "1072  republican  immigration    0.998473     politics   \n",
      "1077  republican  immigration    0.998376     politics   \n",
      "1698  republican  immigration    0.998255     politics   \n",
      "1345  republican  immigration    0.997978     politics   \n",
      "\n",
      "      second guess confidence  \n",
      "2017                 0.001197  \n",
      "1072                 0.001128  \n",
      "1077                 0.001421  \n",
      "1698                 0.001611  \n",
      "1345                 0.001094  \n",
      "\n",
      "5 least confident predictions for this\n",
      "                                                                                                                                  text  \\\n",
      "548                            The Only Presidential Candidate that Makes Indian Country a Priority: Native People Feeling the Bern \\n   \n",
      "466                                                                       Why Hillary’s experience argument actually does check out \\n   \n",
      "1720                                                                                                           You stay classy, DNC \\n   \n",
      "1937    Bizarre Coincidence: Democrats Get More Time in All Three Debates - By Katrina Trinko - The Corner - National Review Online \\n   \n",
      "1901                                                                         This is why I can't take R/Politics seriously anymore. \\n   \n",
      "\n",
      "           party      predict  confidence second guess  \\\n",
      "548     democrat  immigration    0.343823     politics   \n",
      "466     democrat  immigration    0.319346     feminism   \n",
      "1720  republican  immigration    0.319336     firearms   \n",
      "1937  republican  immigration    0.251991    education   \n",
      "1901  republican  immigration    0.167770          war   \n",
      "\n",
      "      second guess confidence  \n",
      "548                  0.299483  \n",
      "466                  0.155686  \n",
      "1720                 0.307138  \n",
      "1937                 0.188090  \n",
      "1901                 0.167293  \n",
      "==============================\n",
      "Category: LGBT\n",
      "Top 5 most confident predictions for this\n",
      "                                                                                                                                                                                                                                                                                                                                                                                                                                                                                                                                                                                                                                                                                                                                                                                                                                 text  \\\n",
      "1013    My Issues with the Gay Rights movement First of all I want to say I am positing this here rather then /r/politics because I thik I more likely to get the discussion I want here then the obama zombie downvotes I would get there. Second I'm not going to start off saying weather or not I support gay marriage because I'm sick of people going \"I support gay marriage but...\" because they are afraid of the ridiculous reaction if they don't post that. You should be able to tell from what I'm writing. First off, lets get one thing out of the way, Being gay has one big component and that is gay sex, if you don't have gay sex, you are just attracted to the same gender as yourself. I think a lot of people discount the ACT of gay sex in their discussions. It seems that it has been decreed as an A...   \n",
      "1789                                                                                                                                                                                                                                                                                                                  A legitimate question about gay marriage from an independent liberal Why are you against gay marriage? And if you are, how do you justify your position? I'm personally pro-gay marriage because i honestly don't give much of a fuck what others do as it isn't any of my business.  Edit: i apologize if that last sentence seems like a jab. i was only explaining where my views come from. i was made aware that there have been trolls on this subreddit lately and i promise that i'm not one of them \\n   \n",
      "1663                                                                                                                                                                                                                                                                                                                                                                                                                                                                                                 Question for gay Republicans How do you feel, as a gay man or woman, when people from your own party spew so much hatred in your direction? And what keeps you coming back for more? What is it about conservative politics which appeals to such an extent, that it cancels out the negative way in which you are portrayed? \\n   \n",
      "848                                                                                                                                                                                                                                                                                                                                                                                                                                                                                                                                                                                                                                                                                                                                                                   As Gay Rights Ally, Bernie Sanders Wasn’t Always in Vanguard \\n   \n",
      "1520                                                                                                                                                                                                                                                                                                                                                                                                                         Any other republicans feel its difficult to vote for Romney simply due to his anti-gay civil/human rights stance? In almost all things political, I agree with the republican views.  The single only thing that is leaning me toward voting democrat for the first time is Romney's anti-gay promises.  I am wondering if this is a rare view, or if he is alienating many voters because of this.   \\n   \n",
      "\n",
      "           party predict  confidence second guess  second guess confidence  \n",
      "1013  republican    lgbt    0.998937     feminism                 0.000470  \n",
      "1789  republican    lgbt    0.998876     religion                 0.000508  \n",
      "1663  republican    lgbt    0.996434     feminism                 0.002201  \n",
      "848     democrat    lgbt    0.990408     feminism                 0.005261  \n"
     ]
    },
    {
     "name": "stdout",
     "output_type": "stream",
     "text": [
      "1520  republican    lgbt    0.987366     religion                 0.005432  \n",
      "\n",
      "5 least confident predictions for this\n",
      "                                                                                 text  \\\n",
      "1041                                               Why Kavanaugh must be confirmed \\n   \n",
      "1167    [Suggestion] If you are thinking about seeing 2016, I HIGHLY recommend it. \\n   \n",
      "1855     The Left Has Two Huge Advantages, and I Have No Idea How we Overcome Them \\n   \n",
      "1057                      /r/politics really showed its understanding side today.  \\n   \n",
      "1524                                                One More Week to \"Investigate\" \\n   \n",
      "\n",
      "           party predict  confidence second guess  second guess confidence  \n",
      "1041  republican    lgbt    0.297275          war                 0.200354  \n",
      "1167  republican    lgbt    0.293950          war                 0.168012  \n",
      "1855  republican    lgbt    0.289931          war                 0.188863  \n",
      "1057  republican    lgbt    0.267616          war                 0.225012  \n",
      "1524  republican    lgbt    0.219325  immigration                 0.214280  \n",
      "==============================\n",
      "Category: POLITICS\n",
      "Top 5 most confident predictions for this\n",
      "                                                                                                                                                                                                                                                                                               text  \\\n",
      "108     Poll: Despite Bernie Sanders' Crowds, Hillary Clinton Ahead In Oregon; \"A new poll shows Hillary Clinton and Donald Trump headed toward primary victories next week in Oregon — and suggests Clinton holds a strong lead over Trump as both pivot toward the November general election.\" \\n   \n",
      "514                                                                                                                                                                                                             Hillary Clinton’s latest attack on Bernie Sanders shows she’s a rotten candidate \\n   \n",
      "1849                                                                                                                                                                                                                                GOP lawmakers tell Sessions to probe Clinton-Comey or resign \\n   \n",
      "965                                                                                                                                                                                                     President Bernie Sanders? New poll tips Sanders to defeat Clinton and prevail over Trump \\n   \n",
      "890                                                                                                                                           Politifact: Bernie Sanders says he polls better against GOP candidates than Hillary Clinton: \"The statement is not accurate, so we rate it False.\" \\n   \n",
      "\n",
      "           party   predict  confidence second guess  second guess confidence  \n",
      "108     democrat  politics    0.999917    economics                 0.000033  \n",
      "514     democrat  politics    0.999867     firearms                 0.000061  \n",
      "1849  republican  politics    0.999867     firearms                 0.000039  \n",
      "965     democrat  politics    0.999859    economics                 0.000065  \n",
      "890     democrat  politics    0.999843    economics                 0.000060  \n",
      "\n",
      "5 least confident predictions for this\n",
      "                                                                     text  \\\n",
      "1074    Americans are more conservative than they have been in decades \\n   \n",
      "1015                                Mitt Romney: My vision for America \\n   \n",
      "1159                     Cherokee Indians: We are free to oust blacks  \\n   \n",
      "1312          Liberals 101: adults playing pretend improves everything \\n   \n",
      "1326                                        That's our Vice President. \\n   \n",
      "\n",
      "           party   predict  confidence second guess  second guess confidence  \n",
      "1074  republican  politics    0.277078          war                 0.201355  \n",
      "1015  republican  politics    0.266147          war                 0.259953  \n",
      "1159  republican  politics    0.258604          war                 0.220825  \n",
      "1312  republican  politics    0.241651     religion                 0.232448  \n",
      "1326  republican  politics    0.229699          war                 0.212584  \n",
      "==============================\n",
      "Category: RELIGION\n",
      "Top 5 most confident predictions for this\n",
      "                                                                                                                              text  \\\n",
      "1305                                        Islamists Killed Americas in Libya, but Right-Wing Christians Are to Blame? [Video] \\n   \n",
      "1349                                                                                African-American Christians waver over vote \\n   \n",
      "1840                                        Eerie Similarities Between Turkey's Treatment Of Pastor And Democrats' of Kavanaugh \\n   \n",
      "1770    Muslim majority City Council. Well, it didn’t take long for the Islamic supremacist aggression and hostility to surface \\n   \n",
      "912                                                                 Huma Abedin Worked At A Radical Muslim Journal for 10 Years \\n   \n",
      "\n",
      "           party   predict  confidence second guess  second guess confidence  \n",
      "1305  republican  religion    0.996943          war                 0.001635  \n",
      "1349  republican  religion    0.996326         lgbt                 0.002819  \n",
      "1840  republican  religion    0.995890         lgbt                 0.002857  \n",
      "1770  republican  religion    0.995764         lgbt                 0.002378  \n",
      "912     democrat  religion    0.994493         lgbt                 0.002831  \n",
      "\n",
      "5 least confident predictions for this\n",
      "                                                                                                                                                                                                                                    text  \\\n",
      "1601    RIOT IN CHARLOTTESVILLE: \"Community organizing communist Saul Alinsky took it further, urging his followers to dress in Ku Klux Klan uniforms and show up at Republican rallies with signs endorsing the Republican speaker.\" \\n   \n",
      "610                                              What Martin Luther King, Jr. can teach us about the Panama Papers: With the corruption of the global elite laid bare for all to see, King's Marxist doctrine feels as urgent as ever \\n   \n",
      "1054                                                                                                                 You know how Sarah Palin said Paul Revere warned the British? Well, he did. Now, who looks stupid? - latimes.com \\n   \n",
      "1815                                                                                                                                                      Kathy Griffin breaks down: 'I made a horrible, horrible call … he broke me' \\n   \n",
      "1841                                                               If the Left gets its way, it won’t just be the United States that’s fundamentally transformed, it will be whole world. And then there will be nowhere left to run. \\n   \n",
      "\n",
      "           party   predict  confidence second guess  second guess confidence  \n",
      "1601  republican  religion    0.338850     politics                 0.264547  \n",
      "610     democrat  religion    0.336377    economics                 0.304366  \n",
      "1054  republican  religion    0.316804     feminism                 0.289775  \n",
      "1815  republican  religion    0.286768     politics                 0.196693  \n",
      "1841  republican  religion    0.193958    education                 0.182751  \n",
      "==============================\n",
      "Category: WAR\n",
      "Top 5 most confident predictions for this\n",
      "                                                                                                                                                                                                                text  \\\n",
      "971                             Hillary’s War Whoop: In a presentation to the Council on Foreign Relations, Clinton made it clear that if she’s elected in 2016, she’s going to drag the country straight to war. \\n   \n",
      "1148    Aircraft carriers need smaller ships to protect them, lest they be sunk. The military has many more bayonets now than in 1916. Special Forces soldiers on horseback were critical to ousting the Taliban. \\n   \n",
      "1379                                                                                                                                                                           Wisconsin: Left's war on democracy \\n   \n",
      "2011                                                                                                                                                             New medal for drone pilots outranks Bronze Star  \\n   \n",
      "1040                                                                                                                   Al Gore: Al Jazeera \"Tell It Like It Is,\" They're \"Respected\" -- Fox News Is \"Propaganda\". \\n   \n",
      "\n",
      "           party predict  confidence second guess  second guess confidence  \n",
      "971     democrat     war    0.998757     religion                 0.000687  \n",
      "1148  republican     war    0.998526     religion                 0.001111  \n",
      "1379  republican     war    0.998462     religion                 0.000658  \n",
      "2011  republican     war    0.997597     religion                 0.000796  \n"
     ]
    },
    {
     "name": "stdout",
     "output_type": "stream",
     "text": [
      "1040  republican     war    0.996112     politics                 0.001270  \n",
      "\n",
      "5 least confident predictions for this\n",
      "                                                                                                  text  \\\n",
      "1562                                    President Bush's Scottish terrier dog Barney dies at age 12 \\n   \n",
      "549                           Wall Street Veteran Asher Edelman Explains Why He's Supporting Bernie \\n   \n",
      "1671                                                           24 Pieces of MSM Fake News in 5 Days \\n   \n",
      "975                                                                         Hillary's turning point \\n   \n",
      "331     Americans Don't Know What ‘Single Payer’ Means: And when they find out, they don’t like it. \\n   \n",
      "\n",
      "           party predict  confidence second guess  second guess confidence  \n",
      "1562  republican     war    0.279798     religion                 0.235983  \n",
      "549     democrat     war    0.260638    economics                 0.248344  \n",
      "1671  republican     war    0.249044         lgbt                 0.227515  \n",
      "975     democrat     war    0.238962     feminism                 0.218754  \n",
      "331     democrat     war    0.217658     feminism                 0.216139  \n",
      "==============================\n"
     ]
    }
   ],
   "source": [
    "for c in categories:\n",
    "    print('Category: %s' %c.upper())\n",
    "    c_df = df[df.predict==c].sort_values('confidence',ascending=False)\n",
    "    print('Top 5 most confident predictions for this')\n",
    "    print(c_df.head(5))\n",
    "    with open(os.path.join('results',\"%s_top.html\" %c), \"w\") as f:\n",
    "        f.write(c_df.head(5).to_html())\n",
    "    print()\n",
    "    print('5 least confident predictions for this')\n",
    "    print(c_df.tail(5))\n",
    "    with open(os.path.join('results',\"%s_bottom.html\" %c), \"w\") as f:\n",
    "        f.write(c_df.tail(5).to_html())\n",
    "    \n",
    "    print('='*30)"
   ]
  },
  {
   "cell_type": "markdown",
   "metadata": {},
   "source": [
    "# Baselines of LDA, HDP, LSI"
   ]
  },
  {
   "cell_type": "code",
   "execution_count": 399,
   "metadata": {},
   "outputs": [],
   "source": [
    "from gensim.models import CoherenceModel, LdaModel, LsiModel, HdpModel\n",
    "import pickle\n",
    "import gensim\n",
    "from gensim.corpora import Dictionary\n"
   ]
  },
  {
   "cell_type": "code",
   "execution_count": 400,
   "metadata": {},
   "outputs": [],
   "source": [
    "texts = [str(s).split() for s in df.text_processed]"
   ]
  },
  {
   "cell_type": "code",
   "execution_count": 401,
   "metadata": {},
   "outputs": [],
   "source": [
    "bigram = gensim.models.Phrases(texts)\n",
    "texts = [bigram[line] for line in texts]\n",
    "\n",
    "dictionary = Dictionary(texts)\n",
    "corpus = [dictionary.doc2bow(text) for text in texts]"
   ]
  },
  {
   "cell_type": "code",
   "execution_count": 402,
   "metadata": {},
   "outputs": [],
   "source": [
    "lsimodel = LsiModel(corpus=corpus, num_topics=10, id2word=dictionary)"
   ]
  },
  {
   "cell_type": "code",
   "execution_count": 403,
   "metadata": {},
   "outputs": [],
   "source": [
    "hdpmodel = HdpModel(corpus=corpus, id2word=dictionary)"
   ]
  },
  {
   "cell_type": "code",
   "execution_count": 404,
   "metadata": {},
   "outputs": [],
   "source": [
    "ldamodel = LdaModel(corpus=corpus, num_topics=10, id2word=dictionary)"
   ]
  },
  {
   "cell_type": "code",
   "execution_count": 405,
   "metadata": {},
   "outputs": [],
   "source": [
    "lsitopics = [[word for word, prob in topic] for topicid, topic in lsimodel.show_topics(formatted=False)]\n",
    "hdptopics = [[word for word, prob in topic] for topicid, topic in hdpmodel.show_topics(formatted=False)]\n",
    "ldatopics = [[word for word, prob in topic] for topicid, topic in ldamodel.show_topics(formatted=False)]\n",
    "\n",
    "lsi_coherence = CoherenceModel(topics=lsitopics[:10], texts=texts, dictionary=dictionary, window_size=10).get_coherence()\n",
    "hdp_coherence = CoherenceModel(topics=hdptopics[:10], texts=texts, dictionary=dictionary, window_size=10).get_coherence()\n",
    "lda_coherence = CoherenceModel(topics=ldatopics, texts=texts, dictionary=dictionary, window_size=10).get_coherence()"
   ]
  },
  {
   "cell_type": "code",
   "execution_count": 406,
   "metadata": {},
   "outputs": [],
   "source": [
    "def evaluate_bar_graph(coherences, indices):\n",
    "    \"\"\"\n",
    "    Function to plot bar graph.\n",
    "    \n",
    "    coherences: list of coherence values\n",
    "    indices: Indices to be used to mark bars. Length of this and coherences should be equal.\n",
    "    \"\"\"\n",
    "    assert len(coherences) == len(indices)\n",
    "    n = len(coherences)\n",
    "    x = np.arange(n)\n",
    "    plt.bar(x, coherences, width=0.2, tick_label=indices, align='center')\n",
    "    plt.xlabel('Models')\n",
    "    plt.ylabel('Coherence Value')"
   ]
  },
  {
   "cell_type": "code",
   "execution_count": 407,
   "metadata": {},
   "outputs": [],
   "source": [
    "model_topics = []\n",
    "topics = np.unique(df.predict)\n",
    "for t in topics:\n",
    "    words_topic = [s.split(\" \") for s in df[df.predict==t].text_processed]\n",
    "    np.random.shuffle(words_topic)\n",
    "    words_topic = np.unique(np.concatenate(words_topic))\n",
    "    model_topics.append(words_topic.tolist()[:10])"
   ]
  },
  {
   "cell_type": "code",
   "execution_count": 408,
   "metadata": {},
   "outputs": [],
   "source": [
    "model_coh = CoherenceModel(topics=model_topics, texts=texts, dictionary=dictionary, window_size=10).get_coherence()"
   ]
  },
  {
   "cell_type": "code",
   "execution_count": 409,
   "metadata": {},
   "outputs": [
    {
     "data": {
      "image/png": "[encoded data removed]",
      "text/plain": [
       "<Figure size 576x432 with 1 Axes>"
      ]
     },
     "metadata": {
      "needs_background": "light"
     },
     "output_type": "display_data"
    }
   ],
   "source": [
    "plt.figure(figsize=(8,6))\n",
    "evaluate_bar_graph([lsi_coherence, hdp_coherence, lda_coherence, model_coh],\n",
    "                   ['LSI', 'HDP', 'LDA', 'LSTM'])"
   ]
  },
  {
   "cell_type": "code",
   "execution_count": null,
   "metadata": {},
   "outputs": [],
   "source": []
  }
 ],
 "metadata": {
  "kernelspec": {
   "display_name": "Python 3",
   "language": "python",
   "name": "python3"
  },
  "language_info": {
   "codemirror_mode": {
    "name": "ipython",
    "version": 3
   },
   "file_extension": ".py",
   "mimetype": "text/x-python",
   "name": "python",
   "nbconvert_exporter": "python",
   "pygments_lexer": "ipython3",
   "version": "3.6.8"
  }
 },
 "nbformat": 4,
 "nbformat_minor": 2
}
