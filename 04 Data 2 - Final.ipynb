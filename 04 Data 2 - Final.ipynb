{
 "cells": [
  {
   "cell_type": "code",
   "execution_count": 1,
   "metadata": {},
   "outputs": [],
   "source": [
    "from tqdm import tqdm_notebook as tqdm\n",
    "import numpy as np\n",
    "import pandas as pd\n",
    "import praw\n",
    "\n",
    "import pickle\n",
    "\n",
    "from markdown import markdown\n",
    "\n",
    "\n",
    "from bs4 import BeautifulSoup as bs\n",
    "import os"
   ]
  },
  {
   "cell_type": "code",
   "execution_count": 2,
   "metadata": {},
   "outputs": [],
   "source": [
    "import requests"
   ]
  },
  {
   "cell_type": "code",
   "execution_count": 3,
   "metadata": {},
   "outputs": [],
   "source": [
    "\n",
    "try:\n",
    "    from PIL import Image\n",
    "except ImportError:\n",
    "    import Image\n",
    "import pytesseract"
   ]
  },
  {
   "cell_type": "code",
   "execution_count": 4,
   "metadata": {},
   "outputs": [],
   "source": [
    "def is_image_submission(s):\n",
    "    url = s.url\n",
    "    return 'imgur' in url or '.jpg' in url or '.png' in url"
   ]
  },
  {
   "cell_type": "code",
   "execution_count": 5,
   "metadata": {},
   "outputs": [],
   "source": [
    "def ocr_submissions(s):\n",
    "    url = s.url\n",
    "    if 'imgur' in url and '.jpg' not in url:\n",
    "        url = url + \".jpg\"\n",
    "\n",
    "    file_name = url.split(\"/\")\n",
    "    if len(file_name) == 0:\n",
    "        file_name = re.findall(\"/(.*?)\", url)\n",
    "    file_name = os.path.join(\"img\",file_name[-1])\n",
    "    if \".\" not in file_name:\n",
    "        file_name += \".jpg\"\n",
    "    r = requests.get(url)\n",
    "    with open(file_name,\"wb\") as f:\n",
    "        f.write(r.content)\n",
    "\n",
    "    return pytesseract.image_to_string(Image.open(file_name))"
   ]
  },
  {
   "cell_type": "code",
   "execution_count": 6,
   "metadata": {},
   "outputs": [
    {
     "name": "stdout",
     "output_type": "stream",
     "text": [
      "D:\\bin\\tesseract\\tesseract.exe\n"
     ]
    }
   ],
   "source": [
    "pytesseract.pytesseract.tesseract_cmd = input()"
   ]
  },
  {
   "cell_type": "code",
   "execution_count": 7,
   "metadata": {},
   "outputs": [
    {
     "data": {
      "text/plain": [
       "'D:\\\\bin\\\\tesseract\\\\tesseract.exe'"
      ]
     },
     "execution_count": 7,
     "metadata": {},
     "output_type": "execute_result"
    }
   ],
   "source": [
    "pytesseract.pytesseract.tesseract_cmd"
   ]
  },
  {
   "cell_type": "code",
   "execution_count": 8,
   "metadata": {},
   "outputs": [],
   "source": [
    "reddit = praw.Reddit(client_id='vKDJ34lnNRAt5Q',\n",
    "                     client_secret='ap0vMAKpJ7ukjRAEQLCGltyA-so',\n",
    "                     password='thisisapassword',\n",
    "                     user_agent='testscript by /u/throwawaytsds',\n",
    "                     username='throwawaytsds')"
   ]
  },
  {
   "cell_type": "code",
   "execution_count": 9,
   "metadata": {},
   "outputs": [
    {
     "name": "stdout",
     "output_type": "stream",
     "text": [
      "throwawaytsds\n"
     ]
    }
   ],
   "source": [
    "print(reddit.user.me())\n"
   ]
  },
  {
   "cell_type": "code",
   "execution_count": 10,
   "metadata": {},
   "outputs": [],
   "source": [
    "reddits = [\n",
    "    \"environment\",\n",
    "    \"economics\",\n",
    "    \"religion\",\n",
    "    \"education\",\n",
    "    \"immigration\",\n",
    "    \"lgbt\",\n",
    "    \"war\",\n",
    "    \"feminism\",\n",
    "    \"business\",\n",
    "    \"firearms\",\n",
    "    \"politics\",\n",
    "    \"gay\"\n",
    "]"
   ]
  },
  {
   "cell_type": "code",
   "execution_count": 11,
   "metadata": {},
   "outputs": [],
   "source": [
    "df = pd.DataFrame(columns=['text','category'])"
   ]
  },
  {
   "cell_type": "code",
   "execution_count": 12,
   "metadata": {},
   "outputs": [],
   "source": [
    "n = 1000"
   ]
  },
  {
   "cell_type": "code",
   "execution_count": 13,
   "metadata": {},
   "outputs": [],
   "source": [
    "os.mkdir(\"img\")"
   ]
  },
  {
   "cell_type": "code",
   "execution_count": null,
   "metadata": {},
   "outputs": [],
   "source": [
    "errs = []\n",
    "for r in reddits:\n",
    "    submisssions = reddit.subreddit(r).top('all',limit=n)\n",
    "    for _ in tqdm(range(n)):\n",
    "        try:\n",
    "            s = submisssions.next()\n",
    "            text = s.title\n",
    "            try:\n",
    "                if is_image_submission(s):\n",
    "                    text += ocr_submissions(s)\n",
    "            except Exception as e:\n",
    "                errs.append(s)\n",
    "            df.loc[len(df)] = [text, r]\n",
    "        except StopIteration as e:\n",
    "            pass\n",
    "        except Exception as e:\n",
    "            print(e)"
   ]
  },
  {
   "cell_type": "code",
   "execution_count": 40,
   "metadata": {},
   "outputs": [
    {
     "name": "stdout",
     "output_type": "stream",
     "text": [
      "153\n"
     ]
    }
   ],
   "source": [
    "print(len(errs))"
   ]
  },
  {
   "cell_type": "code",
   "execution_count": 41,
   "metadata": {},
   "outputs": [],
   "source": [
    "for i, _ in df[df['category']=='gay'].iterrows():\n",
    "    df.loc[i, 'category']='lgbt'"
   ]
  },
  {
   "cell_type": "code",
   "execution_count": 42,
   "metadata": {},
   "outputs": [
    {
     "data": {
      "text/plain": [
       "array(['business', 'economics', 'education', 'environment', 'feminism',\n",
       "       'firearms', 'immigration', 'lgbt', 'politics', 'religion', 'war'],\n",
       "      dtype=object)"
      ]
     },
     "execution_count": 42,
     "metadata": {},
     "output_type": "execute_result"
    }
   ],
   "source": [
    "np.unique(df.category)"
   ]
  },
  {
   "cell_type": "code",
   "execution_count": 43,
   "metadata": {},
   "outputs": [],
   "source": [
    "for i, _ in df[df['category']=='business'].iterrows():\n",
    "    df.loc[i, 'category']='economics'"
   ]
  },
  {
   "cell_type": "code",
   "execution_count": 44,
   "metadata": {},
   "outputs": [
    {
     "data": {
      "text/plain": [
       "array(['economics', 'education', 'environment', 'feminism', 'firearms',\n",
       "       'immigration', 'lgbt', 'politics', 'religion', 'war'], dtype=object)"
      ]
     },
     "execution_count": 44,
     "metadata": {},
     "output_type": "execute_result"
    }
   ],
   "source": [
    "np.unique(df.category)"
   ]
  },
  {
   "cell_type": "code",
   "execution_count": 58,
   "metadata": {},
   "outputs": [
    {
     "data": {
      "text/plain": [
       "11945"
      ]
     },
     "execution_count": 58,
     "metadata": {},
     "output_type": "execute_result"
    }
   ],
   "source": [
    "len(df)"
   ]
  },
  {
   "cell_type": "code",
   "execution_count": 62,
   "metadata": {},
   "outputs": [
    {
     "data": {
      "text/html": [
       "<div>\n",
       "<style scoped>\n",
       "    .dataframe tbody tr th:only-of-type {\n",
       "        vertical-align: middle;\n",
       "    }\n",
       "\n",
       "    .dataframe tbody tr th {\n",
       "        vertical-align: top;\n",
       "    }\n",
       "\n",
       "    .dataframe thead th {\n",
       "        text-align: right;\n",
       "    }\n",
       "</style>\n",
       "<table border=\"1\" class=\"dataframe\">\n",
       "  <thead>\n",
       "    <tr style=\"text-align: right;\">\n",
       "      <th></th>\n",
       "      <th>text</th>\n",
       "      <th>category</th>\n",
       "    </tr>\n",
       "  </thead>\n",
       "  <tbody>\n",
       "    <tr>\n",
       "      <th>17011</th>\n",
       "      <td>The real reason why homosexuality is considere...</td>\n",
       "      <td>lgbt</td>\n",
       "    </tr>\n",
       "    <tr>\n",
       "      <th>22684</th>\n",
       "      <td>Melania Trump arrives in Saudi Arabia without ...</td>\n",
       "      <td>politics</td>\n",
       "    </tr>\n",
       "    <tr>\n",
       "      <th>21217</th>\n",
       "      <td>Vice brings up a good point for once. Why is t...</td>\n",
       "      <td>firearms</td>\n",
       "    </tr>\n",
       "    <tr>\n",
       "      <th>19985</th>\n",
       "      <td>Instagram Will Now Tell You Who's Getting Paid...</td>\n",
       "      <td>economics</td>\n",
       "    </tr>\n",
       "    <tr>\n",
       "      <th>16990</th>\n",
       "      <td>LGBTQ for the winBryan Fischer @ :\\n@BryanJFis...</td>\n",
       "      <td>lgbt</td>\n",
       "    </tr>\n",
       "    <tr>\n",
       "      <th>18495</th>\n",
       "      <td>The despondent battle for Hill 3234</td>\n",
       "      <td>war</td>\n",
       "    </tr>\n",
       "    <tr>\n",
       "      <th>17434</th>\n",
       "      <td>Shirtless kinda means a different thing now.. ...</td>\n",
       "      <td>lgbt</td>\n",
       "    </tr>\n",
       "    <tr>\n",
       "      <th>22470</th>\n",
       "      <td>Woman Dragged Out of West Virginia House Heari...</td>\n",
       "      <td>politics</td>\n",
       "    </tr>\n",
       "    <tr>\n",
       "      <th>14437</th>\n",
       "      <td>The head of Wisconsin's anti-gay Christian gro...</td>\n",
       "      <td>religion</td>\n",
       "    </tr>\n",
       "    <tr>\n",
       "      <th>20177</th>\n",
       "      <td>Free Trials Without The Hassle: Mastercard rul...</td>\n",
       "      <td>economics</td>\n",
       "    </tr>\n",
       "  </tbody>\n",
       "</table>\n",
       "</div>"
      ],
      "text/plain": [
       "                                                    text   category\n",
       "17011  The real reason why homosexuality is considere...       lgbt\n",
       "22684  Melania Trump arrives in Saudi Arabia without ...   politics\n",
       "21217  Vice brings up a good point for once. Why is t...   firearms\n",
       "19985  Instagram Will Now Tell You Who's Getting Paid...  economics\n",
       "16990  LGBTQ for the winBryan Fischer @ :\\n@BryanJFis...       lgbt\n",
       "18495                The despondent battle for Hill 3234        war\n",
       "17434  Shirtless kinda means a different thing now.. ...       lgbt\n",
       "22470  Woman Dragged Out of West Virginia House Heari...   politics\n",
       "14437  The head of Wisconsin's anti-gay Christian gro...   religion\n",
       "20177  Free Trials Without The Hassle: Mastercard rul...  economics"
      ]
     },
     "execution_count": 62,
     "metadata": {},
     "output_type": "execute_result"
    }
   ],
   "source": [
    "df.sample(10)"
   ]
  },
  {
   "cell_type": "code",
   "execution_count": 64,
   "metadata": {},
   "outputs": [
    {
     "data": {
      "text/plain": [
       "(array(['economics', 'education', 'environment', 'feminism', 'firearms',\n",
       "        'immigration', 'lgbt', 'politics', 'religion', 'war'], dtype=object),\n",
       " array([1977, 1000,  995,  997,  991,  999, 1988,  999, 1000,  999],\n",
       "       dtype=int64))"
      ]
     },
     "execution_count": 64,
     "metadata": {},
     "output_type": "execute_result"
    }
   ],
   "source": [
    "c, v = np.unique(df.category, return_counts=True)\n",
    "c, v"
   ]
  },
  {
   "cell_type": "code",
   "execution_count": 69,
   "metadata": {},
   "outputs": [
    {
     "data": {
      "text/plain": [
       "991"
      ]
     },
     "execution_count": 69,
     "metadata": {},
     "output_type": "execute_result"
    }
   ],
   "source": [
    "max_count = np.min(v)\n",
    "max_count"
   ]
  },
  {
   "cell_type": "code",
   "execution_count": 75,
   "metadata": {},
   "outputs": [],
   "source": [
    "new_df = pd.DataFrame(columns=['text','category'])"
   ]
  },
  {
   "cell_type": "code",
   "execution_count": 74,
   "metadata": {},
   "outputs": [],
   "source": [
    "df = df.sample(frac=1).reset_index(drop=True)"
   ]
  },
  {
   "cell_type": "code",
   "execution_count": 77,
   "metadata": {},
   "outputs": [],
   "source": [
    "for i, row in df.iterrows():\n",
    "    cat = row.category\n",
    "    if len(new_df[new_df.category==cat])<max_count:\n",
    "        new_df.loc[len(new_df)] = [row.text, row.category]"
   ]
  },
  {
   "cell_type": "code",
   "execution_count": 78,
   "metadata": {},
   "outputs": [
    {
     "data": {
      "text/plain": [
       "(array(['economics', 'education', 'environment', 'feminism', 'firearms',\n",
       "        'immigration', 'lgbt', 'politics', 'religion', 'war'], dtype=object),\n",
       " array([991, 991, 991, 991, 991, 991, 991, 991, 991, 991], dtype=int64))"
      ]
     },
     "execution_count": 78,
     "metadata": {},
     "output_type": "execute_result"
    }
   ],
   "source": [
    "c, v = np.unique(new_df.category, return_counts=True)\n",
    "c, v"
   ]
  },
  {
   "cell_type": "code",
   "execution_count": 80,
   "metadata": {},
   "outputs": [],
   "source": [
    "new_df.to_csv(\"08_new_df.pd\")"
   ]
  },
  {
   "cell_type": "code",
   "execution_count": 63,
   "metadata": {},
   "outputs": [],
   "source": [
    "df.to_csv(\"08_data.pd\")"
   ]
  },
  {
   "cell_type": "code",
   "execution_count": 6,
   "metadata": {},
   "outputs": [],
   "source": [
    "df = pd.read_csv(\"08_new_df.pd\", index_col=\"Unnamed: 0\")"
   ]
  },
  {
   "cell_type": "code",
   "execution_count": 7,
   "metadata": {},
   "outputs": [
    {
     "data": {
      "text/html": [
       "<div>\n",
       "<style scoped>\n",
       "    .dataframe tbody tr th:only-of-type {\n",
       "        vertical-align: middle;\n",
       "    }\n",
       "\n",
       "    .dataframe tbody tr th {\n",
       "        vertical-align: top;\n",
       "    }\n",
       "\n",
       "    .dataframe thead th {\n",
       "        text-align: right;\n",
       "    }\n",
       "</style>\n",
       "<table border=\"1\" class=\"dataframe\">\n",
       "  <thead>\n",
       "    <tr style=\"text-align: right;\">\n",
       "      <th></th>\n",
       "      <th>text</th>\n",
       "      <th>category</th>\n",
       "    </tr>\n",
       "  </thead>\n",
       "  <tbody>\n",
       "    <tr>\n",
       "      <th>7276</th>\n",
       "      <td>Retired Miner With Black Lung Begs EPA To Save...</td>\n",
       "      <td>environment</td>\n",
       "    </tr>\n",
       "    <tr>\n",
       "      <th>7721</th>\n",
       "      <td>ICE Agents Arrested Over 200 People in Los Ang...</td>\n",
       "      <td>immigration</td>\n",
       "    </tr>\n",
       "    <tr>\n",
       "      <th>2521</th>\n",
       "      <td>Nearly Two-Thirds of Americans Can't Pass a Ba...</td>\n",
       "      <td>economics</td>\n",
       "    </tr>\n",
       "    <tr>\n",
       "      <th>1316</th>\n",
       "      <td>Tesla secures order from Wal-Mart for its new ...</td>\n",
       "      <td>economics</td>\n",
       "    </tr>\n",
       "    <tr>\n",
       "      <th>7564</th>\n",
       "      <td>A Democrat Ran on Climate Change in a Republic...</td>\n",
       "      <td>environment</td>\n",
       "    </tr>\n",
       "    <tr>\n",
       "      <th>3645</th>\n",
       "      <td>Help advice needed</td>\n",
       "      <td>immigration</td>\n",
       "    </tr>\n",
       "    <tr>\n",
       "      <th>8116</th>\n",
       "      <td>Elizabeth Warren Bill Would Mandate Companies ...</td>\n",
       "      <td>environment</td>\n",
       "    </tr>\n",
       "    <tr>\n",
       "      <th>9133</th>\n",
       "      <td>Why poeple who take the Bible \"literally\" shou...</td>\n",
       "      <td>religion</td>\n",
       "    </tr>\n",
       "    <tr>\n",
       "      <th>8044</th>\n",
       "      <td>Netherlands says OK for biker gangs to fight I...</td>\n",
       "      <td>war</td>\n",
       "    </tr>\n",
       "    <tr>\n",
       "      <th>329</th>\n",
       "      <td>The student loan crisis is really an underempl...</td>\n",
       "      <td>education</td>\n",
       "    </tr>\n",
       "  </tbody>\n",
       "</table>\n",
       "</div>"
      ],
      "text/plain": [
       "                                                   text     category\n",
       "7276  Retired Miner With Black Lung Begs EPA To Save...  environment\n",
       "7721  ICE Agents Arrested Over 200 People in Los Ang...  immigration\n",
       "2521  Nearly Two-Thirds of Americans Can't Pass a Ba...    economics\n",
       "1316  Tesla secures order from Wal-Mart for its new ...    economics\n",
       "7564  A Democrat Ran on Climate Change in a Republic...  environment\n",
       "3645                                 Help advice needed  immigration\n",
       "8116  Elizabeth Warren Bill Would Mandate Companies ...  environment\n",
       "9133  Why poeple who take the Bible \"literally\" shou...     religion\n",
       "8044  Netherlands says OK for biker gangs to fight I...          war\n",
       "329   The student loan crisis is really an underempl...    education"
      ]
     },
     "execution_count": 7,
     "metadata": {},
     "output_type": "execute_result"
    }
   ],
   "source": [
    "df.sample(10)"
   ]
  },
  {
   "cell_type": "code",
   "execution_count": 8,
   "metadata": {},
   "outputs": [
    {
     "data": {
      "text/plain": [
       "9910"
      ]
     },
     "execution_count": 8,
     "metadata": {},
     "output_type": "execute_result"
    }
   ],
   "source": [
    "len(df)"
   ]
  },
  {
   "cell_type": "markdown",
   "metadata": {},
   "source": [
    "# Preprocessing with spacy"
   ]
  },
  {
   "cell_type": "code",
   "execution_count": 4,
   "metadata": {},
   "outputs": [],
   "source": [
    "import spacy\n",
    "nlp = spacy.load('en_core_web_sm')"
   ]
  },
  {
   "cell_type": "code",
   "execution_count": 5,
   "metadata": {},
   "outputs": [
    {
     "name": "stdout",
     "output_type": "stream",
     "text": [
      "['-PRON-', 'barbara', 'snowden', 'iowa', 'emanuel', 'goldman', 'bring', 'america', 'like', 'chrysler', 'jerry', 'voter', 'political', 'american', 'president', 'poll', 'independent', 'democratic', 'campaign', 'progressive', 'want', 'socialist', 'thing', 'think', 'vote', 'party', 'debate', 'primary', 'nomination', 'presidential', 'caucus', 'history', 'candidate', 'bernie', 'sander', 'hillary', 'clinton', 'barack', 'obama', 'donald', 'trump', 'republican', 'democrat', 'republican', 'democrat', 'romney']\n"
     ]
    }
   ],
   "source": [
    "my_stop_words = [u'say', u'\\'s', u'Mr', u'be', u'said', u'says', u'saying']\n",
    "for stopword in my_stop_words:\n",
    "    lexeme = nlp.vocab[stopword]\n",
    "    lexeme.is_stop = True\n",
    "\n",
    "filtered = ['our', 'barbara','snowden','iowa','emanuel','goldman','bring','america','like','chrysler','jerry','voter','political','american','president','poll','independent','democratic','campaign','progressive','want','socialist','thing','think','vote','party', 'debate', 'primary', 'nomination', 'presidential', 'caucus', 'history', 'candidate','bernie','sanders','hillary','clinton','barack','obama','donald','trump','republican','democrat','republicans','democrats','romney']\n",
    "filtered = [nlp(w)[0].lemma_ for w in filtered]\n",
    "print(filtered)\n",
    "def is_filtered(w):\n",
    "    return str(w) in filtered"
   ]
  },
  {
   "cell_type": "code",
   "execution_count": 6,
   "metadata": {},
   "outputs": [],
   "source": [
    "df_processed = pd.DataFrame(columns=['text','category'])"
   ]
  },
  {
   "cell_type": "code",
   "execution_count": 10,
   "metadata": {},
   "outputs": [
    {
     "data": {
      "application/vnd.jupyter.widget-view+json": {
       "model_id": "36aefd8d475644dda2816370a53073b2",
       "version_major": 2,
       "version_minor": 0
      },
      "text/plain": [
       "HBox(children=(IntProgress(value=0, max=10949), HTML(value='')))"
      ]
     },
     "metadata": {},
     "output_type": "display_data"
    },
    {
     "name": "stdout",
     "output_type": "stream",
     "text": [
      "\n"
     ]
    }
   ],
   "source": [
    "for i, row in tqdm(df.iterrows(),total=len(df)):\n",
    "    text = row['text']\n",
    "\n",
    "    texts_nlp, article_nlp, skl_texts = [], [], []\n",
    "\n",
    "    phrase_nlp = nlp(text)\n",
    "    for w in phrase_nlp:\n",
    "        if w.text != '\\n' and not w.is_stop and not w.is_punct and not w.like_num and w.is_alpha:\n",
    "            if not is_filtered(w.lemma_) and len(w.lemma_) > 2:\n",
    "                article_nlp.append(w.lemma_)\n",
    "\n",
    "    df_processed.loc[len(df_processed)] = [' '.join(article_nlp), row['category']]"
   ]
  },
  {
   "cell_type": "code",
   "execution_count": 11,
   "metadata": {},
   "outputs": [
    {
     "data": {
      "text/html": [
       "<div>\n",
       "<style scoped>\n",
       "    .dataframe tbody tr th:only-of-type {\n",
       "        vertical-align: middle;\n",
       "    }\n",
       "\n",
       "    .dataframe tbody tr th {\n",
       "        vertical-align: top;\n",
       "    }\n",
       "\n",
       "    .dataframe thead th {\n",
       "        text-align: right;\n",
       "    }\n",
       "</style>\n",
       "<table border=\"1\" class=\"dataframe\">\n",
       "  <thead>\n",
       "    <tr style=\"text-align: right;\">\n",
       "      <th></th>\n",
       "      <th>text</th>\n",
       "      <th>category</th>\n",
       "    </tr>\n",
       "  </thead>\n",
       "  <tbody>\n",
       "    <tr>\n",
       "      <th>10280</th>\n",
       "      <td>bill gates and other billionaires backing nucl...</td>\n",
       "      <td>business</td>\n",
       "    </tr>\n",
       "    <tr>\n",
       "      <th>9882</th>\n",
       "      <td>fox employees walk eggshells heavy layoffs con...</td>\n",
       "      <td>business</td>\n",
       "    </tr>\n",
       "    <tr>\n",
       "      <th>6623</th>\n",
       "      <td>high school sweetheart celebrate year cartagen...</td>\n",
       "      <td>lgbt</td>\n",
       "    </tr>\n",
       "    <tr>\n",
       "      <th>7963</th>\n",
       "      <td>israel launch major strike target syria follow...</td>\n",
       "      <td>war</td>\n",
       "    </tr>\n",
       "    <tr>\n",
       "      <th>1967</th>\n",
       "      <td>judge exxon pay violate clean air act time</td>\n",
       "      <td>environment</td>\n",
       "    </tr>\n",
       "    <tr>\n",
       "      <th>10143</th>\n",
       "      <td>how got hepatitis drug for buy from india</td>\n",
       "      <td>business</td>\n",
       "    </tr>\n",
       "    <tr>\n",
       "      <th>3306</th>\n",
       "      <td>the rich world need high real wage growth</td>\n",
       "      <td>economics</td>\n",
       "    </tr>\n",
       "    <tr>\n",
       "      <th>901</th>\n",
       "      <td>science mantra administration reveal lobbyist ...</td>\n",
       "      <td>environment</td>\n",
       "    </tr>\n",
       "    <tr>\n",
       "      <th>3360</th>\n",
       "      <td>chinese pour real estate study investment set ...</td>\n",
       "      <td>economics</td>\n",
       "    </tr>\n",
       "    <tr>\n",
       "      <th>9056</th>\n",
       "      <td>female overwatch player harass minute upload y...</td>\n",
       "      <td>feminism</td>\n",
       "    </tr>\n",
       "  </tbody>\n",
       "</table>\n",
       "</div>"
      ],
      "text/plain": [
       "                                                    text     category\n",
       "10280  bill gates and other billionaires backing nucl...     business\n",
       "9882   fox employees walk eggshells heavy layoffs con...     business\n",
       "6623   high school sweetheart celebrate year cartagen...         lgbt\n",
       "7963   israel launch major strike target syria follow...          war\n",
       "1967          judge exxon pay violate clean air act time  environment\n",
       "10143          how got hepatitis drug for buy from india     business\n",
       "3306           the rich world need high real wage growth    economics\n",
       "901    science mantra administration reveal lobbyist ...  environment\n",
       "3360   chinese pour real estate study investment set ...    economics\n",
       "9056   female overwatch player harass minute upload y...     feminism"
      ]
     },
     "execution_count": 11,
     "metadata": {},
     "output_type": "execute_result"
    }
   ],
   "source": [
    "df_processed.sample(10)"
   ]
  },
  {
   "cell_type": "code",
   "execution_count": 12,
   "metadata": {},
   "outputs": [],
   "source": [
    "df_processed.to_csv(\"08_data_processed.pd\")"
   ]
  },
  {
   "cell_type": "code",
   "execution_count": null,
   "metadata": {},
   "outputs": [],
   "source": []
  }
 ],
 "metadata": {
  "kernelspec": {
   "display_name": "Python 3",
   "language": "python",
   "name": "python3"
  },
  "language_info": {
   "codemirror_mode": {
    "name": "ipython",
    "version": 3
   },
   "file_extension": ".py",
   "mimetype": "text/x-python",
   "name": "python",
   "nbconvert_exporter": "python",
   "pygments_lexer": "ipython3",
   "version": "3.6.8"
  }
 },
 "nbformat": 4,
 "nbformat_minor": 2
}
